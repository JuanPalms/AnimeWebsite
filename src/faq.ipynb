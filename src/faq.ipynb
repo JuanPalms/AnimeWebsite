{
 "cells": [
  {
   "cell_type": "markdown",
   "id": "9e092691-b201-4d21-9c98-006bd7add7a1",
   "metadata": {},
   "source": [
    "# Preguntas más frecuentes (FAQ)\n",
    "\n",
    "1. **¿El producto se adquiere de forma permanente o bajo suscripción?**\n",
    "   - En este momento, la única forma de obtener nuestros servicios es mediante una suscripción anual, la cual deberá renovarse para seguir accediendo a las actualizaciones de los rankings y a la información sobre nuevos animes.\n",
    "\n",
    "2. **¿Con qué tipo de información cuentan?**\n",
    "   - Nuestro servicio proporciona información detallada sobre animes, incluyendo:\n",
    "     - Título del anime.\n",
    "     - Calificación promedio asignada por los usuarios.\n",
    "     - Ranking del anime basado en las calificaciones recibidas.\n",
    "     - Popularidad del anime (número de personas que registraron haberlo visto).\n",
    "     - Estudio de animación responsable de su producción.\n",
    "     - Temática del anime.\n",
    "     - Demografía a la que está dirigido el anime.\n",
    "     - Fecha de emisión.\n",
    "     - Número de capítulos emitidos.\n",
    "\n",
    "3. **¿Cuántos usuarios incluye mi suscripción?**\n",
    "   - Ofrecemos tres modalidades de suscripción, que se ajustan al número de usuarios que necesites:\n",
    "     - Básica: 1 usuario.\n",
    "     - Intermedia: 5 usuarios.\n",
    "     - Equipo de análisis: 10 usuarios.\n",
    "\n",
    "4. **¿Cada cuánto se actualiza la información?**\n",
    "   - Entendemos que la industria del anime es muy dinámica, por lo que mantenemos nuestra información actualizada semanalmente.\n",
    "\n",
    "5. **¿Qué información está incluida en mi suscripción?**\n",
    "   - Tu suscripción te da acceso a información de todos los animes disponibles en la página My Anime List. Sin embargo, puedes personalizar tu suscripción para obtener información sobre categorías específicas. Ten en cuenta que cualquier personalización puede modificar el precio de la suscripción.\n",
    "\n",
    "6. **¿Cómo puedo acceder a su producto?**\n",
    "   - Deberás generar una cuenta en nuestro sitio web antes de realizar la compra. Una vez elegida la modalidad de suscripción que mejor se adapta a tus necesidades y realizada la transacción, habilitaremos los distintos beneficios de tu suscripción en tu cuenta. Actualmente, el acceso a la información se realiza a través de nuestra página web, ya que nuestra aplicación móvil aún está en desarrollo.\n",
    "\n",
    "7. **¿Qué pasa si algún miembro de mi equipo no es muy bueno con la tecnología y no sabe usar su plataforma?**\n",
    "   - Hemos diseñado nuestra página web para que sea fácil de usar. Sin embargo, si surgen problemas, tenemos a tu disposición varios tutoriales en nuestra sección de ayuda. Si necesitas más asistencia, no dudes en ponerte en contacto con nosotros.\n"
   ]
  },
  {
   "cell_type": "code",
   "execution_count": null,
   "id": "afebee4e-79c2-4aa2-b09f-158cecccfcab",
   "metadata": {},
   "outputs": [],
   "source": []
  }
 ],
 "metadata": {
  "kernelspec": {
   "display_name": "Python 3 (ipykernel)",
   "language": "python",
   "name": "python3"
  },
  "language_info": {
   "codemirror_mode": {
    "name": "ipython",
    "version": 3
   },
   "file_extension": ".py",
   "mimetype": "text/x-python",
   "name": "python",
   "nbconvert_exporter": "python",
   "pygments_lexer": "ipython3",
   "version": "3.10.11"
  }
 },
 "nbformat": 4,
 "nbformat_minor": 5
}
