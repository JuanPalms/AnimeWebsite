{
 "cells": [
  {
   "cell_type": "raw",
   "id": "9b78b872-bb6c-4275-b970-2ae7f892ff31",
   "metadata": {},
   "source": [
    "---\n",
    "title: \"Lo Top de lo Top\"\n",
    "execute: \n",
    "  enabled: true\n",
    "  echo: false\n",
    "code-annotations: none\n",
    "---"
   ]
  },
  {
   "cell_type": "code",
   "execution_count": 1,
   "id": "b27c269d-e58a-4cfe-b47c-f1c3bdb4758d",
   "metadata": {},
   "outputs": [],
   "source": [
    "import pandas as pd\n",
    "import matplotlib.pyplot as plt\n",
    "import os\n",
    "from utils import load_config, tabulacion, apply_format\n",
    "import numpy as np\n",
    "import plotly.graph_objects as go\n",
    "import ipywidgets as widgets\n",
    "from IPython.display import display\n",
    "import plotly.graph_objects as go"
   ]
  },
  {
   "cell_type": "code",
   "execution_count": 2,
   "id": "e0bee492-76c5-4926-aa71-2793d5383e97",
   "metadata": {},
   "outputs": [],
   "source": [
    "CURRENT=os.getcwd()\n",
    "ROOT=os.path.dirname(CURRENT)"
   ]
  },
  {
   "cell_type": "code",
   "execution_count": 3,
   "id": "b848997d-98ff-494e-99dd-9eea85d7d066",
   "metadata": {},
   "outputs": [],
   "source": [
    "config_f=load_config(\"config.yaml\")"
   ]
  },
  {
   "cell_type": "code",
   "execution_count": 4,
   "id": "2ec7a0d9-f32d-4852-8b6c-36122db852d8",
   "metadata": {},
   "outputs": [],
   "source": [
    "datos=pd.read_csv(os.path.join(ROOT,config_f[\"data\"][\"main\"]))\n",
    "genres=pd.read_csv(os.path.join(ROOT,config_f[\"data\"][\"cat_genres\"]))\n",
    "themes=pd.read_csv(os.path.join(ROOT,config_f[\"data\"][\"cat_themes\"]))"
   ]
  },
  {
   "cell_type": "code",
   "execution_count": 5,
   "id": "15ea059c-061b-4f6f-bff3-760f5fc172ee",
   "metadata": {},
   "outputs": [],
   "source": [
    "datos_display=datos[['ranking', 'score', 'title', 'studio', 'themes', 'genres',\n",
    "       'demographics', 'number_episodes', 'members','year']]\\\n",
    "    .assign(\n",
    "        themes = lambda df_: df_.themes\\\n",
    "            .str.replace(\"_\",\" \", regex=True)\\\n",
    "            .str.replace(\"\\[\",\"\", regex=True)\\\n",
    "            .str.replace(\"\\]\",\"\", regex=True)\\\n",
    "            .str.replace(\"\\'\",\"\", regex=True),\n",
    "        genres = lambda df_: df_.genres\\\n",
    "            .str.replace(\"_\",\" \", regex=True)\\\n",
    "            .str.replace(\"\\[\",\"\", regex=True)\\\n",
    "            .str.replace(\"\\]\",\"\", regex=True)\\\n",
    "            .str.replace(\"\\'\",\"\", regex=True),\n",
    "        studio = lambda df_:df_.studio\\\n",
    "            .str.replace(\"_\",\" \", regex=True)\\\n",
    "            .str.capitalize()\n",
    "    )"
   ]
  },
  {
   "cell_type": "markdown",
   "id": "d35819e9-6364-45ab-8ca9-9549e6d92435",
   "metadata": {},
   "source": [
    "### Top Animes con mejor calificación promedio:"
   ]
  },
  {
   "attachments": {},
   "cell_type": "markdown",
   "id": "0ac3a342-fd17-4eb5-aecb-d263c909d9e5",
   "metadata": {},
   "source": [
    "<p float=\"left\">\n",
    "  <img src=\"images/FMa.jpe\" width=\"25%\" height=\"200\" />\n",
    "  <img src=\"images/oshinoko1.jpg\" width=\"35%\" height=\"200\"/> \n",
    "  <img src=\"images/450_1000.jpeg\" width=\"30%\" height=\"200\" />\n",
    "</p>\n"
   ]
  },
  {
   "cell_type": "code",
   "execution_count": 6,
   "id": "cc34ffee-3890-439e-825e-1ed1cdf47512",
   "metadata": {
    "tags": []
   },
   "outputs": [
    {
     "data": {
      "text/html": [
       "        <script type=\"text/javascript\">\n",
       "        window.PlotlyConfig = {MathJaxConfig: 'local'};\n",
       "        if (window.MathJax && window.MathJax.Hub && window.MathJax.Hub.Config) {window.MathJax.Hub.Config({SVG: {font: \"STIX-Web\"}});}\n",
       "        if (typeof require !== 'undefined') {\n",
       "        require.undef(\"plotly\");\n",
       "        requirejs.config({\n",
       "            paths: {\n",
       "                'plotly': ['https://cdn.plot.ly/plotly-2.20.0.min']\n",
       "            }\n",
       "        });\n",
       "        require(['plotly'], function(Plotly) {\n",
       "            window._Plotly = Plotly;\n",
       "        });\n",
       "        }\n",
       "        </script>\n",
       "        "
      ]
     },
     "metadata": {},
     "output_type": "display_data"
    },
    {
     "data": {
      "text/html": [
       "<div>                            <div id=\"4217b071-04c7-4ed4-96f0-7c9726f8cb9f\" class=\"plotly-graph-div\" style=\"height:445px; width:600px;\"></div>            <script type=\"text/javascript\">                require([\"plotly\"], function(Plotly) {                    window.PLOTLYENV=window.PLOTLYENV || {};                                    if (document.getElementById(\"4217b071-04c7-4ed4-96f0-7c9726f8cb9f\")) {                    Plotly.newPlot(                        \"4217b071-04c7-4ed4-96f0-7c9726f8cb9f\",                        [{\"cells\":{\"align\":\"left\",\"fill\":{\"color\":[\"lightgrey\",\"white\"]},\"font\":{\"color\":\"darkslategray\",\"family\":\"Arial\",\"size\":11},\"height\":30,\"line\":{\"color\":\"darkslategray\"},\"values\":[[1,2,3,4,5,6,7,8,9,10],[9.1,9.08,9.08,9.08,9.07,9.07,9.06,9.06,9.05,9.04],[\"Fullmetal Alchemist: Brotherhood\",\"\\\"Oshi no Ko\\\"\",\"Shingeki no Kyojin: The Final Season - Kanketsu-hen\",\"Steins;Gate\",\"Bleach: Sennen Kessen-hen\",\"Gintama\\u00b0\",\"Kaguya-sama wa Kokurasetai: Ultra Romantic\",\"Shingeki no Kyojin Season 3 Part 2\",\"Gintama: The Final\",\"Gintama'\"],[\"Bones\",\"Doga kobo\",\"Mappa\",\"White fox\",\"Pierrot\",\"Bandai namco pictures\",\"A 1 pictures\",\"Wit studio\",\"Bandai namco pictures\",\"Sunrise\"],[\"military\",\"reincarnation, showbiz\",\"gore, military, survival\",\"psychological, time travel\",\"not available\",\"gag humor, historical, parody, samurai\",\"school\",\"gore, military, survival\",\"gag humor, historical, parody, samurai\",\"gag humor, historical, parody, samurai\"],[\"shounen\",\"seinen\",\"shounen\",\"not_available\",\"shounen\",\"shounen\",\"seinen\",\"shounen\",\"shounen\",\"shounen\"]]},\"header\":{\"align\":\"left\",\"fill\":{\"color\":\"royalblue\"},\"font\":{\"color\":\"white\",\"family\":\"Arial\",\"size\":12},\"line\":{\"color\":\"darkslategray\"},\"values\":[\"<b>ranking</b>\",\"<b>Score promedio </b>\",\"<b>T\\u00edtulo</b>\",\"<b>Estudio</b>\",\"<b>Tem\\u00e1tica</b>\",\"<b>P\\u00fablico objetivo</b>\"]},\"type\":\"table\"}],                        {\"template\":{\"data\":{\"histogram2dcontour\":[{\"type\":\"histogram2dcontour\",\"colorbar\":{\"outlinewidth\":0,\"ticks\":\"\"},\"colorscale\":[[0.0,\"#0d0887\"],[0.1111111111111111,\"#46039f\"],[0.2222222222222222,\"#7201a8\"],[0.3333333333333333,\"#9c179e\"],[0.4444444444444444,\"#bd3786\"],[0.5555555555555556,\"#d8576b\"],[0.6666666666666666,\"#ed7953\"],[0.7777777777777778,\"#fb9f3a\"],[0.8888888888888888,\"#fdca26\"],[1.0,\"#f0f921\"]]}],\"choropleth\":[{\"type\":\"choropleth\",\"colorbar\":{\"outlinewidth\":0,\"ticks\":\"\"}}],\"histogram2d\":[{\"type\":\"histogram2d\",\"colorbar\":{\"outlinewidth\":0,\"ticks\":\"\"},\"colorscale\":[[0.0,\"#0d0887\"],[0.1111111111111111,\"#46039f\"],[0.2222222222222222,\"#7201a8\"],[0.3333333333333333,\"#9c179e\"],[0.4444444444444444,\"#bd3786\"],[0.5555555555555556,\"#d8576b\"],[0.6666666666666666,\"#ed7953\"],[0.7777777777777778,\"#fb9f3a\"],[0.8888888888888888,\"#fdca26\"],[1.0,\"#f0f921\"]]}],\"heatmap\":[{\"type\":\"heatmap\",\"colorbar\":{\"outlinewidth\":0,\"ticks\":\"\"},\"colorscale\":[[0.0,\"#0d0887\"],[0.1111111111111111,\"#46039f\"],[0.2222222222222222,\"#7201a8\"],[0.3333333333333333,\"#9c179e\"],[0.4444444444444444,\"#bd3786\"],[0.5555555555555556,\"#d8576b\"],[0.6666666666666666,\"#ed7953\"],[0.7777777777777778,\"#fb9f3a\"],[0.8888888888888888,\"#fdca26\"],[1.0,\"#f0f921\"]]}],\"heatmapgl\":[{\"type\":\"heatmapgl\",\"colorbar\":{\"outlinewidth\":0,\"ticks\":\"\"},\"colorscale\":[[0.0,\"#0d0887\"],[0.1111111111111111,\"#46039f\"],[0.2222222222222222,\"#7201a8\"],[0.3333333333333333,\"#9c179e\"],[0.4444444444444444,\"#bd3786\"],[0.5555555555555556,\"#d8576b\"],[0.6666666666666666,\"#ed7953\"],[0.7777777777777778,\"#fb9f3a\"],[0.8888888888888888,\"#fdca26\"],[1.0,\"#f0f921\"]]}],\"contourcarpet\":[{\"type\":\"contourcarpet\",\"colorbar\":{\"outlinewidth\":0,\"ticks\":\"\"}}],\"contour\":[{\"type\":\"contour\",\"colorbar\":{\"outlinewidth\":0,\"ticks\":\"\"},\"colorscale\":[[0.0,\"#0d0887\"],[0.1111111111111111,\"#46039f\"],[0.2222222222222222,\"#7201a8\"],[0.3333333333333333,\"#9c179e\"],[0.4444444444444444,\"#bd3786\"],[0.5555555555555556,\"#d8576b\"],[0.6666666666666666,\"#ed7953\"],[0.7777777777777778,\"#fb9f3a\"],[0.8888888888888888,\"#fdca26\"],[1.0,\"#f0f921\"]]}],\"surface\":[{\"type\":\"surface\",\"colorbar\":{\"outlinewidth\":0,\"ticks\":\"\"},\"colorscale\":[[0.0,\"#0d0887\"],[0.1111111111111111,\"#46039f\"],[0.2222222222222222,\"#7201a8\"],[0.3333333333333333,\"#9c179e\"],[0.4444444444444444,\"#bd3786\"],[0.5555555555555556,\"#d8576b\"],[0.6666666666666666,\"#ed7953\"],[0.7777777777777778,\"#fb9f3a\"],[0.8888888888888888,\"#fdca26\"],[1.0,\"#f0f921\"]]}],\"mesh3d\":[{\"type\":\"mesh3d\",\"colorbar\":{\"outlinewidth\":0,\"ticks\":\"\"}}],\"scatter\":[{\"fillpattern\":{\"fillmode\":\"overlay\",\"size\":10,\"solidity\":0.2},\"type\":\"scatter\"}],\"parcoords\":[{\"type\":\"parcoords\",\"line\":{\"colorbar\":{\"outlinewidth\":0,\"ticks\":\"\"}}}],\"scatterpolargl\":[{\"type\":\"scatterpolargl\",\"marker\":{\"colorbar\":{\"outlinewidth\":0,\"ticks\":\"\"}}}],\"bar\":[{\"error_x\":{\"color\":\"#2a3f5f\"},\"error_y\":{\"color\":\"#2a3f5f\"},\"marker\":{\"line\":{\"color\":\"#E5ECF6\",\"width\":0.5},\"pattern\":{\"fillmode\":\"overlay\",\"size\":10,\"solidity\":0.2}},\"type\":\"bar\"}],\"scattergeo\":[{\"type\":\"scattergeo\",\"marker\":{\"colorbar\":{\"outlinewidth\":0,\"ticks\":\"\"}}}],\"scatterpolar\":[{\"type\":\"scatterpolar\",\"marker\":{\"colorbar\":{\"outlinewidth\":0,\"ticks\":\"\"}}}],\"histogram\":[{\"marker\":{\"pattern\":{\"fillmode\":\"overlay\",\"size\":10,\"solidity\":0.2}},\"type\":\"histogram\"}],\"scattergl\":[{\"type\":\"scattergl\",\"marker\":{\"colorbar\":{\"outlinewidth\":0,\"ticks\":\"\"}}}],\"scatter3d\":[{\"type\":\"scatter3d\",\"line\":{\"colorbar\":{\"outlinewidth\":0,\"ticks\":\"\"}},\"marker\":{\"colorbar\":{\"outlinewidth\":0,\"ticks\":\"\"}}}],\"scattermapbox\":[{\"type\":\"scattermapbox\",\"marker\":{\"colorbar\":{\"outlinewidth\":0,\"ticks\":\"\"}}}],\"scatterternary\":[{\"type\":\"scatterternary\",\"marker\":{\"colorbar\":{\"outlinewidth\":0,\"ticks\":\"\"}}}],\"scattercarpet\":[{\"type\":\"scattercarpet\",\"marker\":{\"colorbar\":{\"outlinewidth\":0,\"ticks\":\"\"}}}],\"carpet\":[{\"aaxis\":{\"endlinecolor\":\"#2a3f5f\",\"gridcolor\":\"white\",\"linecolor\":\"white\",\"minorgridcolor\":\"white\",\"startlinecolor\":\"#2a3f5f\"},\"baxis\":{\"endlinecolor\":\"#2a3f5f\",\"gridcolor\":\"white\",\"linecolor\":\"white\",\"minorgridcolor\":\"white\",\"startlinecolor\":\"#2a3f5f\"},\"type\":\"carpet\"}],\"table\":[{\"cells\":{\"fill\":{\"color\":\"#EBF0F8\"},\"line\":{\"color\":\"white\"}},\"header\":{\"fill\":{\"color\":\"#C8D4E3\"},\"line\":{\"color\":\"white\"}},\"type\":\"table\"}],\"barpolar\":[{\"marker\":{\"line\":{\"color\":\"#E5ECF6\",\"width\":0.5},\"pattern\":{\"fillmode\":\"overlay\",\"size\":10,\"solidity\":0.2}},\"type\":\"barpolar\"}],\"pie\":[{\"automargin\":true,\"type\":\"pie\"}]},\"layout\":{\"autotypenumbers\":\"strict\",\"colorway\":[\"#636efa\",\"#EF553B\",\"#00cc96\",\"#ab63fa\",\"#FFA15A\",\"#19d3f3\",\"#FF6692\",\"#B6E880\",\"#FF97FF\",\"#FECB52\"],\"font\":{\"color\":\"#2a3f5f\"},\"hovermode\":\"closest\",\"hoverlabel\":{\"align\":\"left\"},\"paper_bgcolor\":\"white\",\"plot_bgcolor\":\"#E5ECF6\",\"polar\":{\"bgcolor\":\"#E5ECF6\",\"angularaxis\":{\"gridcolor\":\"white\",\"linecolor\":\"white\",\"ticks\":\"\"},\"radialaxis\":{\"gridcolor\":\"white\",\"linecolor\":\"white\",\"ticks\":\"\"}},\"ternary\":{\"bgcolor\":\"#E5ECF6\",\"aaxis\":{\"gridcolor\":\"white\",\"linecolor\":\"white\",\"ticks\":\"\"},\"baxis\":{\"gridcolor\":\"white\",\"linecolor\":\"white\",\"ticks\":\"\"},\"caxis\":{\"gridcolor\":\"white\",\"linecolor\":\"white\",\"ticks\":\"\"}},\"coloraxis\":{\"colorbar\":{\"outlinewidth\":0,\"ticks\":\"\"}},\"colorscale\":{\"sequential\":[[0.0,\"#0d0887\"],[0.1111111111111111,\"#46039f\"],[0.2222222222222222,\"#7201a8\"],[0.3333333333333333,\"#9c179e\"],[0.4444444444444444,\"#bd3786\"],[0.5555555555555556,\"#d8576b\"],[0.6666666666666666,\"#ed7953\"],[0.7777777777777778,\"#fb9f3a\"],[0.8888888888888888,\"#fdca26\"],[1.0,\"#f0f921\"]],\"sequentialminus\":[[0.0,\"#0d0887\"],[0.1111111111111111,\"#46039f\"],[0.2222222222222222,\"#7201a8\"],[0.3333333333333333,\"#9c179e\"],[0.4444444444444444,\"#bd3786\"],[0.5555555555555556,\"#d8576b\"],[0.6666666666666666,\"#ed7953\"],[0.7777777777777778,\"#fb9f3a\"],[0.8888888888888888,\"#fdca26\"],[1.0,\"#f0f921\"]],\"diverging\":[[0,\"#8e0152\"],[0.1,\"#c51b7d\"],[0.2,\"#de77ae\"],[0.3,\"#f1b6da\"],[0.4,\"#fde0ef\"],[0.5,\"#f7f7f7\"],[0.6,\"#e6f5d0\"],[0.7,\"#b8e186\"],[0.8,\"#7fbc41\"],[0.9,\"#4d9221\"],[1,\"#276419\"]]},\"xaxis\":{\"gridcolor\":\"white\",\"linecolor\":\"white\",\"ticks\":\"\",\"title\":{\"standoff\":15},\"zerolinecolor\":\"white\",\"automargin\":true,\"zerolinewidth\":2},\"yaxis\":{\"gridcolor\":\"white\",\"linecolor\":\"white\",\"ticks\":\"\",\"title\":{\"standoff\":15},\"zerolinecolor\":\"white\",\"automargin\":true,\"zerolinewidth\":2},\"scene\":{\"xaxis\":{\"backgroundcolor\":\"#E5ECF6\",\"gridcolor\":\"white\",\"linecolor\":\"white\",\"showbackground\":true,\"ticks\":\"\",\"zerolinecolor\":\"white\",\"gridwidth\":2},\"yaxis\":{\"backgroundcolor\":\"#E5ECF6\",\"gridcolor\":\"white\",\"linecolor\":\"white\",\"showbackground\":true,\"ticks\":\"\",\"zerolinecolor\":\"white\",\"gridwidth\":2},\"zaxis\":{\"backgroundcolor\":\"#E5ECF6\",\"gridcolor\":\"white\",\"linecolor\":\"white\",\"showbackground\":true,\"ticks\":\"\",\"zerolinecolor\":\"white\",\"gridwidth\":2}},\"shapedefaults\":{\"line\":{\"color\":\"#2a3f5f\"}},\"annotationdefaults\":{\"arrowcolor\":\"#2a3f5f\",\"arrowhead\":0,\"arrowwidth\":1},\"geo\":{\"bgcolor\":\"white\",\"landcolor\":\"#E5ECF6\",\"subunitcolor\":\"white\",\"showland\":true,\"showlakes\":true,\"lakecolor\":\"white\"},\"title\":{\"x\":0.05},\"mapbox\":{\"style\":\"light\"}}},\"margin\":{\"l\":0,\"r\":0,\"b\":0,\"t\":0,\"pad\":5},\"autosize\":false,\"width\":600,\"height\":445,\"paper_bgcolor\":\"lightgrey\"},                        {\"responsive\": true}                    ).then(function(){\n",
       "                            \n",
       "var gd = document.getElementById('4217b071-04c7-4ed4-96f0-7c9726f8cb9f');\n",
       "var x = new MutationObserver(function (mutations, observer) {{\n",
       "        var display = window.getComputedStyle(gd).display;\n",
       "        if (!display || display === 'none') {{\n",
       "            console.log([gd, 'removed!']);\n",
       "            Plotly.purge(gd);\n",
       "            observer.disconnect();\n",
       "        }}\n",
       "}});\n",
       "\n",
       "// Listen for the removal of the full notebook cells\n",
       "var notebookContainer = gd.closest('#notebook-container');\n",
       "if (notebookContainer) {{\n",
       "    x.observe(notebookContainer, {childList: true});\n",
       "}}\n",
       "\n",
       "// Listen for the clearing of the current output cell\n",
       "var outputEl = gd.closest('.output');\n",
       "if (outputEl) {{\n",
       "    x.observe(outputEl, {childList: true});\n",
       "}}\n",
       "\n",
       "                        })                };                });            </script>        </div>"
      ]
     },
     "metadata": {},
     "output_type": "display_data"
    }
   ],
   "source": [
    "top_10_animes=apply_format(datos_display.head(10))\n",
    "columnas_top1=['ranking', 'Score promedio ', 'Título', 'Estudio', 'Temática', 'Público objetivo']\n",
    "tabulacion(top_10_animes, columnas_top1, top_margin=0, bottom_margin=0, left_margin=0, right_margin=0, w=600, h=445)"
   ]
  },
  {
   "cell_type": "markdown",
   "id": "30609dff-2c12-4941-af4f-b1fd956a3edd",
   "metadata": {},
   "source": [
    "<br>\n",
    "<br>\n",
    "<br>\n"
   ]
  },
  {
   "cell_type": "markdown",
   "id": "9b2321e3-f0d5-490b-9b89-bf85c56f4d0e",
   "metadata": {},
   "source": [
    "### Top animes populares"
   ]
  },
  {
   "attachments": {},
   "cell_type": "markdown",
   "id": "c0591b37-5278-42c4-bce3-7aeb2a7352c0",
   "metadata": {},
   "source": [
    "<p float=\"left\">\n",
    "  <img src=\"images/450_1000.jpeg\" width=\"25%\" height=\"200\" />\n",
    "  <img src=\"images/desnoto.jpeg\" width=\"35%\" height=\"200\"/> \n",
    "  <img src=\"images/FMa.jpe\" width=\"30%\" height=\"200\" />\n",
    "</p>\n"
   ]
  },
  {
   "cell_type": "code",
   "execution_count": 7,
   "id": "04ff46df-22fa-4ddd-a572-d6eb532cb29a",
   "metadata": {
    "tags": []
   },
   "outputs": [
    {
     "data": {
      "text/html": [
       "<div>                            <div id=\"932bf1d5-47f6-43a4-960c-b4147424bacc\" class=\"plotly-graph-div\" style=\"height:430px; width:650px;\"></div>            <script type=\"text/javascript\">                require([\"plotly\"], function(Plotly) {                    window.PLOTLYENV=window.PLOTLYENV || {};                                    if (document.getElementById(\"932bf1d5-47f6-43a4-960c-b4147424bacc\")) {                    Plotly.newPlot(                        \"932bf1d5-47f6-43a4-960c-b4147424bacc\",                        [{\"cells\":{\"align\":\"left\",\"fill\":{\"color\":[\"lightgrey\",\"white\"]},\"font\":{\"color\":\"darkslategray\",\"family\":\"Arial\",\"size\":11},\"height\":30,\"line\":{\"color\":\"darkslategray\"},\"values\":[[110,75,1,124,3067,731,122,615,950,11],[8.53,8.62,9.1,8.5,7.2,7.9,8.51,7.98,7.79,9.04],[\"Shingeki no Kyojin\",\"Death Note\",\"Fullmetal Alchemist: Brotherhood\",\"One Punch Man\",\"Sword Art Online\",\"Boku no Hero Academia\",\"Kimetsu no Yaiba\",\"Naruto\",\"Tokyo Ghoul\",\"Hunter x Hunter (2011)\"],[\"Wit studio\",\"Madhouse\",\"Bones\",\"Madhouse\",\"A 1 pictures\",\"Bones\",\"Ufotable\",\"Pierrot\",\"Pierrot\",\"Madhouse\"],[\"gore, military, survival\",\"detective, psychological\",\"military\",\"adult cast, parody, super power\",\"love polygon, video game\",\"school, super power\",\"historical\",\"martial arts\",\"gore, psychological\",\"not available\"],[\"shounen\",\"shounen\",\"shounen\",\"seinen\",\"not_available\",\"shounen\",\"shounen\",\"shounen\",\"seinen\",\"shounen\"],[\"3,715,906\",\"3,684,851\",\"3,149,847\",\"3,035,122\",\"2,934,146\",\"2,861,314\",\"2,772,253\",\"2,696,759\",\"2,681,204\",\"2,631,460\"]]},\"header\":{\"align\":\"left\",\"fill\":{\"color\":\"royalblue\"},\"font\":{\"color\":\"white\",\"family\":\"Arial\",\"size\":12},\"line\":{\"color\":\"darkslategray\"},\"values\":[\"<b>ranking</b>\",\"<b>Score promedio </b>\",\"<b>T\\u00edtulo</b>\",\"<b>Estudio</b>\",\"<b>Tem\\u00e1tica</b>\",\"<b>P\\u00fablico objetivo</b>\",\"<b>Popularidad</b>\"]},\"type\":\"table\"}],                        {\"template\":{\"data\":{\"histogram2dcontour\":[{\"type\":\"histogram2dcontour\",\"colorbar\":{\"outlinewidth\":0,\"ticks\":\"\"},\"colorscale\":[[0.0,\"#0d0887\"],[0.1111111111111111,\"#46039f\"],[0.2222222222222222,\"#7201a8\"],[0.3333333333333333,\"#9c179e\"],[0.4444444444444444,\"#bd3786\"],[0.5555555555555556,\"#d8576b\"],[0.6666666666666666,\"#ed7953\"],[0.7777777777777778,\"#fb9f3a\"],[0.8888888888888888,\"#fdca26\"],[1.0,\"#f0f921\"]]}],\"choropleth\":[{\"type\":\"choropleth\",\"colorbar\":{\"outlinewidth\":0,\"ticks\":\"\"}}],\"histogram2d\":[{\"type\":\"histogram2d\",\"colorbar\":{\"outlinewidth\":0,\"ticks\":\"\"},\"colorscale\":[[0.0,\"#0d0887\"],[0.1111111111111111,\"#46039f\"],[0.2222222222222222,\"#7201a8\"],[0.3333333333333333,\"#9c179e\"],[0.4444444444444444,\"#bd3786\"],[0.5555555555555556,\"#d8576b\"],[0.6666666666666666,\"#ed7953\"],[0.7777777777777778,\"#fb9f3a\"],[0.8888888888888888,\"#fdca26\"],[1.0,\"#f0f921\"]]}],\"heatmap\":[{\"type\":\"heatmap\",\"colorbar\":{\"outlinewidth\":0,\"ticks\":\"\"},\"colorscale\":[[0.0,\"#0d0887\"],[0.1111111111111111,\"#46039f\"],[0.2222222222222222,\"#7201a8\"],[0.3333333333333333,\"#9c179e\"],[0.4444444444444444,\"#bd3786\"],[0.5555555555555556,\"#d8576b\"],[0.6666666666666666,\"#ed7953\"],[0.7777777777777778,\"#fb9f3a\"],[0.8888888888888888,\"#fdca26\"],[1.0,\"#f0f921\"]]}],\"heatmapgl\":[{\"type\":\"heatmapgl\",\"colorbar\":{\"outlinewidth\":0,\"ticks\":\"\"},\"colorscale\":[[0.0,\"#0d0887\"],[0.1111111111111111,\"#46039f\"],[0.2222222222222222,\"#7201a8\"],[0.3333333333333333,\"#9c179e\"],[0.4444444444444444,\"#bd3786\"],[0.5555555555555556,\"#d8576b\"],[0.6666666666666666,\"#ed7953\"],[0.7777777777777778,\"#fb9f3a\"],[0.8888888888888888,\"#fdca26\"],[1.0,\"#f0f921\"]]}],\"contourcarpet\":[{\"type\":\"contourcarpet\",\"colorbar\":{\"outlinewidth\":0,\"ticks\":\"\"}}],\"contour\":[{\"type\":\"contour\",\"colorbar\":{\"outlinewidth\":0,\"ticks\":\"\"},\"colorscale\":[[0.0,\"#0d0887\"],[0.1111111111111111,\"#46039f\"],[0.2222222222222222,\"#7201a8\"],[0.3333333333333333,\"#9c179e\"],[0.4444444444444444,\"#bd3786\"],[0.5555555555555556,\"#d8576b\"],[0.6666666666666666,\"#ed7953\"],[0.7777777777777778,\"#fb9f3a\"],[0.8888888888888888,\"#fdca26\"],[1.0,\"#f0f921\"]]}],\"surface\":[{\"type\":\"surface\",\"colorbar\":{\"outlinewidth\":0,\"ticks\":\"\"},\"colorscale\":[[0.0,\"#0d0887\"],[0.1111111111111111,\"#46039f\"],[0.2222222222222222,\"#7201a8\"],[0.3333333333333333,\"#9c179e\"],[0.4444444444444444,\"#bd3786\"],[0.5555555555555556,\"#d8576b\"],[0.6666666666666666,\"#ed7953\"],[0.7777777777777778,\"#fb9f3a\"],[0.8888888888888888,\"#fdca26\"],[1.0,\"#f0f921\"]]}],\"mesh3d\":[{\"type\":\"mesh3d\",\"colorbar\":{\"outlinewidth\":0,\"ticks\":\"\"}}],\"scatter\":[{\"fillpattern\":{\"fillmode\":\"overlay\",\"size\":10,\"solidity\":0.2},\"type\":\"scatter\"}],\"parcoords\":[{\"type\":\"parcoords\",\"line\":{\"colorbar\":{\"outlinewidth\":0,\"ticks\":\"\"}}}],\"scatterpolargl\":[{\"type\":\"scatterpolargl\",\"marker\":{\"colorbar\":{\"outlinewidth\":0,\"ticks\":\"\"}}}],\"bar\":[{\"error_x\":{\"color\":\"#2a3f5f\"},\"error_y\":{\"color\":\"#2a3f5f\"},\"marker\":{\"line\":{\"color\":\"#E5ECF6\",\"width\":0.5},\"pattern\":{\"fillmode\":\"overlay\",\"size\":10,\"solidity\":0.2}},\"type\":\"bar\"}],\"scattergeo\":[{\"type\":\"scattergeo\",\"marker\":{\"colorbar\":{\"outlinewidth\":0,\"ticks\":\"\"}}}],\"scatterpolar\":[{\"type\":\"scatterpolar\",\"marker\":{\"colorbar\":{\"outlinewidth\":0,\"ticks\":\"\"}}}],\"histogram\":[{\"marker\":{\"pattern\":{\"fillmode\":\"overlay\",\"size\":10,\"solidity\":0.2}},\"type\":\"histogram\"}],\"scattergl\":[{\"type\":\"scattergl\",\"marker\":{\"colorbar\":{\"outlinewidth\":0,\"ticks\":\"\"}}}],\"scatter3d\":[{\"type\":\"scatter3d\",\"line\":{\"colorbar\":{\"outlinewidth\":0,\"ticks\":\"\"}},\"marker\":{\"colorbar\":{\"outlinewidth\":0,\"ticks\":\"\"}}}],\"scattermapbox\":[{\"type\":\"scattermapbox\",\"marker\":{\"colorbar\":{\"outlinewidth\":0,\"ticks\":\"\"}}}],\"scatterternary\":[{\"type\":\"scatterternary\",\"marker\":{\"colorbar\":{\"outlinewidth\":0,\"ticks\":\"\"}}}],\"scattercarpet\":[{\"type\":\"scattercarpet\",\"marker\":{\"colorbar\":{\"outlinewidth\":0,\"ticks\":\"\"}}}],\"carpet\":[{\"aaxis\":{\"endlinecolor\":\"#2a3f5f\",\"gridcolor\":\"white\",\"linecolor\":\"white\",\"minorgridcolor\":\"white\",\"startlinecolor\":\"#2a3f5f\"},\"baxis\":{\"endlinecolor\":\"#2a3f5f\",\"gridcolor\":\"white\",\"linecolor\":\"white\",\"minorgridcolor\":\"white\",\"startlinecolor\":\"#2a3f5f\"},\"type\":\"carpet\"}],\"table\":[{\"cells\":{\"fill\":{\"color\":\"#EBF0F8\"},\"line\":{\"color\":\"white\"}},\"header\":{\"fill\":{\"color\":\"#C8D4E3\"},\"line\":{\"color\":\"white\"}},\"type\":\"table\"}],\"barpolar\":[{\"marker\":{\"line\":{\"color\":\"#E5ECF6\",\"width\":0.5},\"pattern\":{\"fillmode\":\"overlay\",\"size\":10,\"solidity\":0.2}},\"type\":\"barpolar\"}],\"pie\":[{\"automargin\":true,\"type\":\"pie\"}]},\"layout\":{\"autotypenumbers\":\"strict\",\"colorway\":[\"#636efa\",\"#EF553B\",\"#00cc96\",\"#ab63fa\",\"#FFA15A\",\"#19d3f3\",\"#FF6692\",\"#B6E880\",\"#FF97FF\",\"#FECB52\"],\"font\":{\"color\":\"#2a3f5f\"},\"hovermode\":\"closest\",\"hoverlabel\":{\"align\":\"left\"},\"paper_bgcolor\":\"white\",\"plot_bgcolor\":\"#E5ECF6\",\"polar\":{\"bgcolor\":\"#E5ECF6\",\"angularaxis\":{\"gridcolor\":\"white\",\"linecolor\":\"white\",\"ticks\":\"\"},\"radialaxis\":{\"gridcolor\":\"white\",\"linecolor\":\"white\",\"ticks\":\"\"}},\"ternary\":{\"bgcolor\":\"#E5ECF6\",\"aaxis\":{\"gridcolor\":\"white\",\"linecolor\":\"white\",\"ticks\":\"\"},\"baxis\":{\"gridcolor\":\"white\",\"linecolor\":\"white\",\"ticks\":\"\"},\"caxis\":{\"gridcolor\":\"white\",\"linecolor\":\"white\",\"ticks\":\"\"}},\"coloraxis\":{\"colorbar\":{\"outlinewidth\":0,\"ticks\":\"\"}},\"colorscale\":{\"sequential\":[[0.0,\"#0d0887\"],[0.1111111111111111,\"#46039f\"],[0.2222222222222222,\"#7201a8\"],[0.3333333333333333,\"#9c179e\"],[0.4444444444444444,\"#bd3786\"],[0.5555555555555556,\"#d8576b\"],[0.6666666666666666,\"#ed7953\"],[0.7777777777777778,\"#fb9f3a\"],[0.8888888888888888,\"#fdca26\"],[1.0,\"#f0f921\"]],\"sequentialminus\":[[0.0,\"#0d0887\"],[0.1111111111111111,\"#46039f\"],[0.2222222222222222,\"#7201a8\"],[0.3333333333333333,\"#9c179e\"],[0.4444444444444444,\"#bd3786\"],[0.5555555555555556,\"#d8576b\"],[0.6666666666666666,\"#ed7953\"],[0.7777777777777778,\"#fb9f3a\"],[0.8888888888888888,\"#fdca26\"],[1.0,\"#f0f921\"]],\"diverging\":[[0,\"#8e0152\"],[0.1,\"#c51b7d\"],[0.2,\"#de77ae\"],[0.3,\"#f1b6da\"],[0.4,\"#fde0ef\"],[0.5,\"#f7f7f7\"],[0.6,\"#e6f5d0\"],[0.7,\"#b8e186\"],[0.8,\"#7fbc41\"],[0.9,\"#4d9221\"],[1,\"#276419\"]]},\"xaxis\":{\"gridcolor\":\"white\",\"linecolor\":\"white\",\"ticks\":\"\",\"title\":{\"standoff\":15},\"zerolinecolor\":\"white\",\"automargin\":true,\"zerolinewidth\":2},\"yaxis\":{\"gridcolor\":\"white\",\"linecolor\":\"white\",\"ticks\":\"\",\"title\":{\"standoff\":15},\"zerolinecolor\":\"white\",\"automargin\":true,\"zerolinewidth\":2},\"scene\":{\"xaxis\":{\"backgroundcolor\":\"#E5ECF6\",\"gridcolor\":\"white\",\"linecolor\":\"white\",\"showbackground\":true,\"ticks\":\"\",\"zerolinecolor\":\"white\",\"gridwidth\":2},\"yaxis\":{\"backgroundcolor\":\"#E5ECF6\",\"gridcolor\":\"white\",\"linecolor\":\"white\",\"showbackground\":true,\"ticks\":\"\",\"zerolinecolor\":\"white\",\"gridwidth\":2},\"zaxis\":{\"backgroundcolor\":\"#E5ECF6\",\"gridcolor\":\"white\",\"linecolor\":\"white\",\"showbackground\":true,\"ticks\":\"\",\"zerolinecolor\":\"white\",\"gridwidth\":2}},\"shapedefaults\":{\"line\":{\"color\":\"#2a3f5f\"}},\"annotationdefaults\":{\"arrowcolor\":\"#2a3f5f\",\"arrowhead\":0,\"arrowwidth\":1},\"geo\":{\"bgcolor\":\"white\",\"landcolor\":\"#E5ECF6\",\"subunitcolor\":\"white\",\"showland\":true,\"showlakes\":true,\"lakecolor\":\"white\"},\"title\":{\"x\":0.05},\"mapbox\":{\"style\":\"light\"}}},\"margin\":{\"l\":0,\"r\":0,\"b\":0,\"t\":0,\"pad\":5},\"autosize\":false,\"width\":650,\"height\":430,\"paper_bgcolor\":\"lightgrey\"},                        {\"responsive\": true}                    ).then(function(){\n",
       "                            \n",
       "var gd = document.getElementById('932bf1d5-47f6-43a4-960c-b4147424bacc');\n",
       "var x = new MutationObserver(function (mutations, observer) {{\n",
       "        var display = window.getComputedStyle(gd).display;\n",
       "        if (!display || display === 'none') {{\n",
       "            console.log([gd, 'removed!']);\n",
       "            Plotly.purge(gd);\n",
       "            observer.disconnect();\n",
       "        }}\n",
       "}});\n",
       "\n",
       "// Listen for the removal of the full notebook cells\n",
       "var notebookContainer = gd.closest('#notebook-container');\n",
       "if (notebookContainer) {{\n",
       "    x.observe(notebookContainer, {childList: true});\n",
       "}}\n",
       "\n",
       "// Listen for the clearing of the current output cell\n",
       "var outputEl = gd.closest('.output');\n",
       "if (outputEl) {{\n",
       "    x.observe(outputEl, {childList: true});\n",
       "}}\n",
       "\n",
       "                        })                };                });            </script>        </div>"
      ]
     },
     "metadata": {},
     "output_type": "display_data"
    }
   ],
   "source": [
    "most_popular_anime=apply_format(datos_display\\\n",
    "                                .sort_values(by=\"members\", ascending=False).head(10))\n",
    "columnas_toppop=['ranking', 'Score promedio ', 'Título', 'Estudio', 'Temática', 'Público objetivo', 'Popularidad']\n",
    "tabulacion(most_popular_anime, columnas_toppop, top_margin=0, bottom_margin=0, left_margin=0, right_margin=0, w=650, h=430)"
   ]
  },
  {
   "cell_type": "markdown",
   "id": "6ab6fe47-6e5c-4307-b028-6a4aa94f0d20",
   "metadata": {},
   "source": [
    "<br>\n",
    "<br>\n",
    "<br>\n"
   ]
  },
  {
   "cell_type": "markdown",
   "id": "17eb842f-e974-420f-8291-9a118fdc8e5b",
   "metadata": {},
   "source": [
    "### Top animes mas largos"
   ]
  },
  {
   "cell_type": "markdown",
   "id": "6d3f9e6d-bb6f-4b52-a4be-f07bc02c2df6",
   "metadata": {},
   "source": [
    "<p float=\"left\">\n",
    "  <img src=\"images/doraemon.jpg\" width=\"80%\" height=\"350\" />\n",
    "</p>\n"
   ]
  },
  {
   "cell_type": "code",
   "execution_count": 8,
   "id": "e4a99f65-9377-4163-a70c-6816da1b3483",
   "metadata": {},
   "outputs": [
    {
     "data": {
      "text/html": [
       "<div>                            <div id=\"45454ec6-52a6-438d-8e70-9664f2d14c1d\" class=\"plotly-graph-div\" style=\"height:220px; width:600px;\"></div>            <script type=\"text/javascript\">                require([\"plotly\"], function(Plotly) {                    window.PLOTLYENV=window.PLOTLYENV || {};                                    if (document.getElementById(\"45454ec6-52a6-438d-8e70-9664f2d14c1d\")) {                    Plotly.newPlot(                        \"45454ec6-52a6-438d-8e70-9664f2d14c1d\",                        [{\"cells\":{\"align\":\"left\",\"fill\":{\"color\":[\"lightgrey\",\"white\"]},\"font\":{\"color\":\"darkslategray\",\"family\":\"Arial\",\"size\":11},\"height\":30,\"line\":{\"color\":\"darkslategray\"},\"values\":[[9094,10827,942,10672,8295,9862,9795,10479,10487,10763],[5.96,5.5,7.79,5.55,6.13,5.77,5.79,5.61,5.61,5.52],[\"Lan Mao\",\"Oyako Club\",\"Doraemon (1979)\",\"Kirin Monoshiri Yakata\",\"Manga Nippon Mukashibanashi (1976)\",\"Hoka Hoka Kazoku\",\"Kirin Ashita no Calendar\",\"Monoshiri Daigaku: Ashita no Calendar\",\"Sekai Monoshiri Ryoko\",\"Kotowaza House\"],[\"3057\",\"1818\",\"1787\",\"1565\",\"1471\",\"1428\",\"1306\",\"1274\",\"1006\",\"773\"],[\"1999\",\"1994\",\"1979\",\"1975\",\"1976\",\"1976\",\"1980\",\"1966\",\"1971\",\"1987\"]]},\"header\":{\"align\":\"left\",\"fill\":{\"color\":\"royalblue\"},\"font\":{\"color\":\"white\",\"family\":\"Arial\",\"size\":12},\"line\":{\"color\":\"darkslategray\"},\"values\":[\"<b>ranking</b>\",\"<b>Score promedio </b>\",\"<b>T\\u00edtulo</b>\",\"<b>Episodios</b>\",\"<b>A\\u00f1o</b>\"]},\"type\":\"table\"}],                        {\"template\":{\"data\":{\"histogram2dcontour\":[{\"type\":\"histogram2dcontour\",\"colorbar\":{\"outlinewidth\":0,\"ticks\":\"\"},\"colorscale\":[[0.0,\"#0d0887\"],[0.1111111111111111,\"#46039f\"],[0.2222222222222222,\"#7201a8\"],[0.3333333333333333,\"#9c179e\"],[0.4444444444444444,\"#bd3786\"],[0.5555555555555556,\"#d8576b\"],[0.6666666666666666,\"#ed7953\"],[0.7777777777777778,\"#fb9f3a\"],[0.8888888888888888,\"#fdca26\"],[1.0,\"#f0f921\"]]}],\"choropleth\":[{\"type\":\"choropleth\",\"colorbar\":{\"outlinewidth\":0,\"ticks\":\"\"}}],\"histogram2d\":[{\"type\":\"histogram2d\",\"colorbar\":{\"outlinewidth\":0,\"ticks\":\"\"},\"colorscale\":[[0.0,\"#0d0887\"],[0.1111111111111111,\"#46039f\"],[0.2222222222222222,\"#7201a8\"],[0.3333333333333333,\"#9c179e\"],[0.4444444444444444,\"#bd3786\"],[0.5555555555555556,\"#d8576b\"],[0.6666666666666666,\"#ed7953\"],[0.7777777777777778,\"#fb9f3a\"],[0.8888888888888888,\"#fdca26\"],[1.0,\"#f0f921\"]]}],\"heatmap\":[{\"type\":\"heatmap\",\"colorbar\":{\"outlinewidth\":0,\"ticks\":\"\"},\"colorscale\":[[0.0,\"#0d0887\"],[0.1111111111111111,\"#46039f\"],[0.2222222222222222,\"#7201a8\"],[0.3333333333333333,\"#9c179e\"],[0.4444444444444444,\"#bd3786\"],[0.5555555555555556,\"#d8576b\"],[0.6666666666666666,\"#ed7953\"],[0.7777777777777778,\"#fb9f3a\"],[0.8888888888888888,\"#fdca26\"],[1.0,\"#f0f921\"]]}],\"heatmapgl\":[{\"type\":\"heatmapgl\",\"colorbar\":{\"outlinewidth\":0,\"ticks\":\"\"},\"colorscale\":[[0.0,\"#0d0887\"],[0.1111111111111111,\"#46039f\"],[0.2222222222222222,\"#7201a8\"],[0.3333333333333333,\"#9c179e\"],[0.4444444444444444,\"#bd3786\"],[0.5555555555555556,\"#d8576b\"],[0.6666666666666666,\"#ed7953\"],[0.7777777777777778,\"#fb9f3a\"],[0.8888888888888888,\"#fdca26\"],[1.0,\"#f0f921\"]]}],\"contourcarpet\":[{\"type\":\"contourcarpet\",\"colorbar\":{\"outlinewidth\":0,\"ticks\":\"\"}}],\"contour\":[{\"type\":\"contour\",\"colorbar\":{\"outlinewidth\":0,\"ticks\":\"\"},\"colorscale\":[[0.0,\"#0d0887\"],[0.1111111111111111,\"#46039f\"],[0.2222222222222222,\"#7201a8\"],[0.3333333333333333,\"#9c179e\"],[0.4444444444444444,\"#bd3786\"],[0.5555555555555556,\"#d8576b\"],[0.6666666666666666,\"#ed7953\"],[0.7777777777777778,\"#fb9f3a\"],[0.8888888888888888,\"#fdca26\"],[1.0,\"#f0f921\"]]}],\"surface\":[{\"type\":\"surface\",\"colorbar\":{\"outlinewidth\":0,\"ticks\":\"\"},\"colorscale\":[[0.0,\"#0d0887\"],[0.1111111111111111,\"#46039f\"],[0.2222222222222222,\"#7201a8\"],[0.3333333333333333,\"#9c179e\"],[0.4444444444444444,\"#bd3786\"],[0.5555555555555556,\"#d8576b\"],[0.6666666666666666,\"#ed7953\"],[0.7777777777777778,\"#fb9f3a\"],[0.8888888888888888,\"#fdca26\"],[1.0,\"#f0f921\"]]}],\"mesh3d\":[{\"type\":\"mesh3d\",\"colorbar\":{\"outlinewidth\":0,\"ticks\":\"\"}}],\"scatter\":[{\"fillpattern\":{\"fillmode\":\"overlay\",\"size\":10,\"solidity\":0.2},\"type\":\"scatter\"}],\"parcoords\":[{\"type\":\"parcoords\",\"line\":{\"colorbar\":{\"outlinewidth\":0,\"ticks\":\"\"}}}],\"scatterpolargl\":[{\"type\":\"scatterpolargl\",\"marker\":{\"colorbar\":{\"outlinewidth\":0,\"ticks\":\"\"}}}],\"bar\":[{\"error_x\":{\"color\":\"#2a3f5f\"},\"error_y\":{\"color\":\"#2a3f5f\"},\"marker\":{\"line\":{\"color\":\"#E5ECF6\",\"width\":0.5},\"pattern\":{\"fillmode\":\"overlay\",\"size\":10,\"solidity\":0.2}},\"type\":\"bar\"}],\"scattergeo\":[{\"type\":\"scattergeo\",\"marker\":{\"colorbar\":{\"outlinewidth\":0,\"ticks\":\"\"}}}],\"scatterpolar\":[{\"type\":\"scatterpolar\",\"marker\":{\"colorbar\":{\"outlinewidth\":0,\"ticks\":\"\"}}}],\"histogram\":[{\"marker\":{\"pattern\":{\"fillmode\":\"overlay\",\"size\":10,\"solidity\":0.2}},\"type\":\"histogram\"}],\"scattergl\":[{\"type\":\"scattergl\",\"marker\":{\"colorbar\":{\"outlinewidth\":0,\"ticks\":\"\"}}}],\"scatter3d\":[{\"type\":\"scatter3d\",\"line\":{\"colorbar\":{\"outlinewidth\":0,\"ticks\":\"\"}},\"marker\":{\"colorbar\":{\"outlinewidth\":0,\"ticks\":\"\"}}}],\"scattermapbox\":[{\"type\":\"scattermapbox\",\"marker\":{\"colorbar\":{\"outlinewidth\":0,\"ticks\":\"\"}}}],\"scatterternary\":[{\"type\":\"scatterternary\",\"marker\":{\"colorbar\":{\"outlinewidth\":0,\"ticks\":\"\"}}}],\"scattercarpet\":[{\"type\":\"scattercarpet\",\"marker\":{\"colorbar\":{\"outlinewidth\":0,\"ticks\":\"\"}}}],\"carpet\":[{\"aaxis\":{\"endlinecolor\":\"#2a3f5f\",\"gridcolor\":\"white\",\"linecolor\":\"white\",\"minorgridcolor\":\"white\",\"startlinecolor\":\"#2a3f5f\"},\"baxis\":{\"endlinecolor\":\"#2a3f5f\",\"gridcolor\":\"white\",\"linecolor\":\"white\",\"minorgridcolor\":\"white\",\"startlinecolor\":\"#2a3f5f\"},\"type\":\"carpet\"}],\"table\":[{\"cells\":{\"fill\":{\"color\":\"#EBF0F8\"},\"line\":{\"color\":\"white\"}},\"header\":{\"fill\":{\"color\":\"#C8D4E3\"},\"line\":{\"color\":\"white\"}},\"type\":\"table\"}],\"barpolar\":[{\"marker\":{\"line\":{\"color\":\"#E5ECF6\",\"width\":0.5},\"pattern\":{\"fillmode\":\"overlay\",\"size\":10,\"solidity\":0.2}},\"type\":\"barpolar\"}],\"pie\":[{\"automargin\":true,\"type\":\"pie\"}]},\"layout\":{\"autotypenumbers\":\"strict\",\"colorway\":[\"#636efa\",\"#EF553B\",\"#00cc96\",\"#ab63fa\",\"#FFA15A\",\"#19d3f3\",\"#FF6692\",\"#B6E880\",\"#FF97FF\",\"#FECB52\"],\"font\":{\"color\":\"#2a3f5f\"},\"hovermode\":\"closest\",\"hoverlabel\":{\"align\":\"left\"},\"paper_bgcolor\":\"white\",\"plot_bgcolor\":\"#E5ECF6\",\"polar\":{\"bgcolor\":\"#E5ECF6\",\"angularaxis\":{\"gridcolor\":\"white\",\"linecolor\":\"white\",\"ticks\":\"\"},\"radialaxis\":{\"gridcolor\":\"white\",\"linecolor\":\"white\",\"ticks\":\"\"}},\"ternary\":{\"bgcolor\":\"#E5ECF6\",\"aaxis\":{\"gridcolor\":\"white\",\"linecolor\":\"white\",\"ticks\":\"\"},\"baxis\":{\"gridcolor\":\"white\",\"linecolor\":\"white\",\"ticks\":\"\"},\"caxis\":{\"gridcolor\":\"white\",\"linecolor\":\"white\",\"ticks\":\"\"}},\"coloraxis\":{\"colorbar\":{\"outlinewidth\":0,\"ticks\":\"\"}},\"colorscale\":{\"sequential\":[[0.0,\"#0d0887\"],[0.1111111111111111,\"#46039f\"],[0.2222222222222222,\"#7201a8\"],[0.3333333333333333,\"#9c179e\"],[0.4444444444444444,\"#bd3786\"],[0.5555555555555556,\"#d8576b\"],[0.6666666666666666,\"#ed7953\"],[0.7777777777777778,\"#fb9f3a\"],[0.8888888888888888,\"#fdca26\"],[1.0,\"#f0f921\"]],\"sequentialminus\":[[0.0,\"#0d0887\"],[0.1111111111111111,\"#46039f\"],[0.2222222222222222,\"#7201a8\"],[0.3333333333333333,\"#9c179e\"],[0.4444444444444444,\"#bd3786\"],[0.5555555555555556,\"#d8576b\"],[0.6666666666666666,\"#ed7953\"],[0.7777777777777778,\"#fb9f3a\"],[0.8888888888888888,\"#fdca26\"],[1.0,\"#f0f921\"]],\"diverging\":[[0,\"#8e0152\"],[0.1,\"#c51b7d\"],[0.2,\"#de77ae\"],[0.3,\"#f1b6da\"],[0.4,\"#fde0ef\"],[0.5,\"#f7f7f7\"],[0.6,\"#e6f5d0\"],[0.7,\"#b8e186\"],[0.8,\"#7fbc41\"],[0.9,\"#4d9221\"],[1,\"#276419\"]]},\"xaxis\":{\"gridcolor\":\"white\",\"linecolor\":\"white\",\"ticks\":\"\",\"title\":{\"standoff\":15},\"zerolinecolor\":\"white\",\"automargin\":true,\"zerolinewidth\":2},\"yaxis\":{\"gridcolor\":\"white\",\"linecolor\":\"white\",\"ticks\":\"\",\"title\":{\"standoff\":15},\"zerolinecolor\":\"white\",\"automargin\":true,\"zerolinewidth\":2},\"scene\":{\"xaxis\":{\"backgroundcolor\":\"#E5ECF6\",\"gridcolor\":\"white\",\"linecolor\":\"white\",\"showbackground\":true,\"ticks\":\"\",\"zerolinecolor\":\"white\",\"gridwidth\":2},\"yaxis\":{\"backgroundcolor\":\"#E5ECF6\",\"gridcolor\":\"white\",\"linecolor\":\"white\",\"showbackground\":true,\"ticks\":\"\",\"zerolinecolor\":\"white\",\"gridwidth\":2},\"zaxis\":{\"backgroundcolor\":\"#E5ECF6\",\"gridcolor\":\"white\",\"linecolor\":\"white\",\"showbackground\":true,\"ticks\":\"\",\"zerolinecolor\":\"white\",\"gridwidth\":2}},\"shapedefaults\":{\"line\":{\"color\":\"#2a3f5f\"}},\"annotationdefaults\":{\"arrowcolor\":\"#2a3f5f\",\"arrowhead\":0,\"arrowwidth\":1},\"geo\":{\"bgcolor\":\"white\",\"landcolor\":\"#E5ECF6\",\"subunitcolor\":\"white\",\"showland\":true,\"showlakes\":true,\"lakecolor\":\"white\"},\"title\":{\"x\":0.05},\"mapbox\":{\"style\":\"light\"}}},\"margin\":{\"l\":0,\"r\":0,\"b\":0,\"t\":0,\"pad\":5},\"autosize\":false,\"width\":600,\"height\":220,\"paper_bgcolor\":\"lightgrey\"},                        {\"responsive\": true}                    ).then(function(){\n",
       "                            \n",
       "var gd = document.getElementById('45454ec6-52a6-438d-8e70-9664f2d14c1d');\n",
       "var x = new MutationObserver(function (mutations, observer) {{\n",
       "        var display = window.getComputedStyle(gd).display;\n",
       "        if (!display || display === 'none') {{\n",
       "            console.log([gd, 'removed!']);\n",
       "            Plotly.purge(gd);\n",
       "            observer.disconnect();\n",
       "        }}\n",
       "}});\n",
       "\n",
       "// Listen for the removal of the full notebook cells\n",
       "var notebookContainer = gd.closest('#notebook-container');\n",
       "if (notebookContainer) {{\n",
       "    x.observe(notebookContainer, {childList: true});\n",
       "}}\n",
       "\n",
       "// Listen for the clearing of the current output cell\n",
       "var outputEl = gd.closest('.output');\n",
       "if (outputEl) {{\n",
       "    x.observe(outputEl, {childList: true});\n",
       "}}\n",
       "\n",
       "                        })                };                });            </script>        </div>"
      ]
     },
     "metadata": {},
     "output_type": "display_data"
    }
   ],
   "source": [
    "top_longest_animes=apply_format(datos_display.sort_values(by=\"number_episodes\",ascending= False)\\\n",
    "            .head(10))\n",
    "columnas_topL=['ranking', 'Score promedio ', 'Título', 'Episodios','Año']\n",
    "tabulacion(top_longest_animes, columnas_topL, top_margin=0, bottom_margin=0, left_margin=0, right_margin=0, w=600, h=220)"
   ]
  },
  {
   "cell_type": "markdown",
   "id": "b9bbe457-91b7-42e5-960e-834bac23af58",
   "metadata": {},
   "source": [
    "<br>\n",
    "<br>\n",
    "<br>\n",
    "<br>\n",
    "<br>\n"
   ]
  },
  {
   "cell_type": "markdown",
   "id": "555f944f-7a55-49a2-a5aa-7c5b61e8fb72",
   "metadata": {},
   "source": [
    "### Quien puntúa más alto:"
   ]
  },
  {
   "cell_type": "code",
   "execution_count": 9,
   "id": "25a9a6fd-4bb3-41f3-ade6-e157ebfd498c",
   "metadata": {},
   "outputs": [
    {
     "data": {
      "text/html": [
       "<div>                            <div id=\"710b0938-6efa-4e39-ad81-52750d110096\" class=\"plotly-graph-div\" style=\"height:500px; width:800px;\"></div>            <script type=\"text/javascript\">                require([\"plotly\"], function(Plotly) {                    window.PLOTLYENV=window.PLOTLYENV || {};                                    if (document.getElementById(\"710b0938-6efa-4e39-ad81-52750d110096\")) {                    Plotly.newPlot(                        \"710b0938-6efa-4e39-ad81-52750d110096\",                        [{\"alignmentgroup\":\"True\",\"bingroup\":\"x\",\"hovertemplate\":\"Score promedio=%{x}<br>count=%{y}<extra></extra>\",\"legendgroup\":\"\",\"marker\":{\"color\":\"indianred\",\"opacity\":0.8,\"pattern\":{\"shape\":\"\"}},\"name\":\"\",\"offsetgroup\":\"\",\"orientation\":\"v\",\"showlegend\":false,\"x\":[9.1,9.08,9.08,9.08,9.07,9.07,9.06,9.06,9.05,9.04,9.04,9.03,9.02,9.0,8.99,8.94,8.94,8.94,8.93,8.92,8.91,8.91,8.9,8.88,8.88,8.88,8.86,8.85,8.81,8.81,8.8,8.8,8.8,8.79,8.78,8.78,8.77,8.77,8.76,8.75,8.75,8.74,8.74,8.73,8.73,8.73,8.72,8.71,8.71,8.7,8.7,8.7,8.69,8.69,8.69,8.69,8.68,8.67,8.67,8.67,8.66,8.66,8.66,8.66,8.65,8.65,8.65,8.64,8.64,8.64,8.63,8.63,8.63,8.63,8.62,8.62,8.62,8.62,8.62,8.61,8.61,8.61,8.6,8.6,8.6,8.6,8.59,8.58,8.58,8.58,8.57,8.57,8.57,8.57,8.57,8.56,8.56,8.56,8.55,8.55,8.55,8.55,8.54,8.54,8.54,8.54,8.54,8.54,8.54,8.53,8.53,8.53,8.53,8.53,8.53,8.52,8.52,8.52,8.52,8.51,8.51,8.51,8.51,8.5,8.5,8.5,8.5,8.5,8.5,8.49,8.49,8.49,8.49,8.48,8.48,8.48,8.48,8.47,8.47,8.47,8.46,8.46,8.46,8.46,8.45,8.45,8.45,8.45,8.45,8.45,8.44,8.44,8.44,8.44,8.44,8.44,8.43,8.43,8.43,8.43,8.43,8.42,8.42,8.42,8.42,8.42,8.42,8.41,8.41,8.41,8.41,8.41,8.41,8.4,8.4,8.4,8.4,8.4,8.4,8.39,8.39,8.39,8.39,8.39,8.39,8.39,8.39,8.38,8.38,8.38,8.38,8.38,8.38,8.37,8.37,8.37,8.37,8.37,8.37,8.37,8.36,8.36,8.36,8.36,8.36,8.36,8.35,8.35,8.35,8.35,8.35,8.34,8.34,8.34,8.34,8.33,8.33,8.33,8.33,8.33,8.33,8.33,8.33,8.33,8.33,8.33,8.33,8.33,8.32,8.32,8.32,8.32,8.32,8.31,8.31,8.31,8.31,8.31,8.31,8.31,8.31,8.31,8.3,8.3,8.3,8.3,8.3,8.29,8.29,8.29,8.29,8.29,8.29,8.29,8.29,8.29,8.29,8.29,8.29,8.28,8.28,8.28,8.28,8.28,8.28,8.28,8.28,8.28,8.28,8.27,8.27,8.27,8.27,8.27,8.27,8.27,8.27,8.27,8.27,8.26,8.26,8.26,8.26,8.26,8.26,8.26,8.25,8.25,8.25,8.25,8.25,8.25,8.25,8.25,8.25,8.25,8.25,8.25,8.24,8.24,8.24,8.24,8.24,8.24,8.24,8.24,8.23,8.23,8.23,8.23,8.23,8.23,8.23,8.22,8.22,8.22,8.22,8.22,8.22,8.22,8.22,8.22,8.22,8.22,8.22,8.22,8.21,8.21,8.21,8.21,8.21,8.21,8.21,8.21,8.21,8.21,8.2,8.2,8.2,8.2,8.2,8.2,8.2,8.2,8.2,8.2,8.2,8.2,8.2,8.2,8.19,8.19,8.19,8.19,8.19,8.19,8.19,8.19,8.19,8.19,8.19,8.19,8.19,8.19,8.19,8.19,8.19,8.18,8.18,8.18,8.18,8.18,8.18,8.18,8.18,8.18,8.17,8.17,8.17,8.17,8.17,8.17,8.17,8.17,8.17,8.16,8.16,8.16,8.16,8.16,8.16,8.16,8.16,8.16,8.16,8.16,8.16,8.16,8.16,8.15,8.15,8.15,8.15,8.15,8.15,8.15,8.15,8.14,8.14,8.14,8.14,8.14,8.14,8.14,8.14,8.14,8.14,8.14,8.14,8.14,8.14,8.14,8.14,8.13,8.13,8.13,8.13,8.13,8.13,8.13,8.13,8.12,8.12,8.12,8.12,8.12,8.12,8.12,8.12,8.11,8.11,8.11,8.11,8.11,8.11,8.11,8.11,8.11,8.11,8.11,8.11,8.11,8.11,8.1,8.1,8.1,8.1,8.1,8.1,8.1,8.1,8.1,8.09,8.09,8.09,8.09,8.09,8.09,8.09,8.09,8.09,8.09,8.09,8.09,8.09,8.09,8.09,8.08,8.08,8.08,8.08,8.08,8.08,8.08,8.08,8.08,8.08,8.08,8.08,8.08,8.08,8.08,8.08,8.08,8.08,8.07,8.07,8.07,8.07,8.07,8.07,8.07,8.07,8.07,8.07,8.06,8.06,8.06,8.06,8.06,8.06,8.06,8.06,8.06,8.06,8.06,8.06,8.06,8.06,8.06,8.06,8.05,8.05,8.05,8.05,8.05,8.05,8.05,8.05,8.05,8.04,8.04,8.04,8.04,8.04,8.04,8.04,8.04,8.03,8.03,8.03,8.03,8.03,8.03,8.03,8.03,8.03,8.03,8.03,8.03,8.03,8.03,8.03,8.03,8.03,8.02,8.02,8.02,8.02,8.02,8.02,8.02,8.02,8.02,8.02,8.02,8.02,8.02,8.02,8.02,8.01,8.01,8.01,8.01,8.01,8.01,8.01,8.01,8.01,8.01,8.01,8.01,8.01,8.01,8.0,8.0,8.0,8.0,8.0,8.0,8.0,8.0,8.0,8.0,8.0,7.99,7.99,7.99,7.99,7.99,7.99,7.98,7.98,7.98,7.98,7.98,7.98,7.98,7.98,7.98,7.98,7.98,7.98,7.98,7.98,7.98,7.98,7.97,7.97,7.97,7.97,7.97,7.97,7.97,7.97,7.97,7.97,7.97,7.97,7.97,7.96,7.96,7.96,7.96,7.96,7.96,7.96,7.96,7.96,7.96,7.96,7.96,7.96,7.95,7.95,7.95,7.95,7.95,7.95,7.95,7.95,7.95,7.95,7.95,7.95,7.95,7.95,7.94,7.94,7.94,7.94,7.94,7.94,7.94,7.94,7.94,7.94,7.94,7.94,7.94,7.94,7.94,7.94,7.93,7.93,7.93,7.93,7.93,7.93,7.93,7.93,7.93,7.93,7.93,7.93,7.92,7.92,7.92,7.92,7.92,7.92,7.92,7.92,7.92,7.92,7.92,7.92,7.92,7.92,7.92,7.92,7.92,7.92,7.92,7.92,7.91,7.91,7.91,7.91,7.91,7.91,7.91,7.91,7.91,7.91,7.91,7.91,7.91,7.91,7.9,7.9,7.9,7.9,7.9,7.9,7.9,7.9,7.9,7.9,7.9,7.9,7.9,7.9,7.9,7.9,7.9,7.9,7.9,7.9,7.9,7.9,7.89,7.89,7.89,7.89,7.89,7.89,7.89,7.89,7.89,7.89,7.89,7.89,7.89,7.89,7.89,7.89,7.89,7.89,7.89,7.89,7.89,7.88,7.88,7.88,7.88,7.88,7.88,7.88,7.88,7.88,7.88,7.88,7.88,7.88,7.87,7.87,7.87,7.87,7.87,7.87,7.87,7.87,7.87,7.87,7.87,7.87,7.87,7.87,7.87,7.87,7.87,7.86,7.86,7.86,7.86,7.86,7.86,7.86,7.86,7.86,7.86,7.86,7.86,7.86,7.86,7.86,7.85,7.85,7.85,7.85,7.85,7.85,7.85,7.85,7.85,7.85,7.85,7.85,7.85,7.85,7.85,7.85,7.85,7.85,7.85,7.85,7.85,7.85,7.85,7.85,7.84,7.84,7.84,7.84,7.84,7.84,7.84,7.84,7.84,7.84,7.84,7.84,7.84,7.84,7.84,7.84,7.84,7.84,7.84,7.84,7.84,7.84,7.83,7.83,7.83,7.83,7.83,7.83,7.83,7.83,7.83,7.83,7.83,7.83,7.83,7.83,7.83,7.83,7.83,7.83,7.83,7.83,7.82,7.82,7.82,7.82,7.82,7.82,7.82,7.82,7.82,7.82,7.82,7.82,7.82,7.82,7.82,7.81,7.81,7.81,7.81,7.81,7.81,7.81,7.81,7.81,7.81,7.81,7.81,7.81,7.81,7.81,7.81,7.81,7.81,7.8,7.8,7.8,7.8,7.8,7.8,7.8,7.8,7.8,7.8,7.8,7.8,7.8,7.8,7.8,7.8,7.8,7.8,7.8,7.8,7.8,7.8,7.8,7.79,7.79,7.79,7.79,7.79,7.79,7.79,7.79,7.79,7.79,7.79,7.79,7.79,7.79,7.79,7.79,7.79,7.79,7.79,7.79,7.79,7.79,7.78,7.78,7.78,7.78,7.78,7.78,7.78,7.78,7.78,7.78,7.78,7.78,7.78,7.78,7.78,7.78,7.77,7.77,7.77,7.77,7.77,7.77,7.77,7.77,7.77,7.77,7.77,7.77,7.77,7.77,7.77,7.77,7.77,7.77,7.77,7.77,7.77,7.76,7.76,7.76,7.76,7.76,7.76,7.76,7.76,7.76,7.76,7.76,7.76,7.76,7.76,7.76,7.76,7.76,7.76,7.76,7.76,7.75,7.75,7.75,7.75,7.75,7.75,7.75,7.75,7.75,7.75,7.75,7.75,7.75,7.75,7.75,7.75,7.75,7.75,7.75,7.75,7.75,7.75,7.75,7.75,7.75,7.75,7.75,7.75,7.74,7.74,7.74,7.74,7.74,7.74,7.74,7.74,7.74,7.74,7.74,7.74,7.74,7.74,7.74,7.74,7.74,7.73,7.73,7.73,7.73,7.73,7.73,7.73,7.73,7.73,7.73,7.73,7.73,7.73,7.73,7.73,7.73,7.73,7.73,7.73,7.73,7.73,7.73,7.73,7.73,7.72,7.72,7.72,7.72,7.72,7.72,7.72,7.72,7.72,7.72,7.72,7.72,7.72,7.72,7.72,7.72,7.72,7.72,7.72,7.72,7.72,7.72,7.72,7.72,7.72,7.72,7.71,7.71,7.71,7.71,7.71,7.71,7.71,7.71,7.71,7.71,7.71,7.71,7.71,7.71,7.71,7.71,7.71,7.71,7.71,7.71,7.71,7.71,7.71,7.71,7.71,7.71,7.71,7.71,7.71,7.71,7.71,7.71,7.71,7.71,7.71,7.71,7.71,7.71,7.71,7.7,7.7,7.7,7.7,7.7,7.7,7.7,7.7,7.7,7.7,7.7,7.7,7.7,7.7,7.7,7.69,7.69,7.69,7.69,7.69,7.69,7.69,7.69,7.69,7.69,7.69,7.69,7.69,7.69,7.69,7.69,7.69,7.69,7.69,7.68,7.68,7.68,7.68,7.68,7.68,7.68,7.68,7.68,7.68,7.68,7.68,7.68,7.68,7.68,7.68,7.67,7.67,7.67,7.67,7.67,7.67,7.67,7.67,7.67,7.67,7.67,7.67,7.67,7.67,7.67,7.67,7.67,7.67,7.67,7.67,7.67,7.67,7.67,7.67,7.67,7.67,7.67,7.67,7.67,7.67,7.66,7.66,7.66,7.66,7.66,7.66,7.66,7.66,7.66,7.66,7.66,7.66,7.66,7.66,7.66,7.66,7.66,7.66,7.66,7.66,7.65,7.65,7.65,7.65,7.65,7.65,7.65,7.65,7.65,7.65,7.65,7.65,7.65,7.65,7.65,7.65,7.65,7.65,7.65,7.65,7.65,7.65,7.65,7.65,7.64,7.64,7.64,7.64,7.64,7.64,7.64,7.64,7.64,7.64,7.64,7.64,7.64,7.64,7.64,7.64,7.64,7.64,7.64,7.64,7.63,7.63,7.63,7.63,7.63,7.63,7.63,7.63,7.63,7.63,7.63,7.63,7.63,7.63,7.63,7.63,7.63,7.63,7.63,7.63,7.63,7.63,7.63,7.63,7.63,7.63,7.63,7.63,7.63,7.63,7.63,7.62,7.62,7.62,7.62,7.62,7.62,7.62,7.62,7.62,7.62,7.62,7.62,7.62,7.62,7.62,7.62,7.62,7.62,7.62,7.62,7.62,7.62,7.62,7.62,7.62,7.62,7.62,7.62,7.62,7.62,7.62,7.62,7.62,7.62,7.62,7.62,7.61,7.61,7.61,7.61,7.61,7.61,7.61,7.61,7.61,7.61,7.61,7.61,7.61,7.61,7.61,7.61,7.61,7.61,7.61,7.61,7.6,7.6,7.6,7.6,7.6,7.6,7.6,7.6,7.6,7.6,7.6,7.6,7.6,7.6,7.6,7.6,7.6,7.6,7.6,7.6,7.6,7.59,7.59,7.59,7.59,7.59,7.59,7.59,7.59,7.59,7.59,7.59,7.59,7.59,7.59,7.59,7.59,7.59,7.59,7.59,7.59,7.59,7.59,7.59,7.58,7.58,7.58,7.58,7.58,7.58,7.58,7.58,7.58,7.58,7.58,7.58,7.58,7.58,7.58,7.58,7.58,7.58,7.58,7.58,7.58,7.58,7.58,7.58,7.58,7.58,7.58,7.58,7.58,7.58,7.58,7.58,7.58,7.58,7.58,7.58,7.58,7.57,7.57,7.57,7.57,7.57,7.57,7.57,7.57,7.57,7.57,7.57,7.57,7.57,7.57,7.57,7.57,7.57,7.57,7.57,7.57,7.57,7.57,7.57,7.57,7.57,7.57,7.57,7.57,7.57,7.57,7.57,7.57,7.57,7.56,7.56,7.56,7.56,7.56,7.56,7.56,7.56,7.56,7.56,7.56,7.56,7.56,7.56,7.56,7.56,7.56,7.56,7.56,7.56,7.56,7.56,7.56,7.56,7.56,7.56,7.56,7.56,7.56,7.56,7.56,7.56,7.56,7.56,7.56,7.56,7.56,7.56,7.56,7.56,7.55,7.55,7.55,7.55,7.55,7.55,7.55,7.55,7.55,7.55,7.55,7.55,7.55,7.55,7.55,7.55,7.55,7.55,7.55,7.55,7.55,7.55,7.55,7.55,7.55,7.55,7.55,7.55,7.55,7.55,7.55,7.55,7.55,7.55,7.55,7.55,7.55,7.55,7.55,7.55,7.55,7.55,7.55,7.55,7.54,7.54,7.54,7.54,7.54,7.54,7.54,7.54,7.54,7.54,7.54,7.54,7.54,7.54,7.54,7.54,7.54,7.54,7.54,7.54,7.54,7.54,7.54,7.54,7.54,7.54,7.54,7.54,7.54,7.54,7.54,7.54,7.54,7.53,7.53,7.53,7.53,7.53,7.53,7.53,7.53,7.53,7.53,7.53,7.53,7.53,7.53,7.53,7.53,7.53,7.53,7.53,7.53,7.53,7.53,7.53,7.53,7.53,7.53,7.53,7.53,7.53,7.53,7.53,7.53,7.53,7.53,7.53,7.52,7.52,7.52,7.52,7.52,7.52,7.52,7.52,7.52,7.52,7.52,7.52,7.52,7.52,7.52,7.52,7.52,7.52,7.52,7.52,7.52,7.52,7.52,7.52,7.52,7.52,7.52,7.52,7.52,7.52,7.52,7.52,7.52,7.52,7.52,7.51,7.51,7.51,7.51,7.51,7.51,7.51,7.51,7.51,7.51,7.51,7.51,7.51,7.51,7.51,7.51,7.51,7.51,7.51,7.51,7.51,7.5,7.5,7.5,7.5,7.5,7.5,7.5,7.5,7.5,7.5,7.5,7.5,7.5,7.5,7.5,7.5,7.5,7.5,7.5,7.5,7.5,7.5,7.5,7.5,7.5,7.5,7.49,7.49,7.49,7.49,7.49,7.49,7.49,7.49,7.49,7.49,7.49,7.49,7.49,7.49,7.49,7.49,7.49,7.49,7.49,7.49,7.49,7.49,7.49,7.49,7.49,7.49,7.49,7.49,7.49,7.49,7.49,7.49,7.49,7.49,7.49,7.49,7.49,7.49,7.49,7.49,7.49,7.49,7.49,7.48,7.48,7.48,7.48,7.48,7.48,7.48,7.48,7.48,7.48,7.48,7.48,7.48,7.48,7.48,7.48,7.48,7.48,7.48,7.48,7.48,7.48,7.48,7.48,7.48,7.48,7.48,7.47,7.47,7.47,7.47,7.47,7.47,7.47,7.47,7.47,7.47,7.47,7.47,7.47,7.47,7.47,7.47,7.47,7.47,7.47,7.47,7.47,7.47,7.47,7.47,7.47,7.47,7.47,7.47,7.47,7.47,7.47,7.46,7.46,7.46,7.46,7.46,7.46,7.46,7.46,7.46,7.46,7.46,7.46,7.46,7.46,7.46,7.46,7.46,7.46,7.46,7.46,7.46,7.46,7.46,7.46,7.46,7.46,7.46,7.46,7.46,7.46,7.46,7.46,7.46,7.46,7.46,7.46,7.46,7.46,7.46,7.46,7.45,7.45,7.45,7.45,7.45,7.45,7.45,7.45,7.45,7.45,7.45,7.45,7.45,7.44,7.45,7.45,7.45,7.45,7.45,7.45,7.45,7.45,7.45,7.45,7.45,7.45,7.45,7.45,7.45,7.45,7.45,7.45,7.45,7.44,7.44,7.44,7.44,7.44,7.44,7.44,7.44,7.44,7.44,7.44,7.44,7.44,7.44,7.44,7.44,7.44,7.44,7.44,7.44,7.44,7.44,7.44,7.44,7.44,7.44,7.44,7.44,7.44,7.44,7.44,7.44,7.44,7.44,7.44,7.44,7.44,7.44,7.44,7.44,7.44,7.44,7.44,7.44,7.44,7.44,7.44,7.44,7.44,7.43,7.43,7.43,7.43,7.43,7.43,7.43,7.43,7.43,7.43,7.43,7.43,7.43,7.43,7.43,7.43,7.43,7.43,7.43,7.43,7.43,7.43,7.43,7.43,7.43,7.43,7.43,7.43,7.43,7.43,7.43,7.43,7.43,7.43,7.43,7.43,7.43,7.43,7.43,7.42,7.42,7.42,7.42,7.42,7.42,7.42,7.42,7.42,7.42,7.42,7.42,7.42,7.42,7.42,7.42,7.42,7.42,7.42,7.42,7.42,7.42,7.42,7.42,7.42,7.42,7.42,7.42,7.42,7.42,7.42,7.42,7.42,7.42,7.42,7.42,7.42,7.42,7.42,7.42,7.42,7.41,7.41,7.41,7.41,7.41,7.41,7.41,7.41,7.41,7.41,7.41,7.41,7.41,7.41,7.41,7.41,7.41,7.41,7.41,7.41,7.41,7.41,7.41,7.41,7.41,7.41,7.41,7.41,7.41,7.41,7.41,7.41,7.41,7.41,7.41,7.41,7.41,7.41,7.41,7.41,7.41,7.41,7.41,7.41,7.41,7.4,7.4,7.4,7.4,7.4,7.4,7.4,7.4,7.4,7.4,7.4,7.4,7.4,7.4,7.4,7.4,7.4,7.4,7.4,7.4,7.4,7.4,7.4,7.4,7.4,7.4,7.4,7.4,7.4,7.4,7.4,7.4,7.4,7.39,7.39,7.39,7.39,7.39,7.39,7.39,7.39,7.39,7.39,7.39,7.39,7.39,7.39,7.39,7.39,7.39,7.39,7.39,7.39,7.39,7.39,7.39,7.39,7.39,7.39,7.39,7.39,7.39,7.39,7.38,7.38,7.38,7.38,7.38,7.38,7.38,7.38,7.38,7.38,7.38,7.38,7.38,7.38,7.38,7.38,7.38,7.38,7.38,7.38,7.38,7.38,7.38,7.38,7.38,7.38,7.38,7.38,7.38,7.38,7.38,7.38,7.38,7.38,7.38,7.38,7.38,7.38,7.38,7.38,7.38,7.38,7.38,7.38,7.38,7.38,7.37,7.37,7.37,7.37,7.37,7.37,7.37,7.37,7.37,7.37,7.37,7.37,7.37,7.37,7.37,7.37,7.37,7.37,7.37,7.37,7.37,7.37,7.37,7.37,7.37,7.37,7.37,7.37,7.37,7.37,7.37,7.37,7.37,7.37,7.37,7.37,7.37,7.37,7.37,7.37,7.37,7.37,7.37,7.37,7.36,7.36,7.36,7.36,7.36,7.36,7.36,7.36,7.36,7.36,7.36,7.36,7.36,7.36,7.36,7.36,7.36,7.36,7.36,7.36,7.36,7.36,7.36,7.36,7.36,7.36,7.36,7.36,7.36,7.36,7.36,7.36,7.36,7.36,7.36,7.36,7.36,7.36,7.36,7.36,7.36,7.35,7.35,7.35,7.35,7.35,7.35,7.35,7.35,7.35,7.35,7.35,7.35,7.35,7.35,7.35,7.35,7.35,7.35,7.35,7.35,7.35,7.35,7.35,7.35,7.35,7.35,7.35,7.35,7.35,7.35,7.35,7.35,7.35,7.35,7.35,7.35,7.35,7.35,7.35,7.35,7.35,7.35,7.35,7.35,7.35,7.34,7.34,7.34,7.34,7.34,7.34,7.34,7.34,7.34,7.34,7.34,7.34,7.34,7.34,7.34,7.34,7.34,7.34,7.34,7.34,7.34,7.34,7.34,7.34,7.34,7.34,7.34,7.34,7.34,7.34,7.34,7.34,7.34,7.34,7.34,7.34,7.34,7.34,7.34,7.34,7.34,7.34,7.34,7.34,7.34,7.34,7.34,7.34,7.34,7.34,7.35,7.34,7.33,7.33,7.33,7.33,7.33,7.33,7.33,7.33,7.33,7.33,7.33,7.33,7.33,7.33,7.33,7.33,7.33,7.33,7.33,7.33,7.33,7.33,7.33,7.33,7.33,7.33,7.33,7.33,7.33,7.33,7.33,7.33,7.33,7.33,7.33,7.33,7.33,7.33,7.33,7.33,7.33,7.33,7.33,7.33,7.33,7.32,7.32,7.32,7.32,7.32,7.32,7.32,7.32,7.32,7.32,7.32,7.32,7.32,7.32,7.32,7.32,7.32,7.32,7.32,7.32,7.32,7.32,7.32,7.32,7.32,7.32,7.32,7.32,7.32,7.32,7.32,7.32,7.32,7.32,7.32,7.32,7.32,7.32,7.32,7.32,7.32,7.32,7.32,7.32,7.32,7.32,7.32,7.31,7.31,7.31,7.31,7.31,7.31,7.31,7.31,7.31,7.31,7.31,7.31,7.31,7.31,7.31,7.31,7.31,7.31,7.31,7.31,7.31,7.31,7.31,7.31,7.31,7.31,7.31,7.31,7.31,7.31,7.31,7.31,7.31,7.31,7.31,7.31,7.31,7.31,7.31,7.31,7.31,7.31,7.31,7.31,7.31,7.31,7.31,7.31,7.31,7.3,7.3,7.3,7.3,7.3,7.3,7.3,7.3,7.3,7.3,7.3,7.3,7.3,7.3,7.3,7.3,7.3,7.3,7.3,7.3,7.3,7.3,7.3,7.3,7.3,7.3,7.3,7.3,7.3,7.3,7.3,7.3,7.3,7.3,7.3,7.3,7.3,7.3,7.3,7.3,7.3,7.3,7.3,7.3,7.3,7.3,7.3,7.3,7.3,7.29,7.29,7.29,7.29,7.29,7.29,7.29,7.29,7.29,7.29,7.29,7.29,7.29,7.29,7.29,7.29,7.29,7.29,7.29,7.29,7.29,7.29,7.29,7.29,7.29,7.29,7.29,7.29,7.29,7.29,7.29,7.29,7.29,7.29,7.29,7.29,7.29,7.29,7.29,7.29,7.29,7.29,7.29,7.29,7.29,7.29,7.29,7.29,7.29,7.29,7.28,7.28,7.28,7.28,7.28,7.28,7.28,7.28,7.28,7.28,7.28,7.28,7.28,7.28,7.28,7.28,7.28,7.28,7.28,7.28,7.28,7.28,7.28,7.28,7.28,7.28,7.28,7.28,7.28,7.28,7.28,7.28,7.28,7.28,7.28,7.28,7.28,7.28,7.28,7.28,7.28,7.28,7.28,7.28,7.28,7.28,7.28,7.28,7.28,7.28,7.28,7.28,7.28,7.28,7.28,7.28,7.28,7.28,7.28,7.28,7.28,7.28,7.28,7.27,7.27,7.27,7.27,7.27,7.27,7.27,7.27,7.27,7.27,7.27,7.27,7.27,7.27,7.27,7.27,7.27,7.27,7.27,7.27,7.27,7.27,7.27,7.27,7.27,7.27,7.27,7.27,7.27,7.27,7.27,7.27,7.27,7.27,7.27,7.27,7.27,7.27,7.27,7.27,7.27,7.27,7.27,7.27,7.27,7.27,7.27,7.27,7.27,7.27,7.26,7.26,7.26,7.26,7.26,7.26,7.26,7.26,7.26,7.26,7.26,7.26,7.26,7.26,7.26,7.26,7.26,7.26,7.26,7.26,7.26,7.26,7.26,7.26,7.26,7.26,7.26,7.26,7.26,7.26,7.26,7.26,7.26,7.26,7.26,7.26,7.26,7.26,7.26,7.26,7.26,7.26,7.26,7.25,7.25,7.25,7.25,7.25,7.25,7.25,7.25,7.25,7.25,7.25,7.25,7.25,7.25,7.25,7.25,7.25,7.25,7.25,7.25,7.25,7.25,7.25,7.25,7.25,7.25,7.25,7.25,7.25,7.25,7.25,7.25,7.25,7.25,7.25,7.25,7.25,7.25,7.25,7.25,7.25,7.25,7.25,7.25,7.25,7.25,7.24,7.24,7.24,7.24,7.24,7.24,7.24,7.24,7.24,7.24,7.24,7.24,7.24,7.24,7.24,7.24,7.24,7.24,7.24,7.24,7.24,7.24,7.24,7.24,7.24,7.24,7.24,7.24,7.24,7.24,7.24,7.24,7.24,7.24,7.24,7.24,7.24,7.24,7.24,7.24,7.24,7.24,7.24,7.24,7.24,7.24,7.24,7.24,7.24,7.24,7.24,7.24,7.24,7.23,7.23,7.23,7.23,7.23,7.23,7.23,7.23,7.23,7.23,7.23,7.23,7.23,7.23,7.23,7.23,7.23,7.23,7.23,7.23,7.23,7.23,7.23,7.23,7.23,7.23,7.23,7.23,7.23,7.23,7.23,7.23,7.23,7.23,7.23,7.23,7.23,7.23,7.23,7.23,7.23,7.23,7.23,7.23,7.23,7.23,7.23,7.23,7.23,7.23,7.23,7.23,7.23,7.23,7.23,7.23,7.22,7.22,7.22,7.22,7.22,7.22,7.22,7.22,7.22,7.22,7.22,7.22,7.22,7.22,7.22,7.22,7.22,7.22,7.22,7.22,7.22,7.22,7.22,7.22,7.22,7.22,7.22,7.22,7.22,7.22,7.22,7.22,7.22,7.22,7.22,7.22,7.22,7.22,7.22,7.22,7.22,7.22,7.22,7.22,7.22,7.22,7.22,7.22,7.22,7.22,7.22,7.22,7.22,7.22,7.22,7.22,7.22,7.21,7.21,7.21,7.21,7.21,7.21,7.21,7.21,7.21,7.21,7.21,7.21,7.21,7.21,7.21,7.21,7.21,7.21,7.21,7.21,7.21,7.21,7.21,7.21,7.21,7.21,7.21,7.21,7.21,7.21,7.21,7.21,7.21,7.21,7.21,7.21,7.21,7.21,7.21,7.21,7.2,7.2,7.2,7.2,7.2,7.2,7.2,7.2,7.2,7.2,7.2,7.2,7.2,7.2,7.2,7.2,7.2,7.2,7.2,7.2,7.2,7.2,7.2,7.2,7.2,7.2,7.2,7.2,7.2,7.2,7.2,7.2,7.2,7.2,7.2,7.2,7.2,7.2,7.2,7.2,7.2,7.2,7.2,7.2,7.2,7.2,7.2,7.2,7.2,7.2,7.2,7.2,7.2,7.2,7.2,7.2,7.2,7.2,7.2,7.2,7.2,7.19,7.19,7.19,7.19,7.19,7.19,7.19,7.19,7.19,7.19,7.19,7.19,7.19,7.19,7.19,7.19,7.19,7.19,7.19,7.19,7.19,7.19,7.19,7.19,7.19,7.19,7.19,7.19,7.19,7.19,7.19,7.19,7.19,7.19,7.19,7.19,7.19,7.19,7.19,7.19,7.19,7.19,7.19,7.19,7.19,7.19,7.19,7.19,7.19,7.19,7.19,7.19,7.18,7.18,7.18,7.18,7.18,7.18,7.18,7.18,7.18,7.18,7.18,7.18,7.18,7.18,7.18,7.18,7.18,7.18,7.18,7.18,7.18,7.18,7.18,7.18,7.18,7.18,7.18,7.18,7.18,7.18,7.18,7.18,7.18,7.18,7.18,7.18,7.18,7.18,7.18,7.18,7.18,7.18,7.18,7.18,7.18,7.18,7.18,7.18,7.18,7.18,7.18,7.18,7.18,7.18,7.17,7.17,7.17,7.17,7.17,7.17,7.17,7.17,7.17,7.17,7.17,7.17,7.17,7.17,7.17,7.17,7.17,7.17,7.17,7.17,7.17,7.17,7.17,7.17,7.17,7.17,7.17,7.17,7.17,7.17,7.17,7.17,7.17,7.17,7.17,7.17,7.17,7.17,7.17,7.17,7.17,7.17,7.17,7.17,7.17,7.17,7.17,7.17,7.17,7.17,7.17,7.17,7.17,7.17,7.17,7.16,7.16,7.16,7.16,7.16,7.16,7.16,7.16,7.16,7.16,7.16,7.16,7.16,7.16,7.16,7.16,7.16,7.16,7.16,7.16,7.16,7.16,7.16,7.16,7.16,7.16,7.16,7.16,7.16,7.16,7.16,7.16,7.16,7.16,7.16,7.16,7.16,7.16,7.16,7.16,7.16,7.16,7.16,7.16,7.16,7.16,7.16,7.16,7.15,7.15,7.15,7.15,7.15,7.15,7.15,7.15,7.15,7.15,7.15,7.15,7.15,7.15,7.15,7.15,7.15,7.15,7.15,7.15,7.15,7.15,7.15,7.15,7.15,7.15,7.15,7.15,7.15,7.15,7.15,7.15,7.15,7.15,7.15,7.15,7.15,7.15,7.15,7.15,7.15,7.15,7.15,7.15,7.15,7.15,7.15,7.15,7.15,7.15,7.15,7.15,7.14,7.14,7.14,7.14,7.14,7.14,7.14,7.14,7.14,7.14,7.14,7.14,7.14,7.14,7.14,7.14,7.14,7.14,7.14,7.14,7.14,7.14,7.14,7.14,7.14,7.14,7.14,7.14,7.14,7.14,7.14,7.14,7.14,7.14,7.14,7.14,7.14,7.14,7.14,7.14,7.14,7.14,7.14,7.14,7.14,7.14,7.14,7.14,7.14,7.14,7.14,7.14,7.14,7.13,7.13,7.13,7.13,7.13,7.13,7.13,7.13,7.13,7.13,7.13,7.13,7.13,7.13,7.13,7.13,7.13,7.13,7.13,7.13,7.13,7.13,7.13,7.13,7.13,7.13,7.13,7.13,7.13,7.13,7.13,7.13,7.13,7.13,7.13,7.13,7.13,7.13,7.13,7.13,7.13,7.13,7.13,7.13,7.13,7.13,7.13,7.13,7.13,7.13,7.13,7.12,7.12,7.12,7.12,7.12,7.12,7.12,7.12,7.12,7.12,7.12,7.12,7.12,7.12,7.12,7.12,7.12,7.12,7.12,7.12,7.12,7.12,7.12,7.12,7.12,7.12,7.12,7.12,7.12,7.12,7.12,7.12,7.12,7.12,7.12,7.12,7.12,7.12,7.12,7.12,7.12,7.12,7.12,7.12,7.12,7.12,7.12,7.12,7.12,7.11,7.11,7.11,7.11,7.11,7.11,7.11,7.11,7.11,7.11,7.11,7.11,7.11,7.11,7.11,7.11,7.11,7.11,7.11,7.11,7.11,7.11,7.11,7.11,7.11,7.11,7.11,7.11,7.11,7.11,7.11,7.11,7.11,7.11,7.11,7.11,7.11,7.11,7.11,7.11,7.11,7.1,7.1,7.1,7.1,7.1,7.1,7.1,7.1,7.1,7.1,7.1,7.1,7.1,7.1,7.1,7.1,7.1,7.1,7.1,7.1,7.1,7.1,7.1,7.1,7.1,7.1,7.1,7.1,7.1,7.1,7.1,7.1,7.1,7.1,7.1,7.1,7.1,7.1,7.1,7.1,7.1,7.1,7.1,7.1,7.1,7.1,7.1,7.1,7.1,7.1,7.1,7.1,7.1,7.1,7.1,7.09,7.09,7.09,7.09,7.09,7.09,7.09,7.09,7.09,7.09,7.09,7.09,7.09,7.09,7.09,7.09,7.09,7.09,7.09,7.09,7.09,7.09,7.09,7.09,7.09,7.09,7.09,7.09,7.09,7.09,7.09,7.09,7.09,7.09,7.09,7.09,7.09,7.09,7.09,7.09,7.08,7.08,7.08,7.08,7.08,7.08,7.08,7.08,7.08,7.08,7.08,7.08,7.08,7.08,7.08,7.08,7.08,7.08,7.08,7.08,7.08,7.08,7.08,7.08,7.08,7.08,7.08,7.08,7.08,7.08,7.08,7.08,7.07,7.07,7.07,7.07,7.07,7.07,7.07,7.07,7.07,7.07,7.07,7.07,7.07,7.07,7.07,7.07,7.07,7.07,7.07,7.07,7.07,7.07,7.07,7.07,7.07,7.07,7.07,7.07,7.07,7.07,7.07,7.07,7.07,7.07,7.07,7.07,7.07,7.07,7.07,7.07,7.07,7.07,7.07,7.07,7.07,7.07,7.07,7.06,7.06,7.06,7.06,7.06,7.06,7.06,7.06,7.06,7.06,7.06,7.06,7.06,7.06,7.06,7.06,7.06,7.06,7.06,7.06,7.06,7.06,7.06,7.06,7.06,7.06,7.06,7.06,7.06,7.06,7.06,7.06,7.06,7.06,7.06,7.06,7.06,7.06,7.06,7.06,7.06,7.06,7.06,7.06,7.06,7.06,7.06,7.06,7.06,7.06,7.06,7.06,7.06,7.05,7.05,7.05,7.05,7.05,7.05,7.05,7.05,7.05,7.05,7.05,7.05,7.05,7.05,7.05,7.05,7.05,7.05,7.05,7.05,7.05,7.05,7.05,7.05,7.05,7.05,7.05,7.05,7.05,7.05,7.05,7.05,7.05,7.05,7.05,7.05,7.05,7.05,7.05,7.05,7.05,7.05,7.05,7.05,7.05,7.05,7.04,7.04,7.04,7.04,7.04,7.04,7.04,7.04,7.04,7.04,7.04,7.04,7.04,7.04,7.04,7.04,7.04,7.04,7.04,7.04,7.04,7.04,7.04,7.04,7.04,7.04,7.04,7.04,7.04,7.04,7.04,7.04,7.04,7.04,7.04,7.04,7.04,7.04,7.03,7.03,7.03,7.03,7.03,7.03,7.03,7.03,7.03,7.03,7.03,7.03,7.03,7.03,7.03,7.03,7.03,7.03,7.03,7.03,7.03,7.03,7.03,7.03,7.03,7.03,7.03,7.03,7.03,7.03,7.03,7.03,7.03,7.03,7.03,7.03,7.03,7.03,7.03,7.03,7.03,7.03,7.03,7.03,7.03,7.03,7.03,7.03,7.03,7.03,7.03,7.03,7.03,7.03,7.03,7.03,7.03,7.03,7.03,7.03,7.03,7.02,7.02,7.02,7.02,7.02,7.02,7.02,7.02,7.02,7.02,7.02,7.02,7.02,7.02,7.02,7.02,7.02,7.02,7.02,7.02,7.02,7.02,7.02,7.02,7.02,7.02,7.02,7.02,7.02,7.02,7.02,7.02,7.02,7.02,7.02,7.02,7.02,7.02,7.01,7.01,7.01,7.01,7.01,7.01,7.01,7.01,7.01,7.01,7.01,7.01,7.01,7.01,7.01,7.01,7.01,7.01,7.01,7.01,7.01,7.01,7.01,7.01,7.01,7.01,7.01,7.01,7.01,7.01,7.01,7.01,7.01,7.01,7.01,7.01,7.01,7.01,7.01,7.01,7.01,7.01,7.01,7.01,7.01,7.01,7.01,7.0,7.0,7.0,7.0,7.0,7.0,7.0,7.0,7.0,7.0,7.0,7.0,7.0,7.0,7.0,7.0,7.0,7.0,7.0,7.0,7.0,7.0,7.0,7.0,7.0,7.0,7.0,7.0,7.0,7.0,7.0,7.0,7.0,7.0,7.0,7.0,7.0,7.0,7.0,7.0,7.0,7.0,7.0,7.0,7.0,7.0,7.0,7.0,6.99,6.99,6.99,6.99,6.99,6.99,6.99,6.99,6.99,6.99,6.99,6.99,6.99,6.99,6.99,6.99,6.99,6.99,6.99,6.99,6.99,6.99,6.99,6.99,6.99,6.99,6.99,6.99,6.99,6.99,6.99,6.99,6.99,6.99,6.98,6.98,6.98,6.98,6.98,6.98,6.98,6.98,6.98,6.98,6.98,6.98,6.98,6.98,6.98,6.98,6.98,6.98,6.98,6.98,6.98,6.98,6.98,6.98,6.98,6.98,6.98,6.98,6.98,6.98,6.98,6.98,6.98,6.98,6.98,6.98,6.98,6.97,6.97,6.97,6.97,6.97,6.97,6.97,6.97,6.97,6.97,6.97,6.97,6.97,6.97,6.97,6.97,6.97,6.97,6.97,6.97,6.97,6.97,6.97,6.97,6.97,6.97,6.97,6.97,6.97,6.97,6.97,6.97,6.97,6.97,6.97,6.97,6.96,6.96,6.96,6.96,6.96,6.96,6.96,6.96,6.96,6.96,6.96,6.96,6.96,6.96,6.96,6.96,6.96,6.96,6.96,6.96,6.96,6.96,6.96,6.96,6.96,6.96,6.96,6.96,6.96,6.96,6.96,6.96,6.96,6.96,6.96,6.96,6.96,6.96,6.96,6.96,6.96,6.96,6.96,6.96,6.95,6.95,6.95,6.95,6.95,6.95,6.95,6.95,6.95,6.95,6.95,6.95,6.95,6.95,6.95,6.95,6.95,6.95,6.95,6.95,6.95,6.95,6.95,6.95,6.95,6.95,6.95,6.95,6.95,6.95,6.95,6.95,6.95,6.95,6.95,6.95,6.95,6.94,6.94,6.94,6.94,6.94,6.94,6.94,6.94,6.94,6.94,6.94,6.94,6.94,6.94,6.94,6.94,6.94,6.94,6.94,6.94,6.94,6.94,6.94,6.94,6.94,6.94,6.94,6.94,6.94,6.94,6.94,6.94,6.94,6.94,6.94,6.94,6.94,6.94,6.94,6.94,6.94,6.94,6.94,6.94,6.94,6.94,6.94,6.94,6.94,6.94,6.94,6.93,6.93,6.93,6.93,6.93,6.93,6.93,6.93,6.93,6.93,6.93,6.93,6.93,6.93,6.93,6.93,6.93,6.93,6.93,6.93,6.93,6.93,6.93,6.93,6.93,6.93,6.93,6.93,6.93,6.93,6.93,6.93,6.93,6.93,6.93,6.93,6.93,6.93,6.93,6.93,6.93,6.93,6.92,6.92,6.92,6.92,6.92,6.92,6.92,6.92,6.92,6.92,6.92,6.92,6.92,6.92,6.92,6.92,6.92,6.92,6.92,6.92,6.92,6.92,6.92,6.92,6.92,6.92,6.92,6.92,6.92,6.92,6.92,6.92,6.92,6.92,6.92,6.92,6.91,6.91,6.91,6.91,6.91,6.91,6.91,6.91,6.91,6.91,6.91,6.91,6.91,6.91,6.91,6.91,6.91,6.91,6.91,6.91,6.91,6.91,6.91,6.91,6.91,6.91,6.91,6.91,6.91,6.91,6.91,6.91,6.91,6.91,6.91,6.91,6.91,6.91,6.91,6.91,6.91,6.91,6.91,6.9,6.9,6.9,6.9,6.9,6.9,6.9,6.9,6.9,6.9,6.9,6.9,6.9,6.9,6.9,6.9,6.9,6.9,6.9,6.9,6.9,6.9,6.9,6.9,6.9,6.9,6.9,6.9,6.9,6.9,6.9,6.9,6.9,6.9,6.9,6.89,6.89,6.89,6.89,6.89,6.89,6.89,6.89,6.89,6.89,6.89,6.89,6.89,6.89,6.89,6.89,6.89,6.89,6.89,6.89,6.89,6.89,6.89,6.89,6.89,6.89,6.89,6.89,6.89,6.89,6.89,6.89,6.89,6.89,6.89,6.89,6.89,6.89,6.89,6.88,6.88,6.88,6.88,6.88,6.88,6.88,6.88,6.88,6.88,6.88,6.88,6.88,6.88,6.88,6.88,6.88,6.88,6.88,6.87,6.88,6.88,6.88,6.88,6.88,6.88,6.88,6.88,6.88,6.88,6.88,6.88,6.88,6.88,6.88,6.88,6.88,6.88,6.88,6.88,6.88,6.88,6.88,6.88,6.88,6.88,6.88,6.88,6.88,6.87,6.87,6.87,6.87,6.87,6.87,6.87,6.87,6.87,6.87,6.87,6.87,6.87,6.87,6.87,6.87,6.87,6.87,6.87,6.87,6.87,6.87,6.87,6.87,6.87,6.87,6.87,6.87,6.87,6.87,6.87,6.87,6.87,6.87,6.87,6.87,6.87,6.87,6.87,6.87,6.87,6.87,6.87,6.87,6.87,6.87,6.87,6.87,6.87,6.87,6.87,6.87,6.87,6.87,6.87,6.87,6.86,6.86,6.86,6.86,6.86,6.86,6.86,6.86,6.86,6.86,6.86,6.86,6.86,6.86,6.86,6.86,6.86,6.86,6.86,6.86,6.86,6.86,6.86,6.86,6.86,6.86,6.86,6.86,6.86,6.86,6.86,6.86,6.86,6.86,6.86,6.86,6.86,6.86,6.86,6.86,6.86,6.86,6.86,6.86,6.86,6.86,6.86,6.86,6.86,6.85,6.85,6.85,6.85,6.85,6.85,6.85,6.85,6.85,6.85,6.85,6.85,6.85,6.85,6.85,6.85,6.85,6.85,6.85,6.85,6.85,6.85,6.85,6.85,6.85,6.85,6.85,6.85,6.85,6.85,6.85,6.85,6.85,6.85,6.85,6.85,6.85,6.85,6.85,6.85,6.85,6.85,6.84,6.84,6.84,6.84,6.84,6.84,6.84,6.84,6.84,6.84,6.84,6.84,6.84,6.84,6.84,6.84,6.84,6.84,6.84,6.84,6.84,6.84,6.84,6.84,6.84,6.84,6.84,6.84,6.84,6.84,6.84,6.84,6.84,6.84,6.84,6.84,6.84,6.84,6.84,6.84,6.84,6.84,6.84,6.84,6.84,6.84,6.84,6.84,6.84,6.83,6.83,6.83,6.83,6.83,6.83,6.83,6.83,6.83,6.83,6.83,6.83,6.83,6.83,6.83,6.83,6.82,6.83,6.83,6.83,6.83,6.83,6.83,6.83,6.83,6.83,6.83,6.83,6.83,6.83,6.83,6.83,6.83,6.83,6.83,6.83,6.83,6.83,6.83,6.83,6.82,6.82,6.82,6.82,6.82,6.82,6.82,6.82,6.82,6.82,6.82,6.82,6.82,6.82,6.82,6.82,6.82,6.82,6.82,6.82,6.82,6.82,6.82,6.82,6.82,6.82,6.82,6.82,6.82,6.82,6.82,6.82,6.82,6.82,6.82,6.82,6.82,6.82,6.82,6.82,6.82,6.82,6.82,6.81,6.81,6.81,6.81,6.81,6.81,6.81,6.81,6.81,6.81,6.81,6.81,6.81,6.81,6.81,6.81,6.81,6.81,6.81,6.81,6.81,6.81,6.81,6.81,6.81,6.81,6.81,6.81,6.81,6.81,6.81,6.81,6.81,6.81,6.81,6.81,6.81,6.81,6.8,6.8,6.8,6.8,6.8,6.8,6.8,6.8,6.8,6.8,6.8,6.8,6.8,6.8,6.8,6.8,6.8,6.8,6.8,6.8,6.8,6.8,6.8,6.8,6.8,6.8,6.8,6.8,6.8,6.8,6.8,6.8,6.8,6.8,6.8,6.8,6.8,6.8,6.8,6.8,6.8,6.8,6.8,6.8,6.8,6.8,6.8,6.8,6.8,6.8,6.79,6.79,6.79,6.79,6.79,6.79,6.79,6.79,6.79,6.79,6.79,6.79,6.79,6.79,6.79,6.79,6.79,6.79,6.79,6.79,6.79,6.79,6.79,6.79,6.79,6.79,6.79,6.79,6.79,6.8,6.79,6.79,6.79,6.79,6.79,6.79,6.79,6.79,6.79,6.79,6.79,6.79,6.79,6.79,6.79,6.79,6.79,6.79,6.78,6.78,6.78,6.78,6.78,6.78,6.78,6.78,6.78,6.78,6.78,6.78,6.78,6.78,6.78,6.78,6.78,6.78,6.78,6.78,6.78,6.78,6.78,6.78,6.78,6.78,6.78,6.78,6.78,6.78,6.78,6.78,6.78,6.78,6.78,6.78,6.78,6.78,6.78,6.78,6.78,6.78,6.78,6.78,6.78,6.77,6.77,6.77,6.77,6.77,6.77,6.77,6.77,6.77,6.77,6.77,6.77,6.77,6.77,6.77,6.77,6.77,6.77,6.77,6.77,6.77,6.77,6.77,6.77,6.77,6.77,6.77,6.77,6.77,6.77,6.77,6.77,6.77,6.77,6.77,6.77,6.77,6.77,6.77,6.77,6.77,6.77,6.77,6.77,6.77,6.77,6.77,6.76,6.76,6.76,6.76,6.76,6.76,6.76,6.76,6.76,6.76,6.76,6.76,6.76,6.76,6.76,6.76,6.76,6.76,6.76,6.76,6.76,6.76,6.76,6.76,6.76,6.76,6.76,6.76,6.76,6.76,6.76,6.76,6.76,6.76,6.76,6.76,6.76,6.76,6.76,6.76,6.76,6.76,6.76,6.76,6.76,6.76,6.76,6.76,6.76,6.76,6.76,6.76,6.76,6.76,6.76,6.76,6.76,6.76,6.76,6.76,6.75,6.75,6.75,6.75,6.75,6.75,6.75,6.75,6.75,6.75,6.75,6.75,6.75,6.75,6.75,6.75,6.75,6.75,6.75,6.75,6.75,6.75,6.75,6.75,6.75,6.75,6.75,6.75,6.75,6.75,6.75,6.75,6.75,6.75,6.75,6.75,6.75,6.75,6.74,6.74,6.74,6.74,6.74,6.74,6.74,6.74,6.74,6.74,6.74,6.74,6.74,6.74,6.74,6.74,6.74,6.74,6.74,6.74,6.74,6.74,6.74,6.74,6.74,6.74,6.74,6.74,6.74,6.74,6.74,6.74,6.74,6.74,6.74,6.74,6.74,6.74,6.74,6.74,6.74,6.74,6.74,6.74,6.74,6.74,6.74,6.74,6.74,6.74,6.74,6.74,6.73,6.73,6.73,6.73,6.73,6.73,6.73,6.73,6.73,6.73,6.73,6.73,6.73,6.73,6.73,6.73,6.73,6.73,6.73,6.73,6.73,6.73,6.73,6.73,6.73,6.73,6.73,6.73,6.73,6.73,6.73,6.73,6.73,6.73,6.73,6.73,6.73,6.73,6.73,6.73,6.73,6.73,6.73,6.73,6.73,6.73,6.73,6.73,6.73,6.73,6.73,6.73,6.73,6.73,6.73,6.73,6.73,6.72,6.72,6.72,6.72,6.72,6.72,6.72,6.72,6.72,6.72,6.72,6.72,6.72,6.72,6.72,6.72,6.72,6.72,6.72,6.72,6.72,6.72,6.72,6.72,6.72,6.72,6.72,6.72,6.72,6.72,6.72,6.72,6.72,6.72,6.72,6.72,6.72,6.72,6.72,6.72,6.72,6.72,6.72,6.72,6.72,6.72,6.72,6.72,6.72,6.72,6.72,6.72,6.72,6.72,6.72,6.72,6.72,6.72,6.72,6.72,6.72,6.72,6.72,6.72,6.72,6.72,6.72,6.72,6.72,6.72,6.71,6.71,6.71,6.71,6.71,6.71,6.71,6.71,6.71,6.71,6.71,6.71,6.71,6.71,6.71,6.71,6.71,6.71,6.71,6.71,6.71,6.71,6.71,6.71,6.71,6.71,6.71,6.71,6.71,6.71,6.71,6.71,6.71,6.71,6.71,6.71,6.71,6.71,6.71,6.71,6.71,6.71,6.71,6.71,6.71,6.71,6.71,6.71,6.71,6.71,6.71,6.71,6.7,6.7,6.7,6.7,6.7,6.7,6.7,6.7,6.7,6.7,6.7,6.7,6.7,6.7,6.7,6.7,6.7,6.7,6.7,6.7,6.7,6.7,6.7,6.7,6.7,6.7,6.7,6.7,6.7,6.7,6.7,6.7,6.7,6.7,6.7,6.7,6.7,6.7,6.7,6.7,6.7,6.7,6.7,6.69,6.69,6.69,6.69,6.69,6.69,6.69,6.69,6.69,6.69,6.69,6.69,6.69,6.69,6.69,6.69,6.69,6.69,6.69,6.69,6.69,6.69,6.69,6.69,6.69,6.69,6.69,6.69,6.69,6.69,6.69,6.69,6.69,6.69,6.69,6.69,6.69,6.69,6.69,6.69,6.69,6.69,6.69,6.69,6.69,6.69,6.68,6.68,6.68,6.68,6.68,6.68,6.68,6.68,6.68,6.68,6.68,6.68,6.68,6.68,6.68,6.68,6.68,6.68,6.68,6.68,6.68,6.68,6.68,6.68,6.68,6.68,6.68,6.68,6.68,6.68,6.68,6.68,6.68,6.68,6.68,6.68,6.68,6.68,6.68,6.68,6.68,6.67,6.67,6.67,6.67,6.67,6.67,6.67,6.67,6.67,6.67,6.67,6.67,6.67,6.67,6.67,6.67,6.67,6.67,6.67,6.67,6.67,6.67,6.67,6.67,6.67,6.67,6.67,6.67,6.67,6.67,6.67,6.67,6.67,6.67,6.67,6.67,6.67,6.67,6.67,6.67,6.67,6.67,6.67,6.67,6.67,6.67,6.67,6.67,6.67,6.67,6.67,6.67,6.66,6.66,6.66,6.66,6.66,6.66,6.66,6.66,6.66,6.66,6.66,6.66,6.66,6.66,6.66,6.66,6.66,6.66,6.66,6.66,6.66,6.66,6.66,6.66,6.66,6.66,6.66,6.66,6.66,6.66,6.66,6.66,6.66,6.66,6.66,6.66,6.66,6.66,6.66,6.66,6.66,6.66,6.66,6.66,6.66,6.66,6.66,6.65,6.65,6.65,6.65,6.65,6.65,6.65,6.65,6.65,6.65,6.65,6.65,6.65,6.65,6.65,6.65,6.65,6.65,6.65,6.65,6.65,6.65,6.65,6.65,6.65,6.65,6.65,6.65,6.65,6.65,6.65,6.65,6.65,6.65,6.65,6.65,6.65,6.65,6.65,6.65,6.65,6.65,6.65,6.65,6.65,6.65,6.65,6.65,6.65,6.65,6.65,6.65,6.65,6.65,6.65,6.65,6.65,6.65,6.65,6.64,6.64,6.64,6.64,6.64,6.64,6.64,6.64,6.64,6.64,6.64,6.64,6.64,6.64,6.64,6.64,6.64,6.64,6.64,6.64,6.64,6.64,6.64,6.64,6.64,6.64,6.64,6.64,6.64,6.64,6.64,6.64,6.64,6.64,6.64,6.64,6.64,6.64,6.64,6.64,6.64,6.64,6.64,6.64,6.64,6.64,6.64,6.64,6.64,6.64,6.64,6.64,6.64,6.64,6.64,6.64,6.64,6.64,6.64,6.64,6.64,6.64,6.64,6.64,6.64,6.64,6.64,6.64,6.64,6.63,6.63,6.63,6.63,6.63,6.63,6.63,6.63,6.63,6.63,6.63,6.63,6.63,6.63,6.63,6.63,6.63,6.63,6.63,6.63,6.63,6.63,6.63,6.63,6.63,6.63,6.63,6.63,6.63,6.63,6.63,6.63,6.63,6.63,6.62,6.62,6.62,6.62,6.62,6.62,6.62,6.62,6.62,6.62,6.62,6.62,6.62,6.62,6.62,6.62,6.62,6.62,6.62,6.62,6.62,6.62,6.62,6.62,6.62,6.62,6.62,6.62,6.62,6.62,6.62,6.62,6.62,6.62,6.62,6.62,6.62,6.62,6.62,6.62,6.62,6.62,6.62,6.62,6.62,6.62,6.62,6.62,6.62,6.62,6.62,6.61,6.61,6.61,6.61,6.61,6.61,6.61,6.61,6.61,6.61,6.61,6.61,6.61,6.61,6.61,6.61,6.61,6.61,6.61,6.61,6.61,6.61,6.61,6.61,6.61,6.61,6.61,6.61,6.61,6.61,6.61,6.61,6.61,6.61,6.61,6.61,6.61,6.61,6.61,6.61,6.61,6.61,6.61,6.61,6.61,6.61,6.61,6.61,6.61,6.61,6.61,6.61,6.61,6.61,6.6,6.6,6.6,6.6,6.6,6.6,6.6,6.6,6.6,6.6,6.6,6.6,6.6,6.6,6.6,6.6,6.6,6.6,6.6,6.6,6.6,6.6,6.6,6.6,6.6,6.6,6.6,6.6,6.6,6.6,6.6,6.6,6.6,6.6,6.6,6.6,6.6,6.6,6.6,6.6,6.6,6.6,6.6,6.6,6.6,6.59,6.59,6.59,6.59,6.59,6.59,6.59,6.59,6.59,6.59,6.59,6.59,6.59,6.59,6.59,6.59,6.59,6.59,6.59,6.59,6.59,6.59,6.59,6.59,6.59,6.59,6.59,6.59,6.59,6.59,6.59,6.59,6.59,6.59,6.59,6.59,6.59,6.59,6.59,6.59,6.59,6.59,6.59,6.59,6.59,6.59,6.59,6.59,6.59,6.59,6.59,6.59,6.59,6.59,6.59,6.59,6.58,6.58,6.58,6.58,6.58,6.58,6.58,6.58,6.58,6.58,6.58,6.58,6.58,6.58,6.58,6.58,6.58,6.58,6.58,6.58,6.58,6.58,6.58,6.58,6.58,6.58,6.58,6.58,6.58,6.58,6.58,6.58,6.58,6.58,6.58,6.58,6.58,6.58,6.58,6.58,6.58,6.58,6.58,6.58,6.58,6.58,6.58,6.58,6.57,6.57,6.57,6.57,6.57,6.57,6.57,6.57,6.57,6.57,6.57,6.57,6.57,6.57,6.57,6.57,6.57,6.57,6.57,6.57,6.57,6.57,6.57,6.57,6.57,6.57,6.57,6.57,6.57,6.57,6.57,6.57,6.57,6.57,6.57,6.57,6.56,6.57,6.57,6.57,6.57,6.57,6.57,6.57,6.57,6.57,6.56,6.56,6.56,6.56,6.56,6.56,6.56,6.56,6.56,6.56,6.56,6.56,6.56,6.56,6.56,6.56,6.56,6.56,6.56,6.56,6.56,6.56,6.56,6.56,6.56,6.56,6.56,6.56,6.56,6.56,6.56,6.56,6.56,6.56,6.56,6.56,6.56,6.56,6.56,6.56,6.56,6.56,6.56,6.56,6.56,6.56,6.56,6.56,6.56,6.56,6.56,6.56,6.56,6.56,6.56,6.56,6.56,6.56,6.56,6.56,6.55,6.55,6.55,6.55,6.55,6.55,6.55,6.55,6.55,6.55,6.55,6.55,6.55,6.55,6.55,6.55,6.55,6.55,6.55,6.55,6.55,6.55,6.55,6.55,6.55,6.55,6.55,6.55,6.55,6.55,6.55,6.55,6.55,6.55,6.55,6.55,6.55,6.55,6.55,6.55,6.54,6.54,6.54,6.54,6.54,6.54,6.54,6.54,6.54,6.54,6.54,6.54,6.54,6.54,6.54,6.54,6.54,6.54,6.54,6.54,6.54,6.54,6.54,6.54,6.54,6.54,6.54,6.54,6.54,6.54,6.54,6.54,6.54,6.54,6.54,6.54,6.54,6.54,6.54,6.54,6.54,6.54,6.54,6.54,6.54,6.54,6.54,6.54,6.54,6.54,6.54,6.54,6.54,6.54,6.54,6.54,6.54,6.54,6.54,6.54,6.54,6.54,6.54,6.54,6.54,6.54,6.54,6.54,6.54,6.54,6.54,6.54,6.54,6.53,6.53,6.53,6.53,6.53,6.53,6.53,6.53,6.53,6.53,6.53,6.53,6.53,6.53,6.53,6.53,6.53,6.53,6.53,6.53,6.53,6.53,6.53,6.53,6.53,6.53,6.53,6.53,6.53,6.53,6.53,6.53,6.53,6.53,6.53,6.53,6.53,6.53,6.53,6.53,6.53,6.53,6.53,6.53,6.53,6.53,6.53,6.53,6.53,6.53,6.53,6.53,6.53,6.53,6.53,6.53,6.53,6.53,6.53,6.53,6.53,6.53,6.53,6.53,6.51,6.52,6.52,6.52,6.52,6.52,6.52,6.52,6.52,6.52,6.52,6.52,6.52,6.52,6.52,6.52,6.52,6.52,6.52,6.52,6.52,6.52,6.52,6.52,6.52,6.52,6.52,6.52,6.52,6.52,6.52,6.52,6.52,6.52,6.52,6.52,6.52,6.52,6.52,6.52,6.52,6.52,6.52,6.52,6.52,6.52,6.52,6.52,6.52,6.52,6.52,6.51,6.52,6.52,6.52,6.52,6.52,6.52,6.52,6.52,6.52,6.52,6.52,6.52,6.52,6.52,6.52,6.52,6.52,6.51,6.51,6.51,6.51,6.51,6.51,6.51,6.51,6.51,6.51,6.51,6.51,6.51,6.51,6.51,6.51,6.51,6.51,6.51,6.51,6.51,6.51,6.51,6.51,6.51,6.51,6.51,6.51,6.51,6.51,6.51,6.51,6.51,6.51,6.51,6.51,6.51,6.51,6.51,6.51,6.51,6.51,6.51,6.51,6.51,6.51,6.51,6.51,6.51,6.51,6.51,6.5,6.5,6.5,6.5,6.5,6.5,6.5,6.5,6.5,6.5,6.5,6.5,6.5,6.5,6.5,6.5,6.5,6.5,6.5,6.5,6.5,6.5,6.5,6.5,6.5,6.5,6.5,6.5,6.5,6.5,6.5,6.5,6.49,6.5,6.5,6.5,6.5,6.5,6.5,6.5,6.5,6.5,6.5,6.5,6.5,6.5,6.5,6.5,6.5,6.5,6.5,6.49,6.49,6.49,6.49,6.49,6.49,6.49,6.49,6.49,6.49,6.49,6.49,6.49,6.49,6.49,6.49,6.49,6.49,6.49,6.49,6.49,6.49,6.49,6.49,6.49,6.49,6.49,6.49,6.49,6.49,6.49,6.49,6.49,6.49,6.49,6.49,6.49,6.49,6.49,6.49,6.49,6.49,6.49,6.49,6.49,6.49,6.49,6.49,6.48,6.48,6.48,6.48,6.48,6.48,6.48,6.48,6.48,6.48,6.48,6.48,6.48,6.48,6.48,6.44,6.48,6.48,6.48,6.48,6.48,6.48,6.48,6.48,6.48,6.48,6.48,6.48,6.48,6.48,6.48,6.48,6.48,6.48,6.48,6.48,6.48,6.48,6.48,6.48,6.48,6.48,6.48,6.47,6.47,6.47,6.47,6.47,6.47,6.47,6.47,6.47,6.47,6.47,6.47,6.47,6.47,6.47,6.47,6.47,6.47,6.47,6.47,6.47,6.47,6.47,6.47,6.47,6.47,6.47,6.47,6.47,6.47,6.47,6.47,6.47,6.47,6.47,6.47,6.47,6.47,6.47,6.47,6.47,6.47,6.47,6.47,6.47,6.47,6.47,6.47,6.47,6.47,6.47,6.47,6.47,6.45,6.46,6.46,6.46,6.46,6.46,6.46,6.46,6.46,6.46,6.46,6.46,6.46,6.46,6.46,6.46,6.46,6.46,6.46,6.46,6.46,6.46,6.46,6.46,6.46,6.46,6.46,6.46,6.46,6.46,6.46,6.46,6.46,6.46,6.46,6.46,6.46,6.46,6.46,6.46,6.46,6.46,6.46,6.46,6.46,6.46,6.46,6.46,6.46,6.46,6.46,6.46,6.46,6.46,6.46,6.46,6.46,6.46,6.46,6.46,6.46,6.45,6.45,6.45,6.45,6.45,6.45,6.45,6.45,6.45,6.45,6.45,6.45,6.45,6.45,6.45,6.45,6.45,6.45,6.45,6.45,6.45,6.45,6.45,6.45,6.45,6.45,6.45,6.45,6.45,6.45,6.45,6.45,6.45,6.45,6.45,6.45,6.45,6.45,6.45,6.45,6.45,6.45,6.45,6.45,6.45,6.45,6.45,6.45,6.45,6.45,6.45,6.45,6.45,6.45,6.45,6.45,6.45,6.45,6.45,6.45,6.45,6.45,6.44,6.44,6.44,6.44,6.44,6.44,6.44,6.44,6.44,6.44,6.44,6.44,6.44,6.44,6.44,6.44,6.44,6.44,6.44,6.44,6.44,6.44,6.44,6.44,6.44,6.44,6.45,6.44,6.44,6.44,6.44,6.44,6.44,6.44,6.44,6.44,6.44,6.44,6.44,6.44,6.44,6.44,6.44,6.44,6.44,6.44,6.44,6.43,6.43,6.43,6.43,6.43,6.43,6.43,6.43,6.43,6.43,6.43,6.43,6.43,6.43,6.43,6.43,6.43,6.43,6.43,6.43,6.43,6.43,6.43,6.43,6.43,6.43,6.43,6.43,6.43,6.43,6.43,6.43,6.43,6.43,6.43,6.43,6.43,6.43,6.43,6.43,6.43,6.43,6.43,6.43,6.43,6.43,6.42,6.42,6.42,6.42,6.42,6.42,6.42,6.42,6.42,6.42,6.42,6.42,6.42,6.42,6.42,6.42,6.42,6.42,6.42,6.42,6.42,6.42,6.42,6.42,6.42,6.42,6.42,6.42,6.42,6.42,6.42,6.42,6.42,6.42,6.42,6.42,6.42,6.42,6.42,6.42,6.42,6.42,6.42,6.42,6.42,6.42,6.42,6.42,6.42,6.42,6.42,6.42,6.42,6.42,6.42,6.41,6.41,6.42,6.41,6.41,6.41,6.41,6.41,6.41,6.41,6.41,6.41,6.41,6.41,6.41,6.41,6.41,6.41,6.41,6.41,6.41,6.41,6.41,6.41,6.41,6.41,6.41,6.41,6.41,6.41,6.41,6.41,6.41,6.41,6.41,6.41,6.41,6.41,6.41,6.41,6.41,6.41,6.41,6.41,6.41,6.41,6.41,6.41,6.41,6.41,6.41,6.41,6.41,6.4,6.4,6.4,6.4,6.4,6.4,6.4,6.4,6.4,6.4,6.4,6.4,6.4,6.4,6.4,6.4,6.4,6.4,6.4,6.4,6.4,6.4,6.4,6.4,6.4,6.4,6.4,6.4,6.4,6.4,6.4,6.4,6.4,6.4,6.4,6.4,6.4,6.4,6.4,6.4,6.4,6.4,6.4,6.4,6.4,6.4,6.4,6.4,6.4,6.4,6.4,6.4,6.4,6.4,6.4,6.39,6.39,6.39,6.39,6.39,6.39,6.39,6.39,6.39,6.39,6.39,6.39,6.39,6.39,6.39,6.39,6.39,6.39,6.39,6.39,6.39,6.39,6.39,6.39,6.39,6.39,6.39,6.39,6.39,6.39,6.39,6.39,6.39,6.39,6.39,6.39,6.39,6.39,6.39,6.39,6.39,6.39,6.39,6.39,6.39,6.39,6.39,6.39,6.39,6.39,6.39,6.39,6.39,6.39,6.38,6.38,6.38,6.38,6.38,6.38,6.38,6.38,6.38,6.38,6.38,6.38,6.38,6.38,6.38,6.38,6.38,6.38,6.38,6.38,6.38,6.38,6.38,6.38,6.38,6.38,6.38,6.38,6.38,6.38,6.38,6.38,6.38,6.38,6.38,6.38,6.38,6.38,6.38,6.38,6.38,6.38,6.38,6.38,6.38,6.38,6.37,6.37,6.37,6.37,6.37,6.37,6.37,6.37,6.37,6.37,6.37,6.37,6.37,6.37,6.37,6.37,6.37,6.37,6.37,6.37,6.37,6.37,6.37,6.37,6.37,6.37,6.37,6.37,6.37,6.37,6.37,6.37,6.37,6.37,6.37,6.37,6.37,6.37,6.37,6.37,6.37,6.37,6.37,6.37,6.37,6.37,6.37,6.37,6.37,6.37,6.37,6.37,6.37,6.37,6.37,6.37,6.37,6.37,6.37,6.37,6.37,6.37,6.36,6.36,6.36,6.36,6.36,6.36,6.36,6.36,6.36,6.36,6.36,6.36,6.36,6.36,6.36,6.36,6.36,6.36,6.36,6.36,6.36,6.36,6.36,6.36,6.36,6.36,6.36,6.36,6.36,6.36,6.36,6.36,6.36,6.36,6.36,6.36,6.36,6.36,6.36,6.36,6.36,6.36,6.36,6.36,6.36,6.36,6.36,6.36,6.36,6.35,6.35,6.35,6.35,6.35,6.35,6.35,6.35,6.35,6.35,6.35,6.35,6.35,6.35,6.35,6.35,6.35,6.35,6.35,6.35,6.35,6.35,6.35,6.35,6.35,6.35,6.35,6.35,6.35,6.35,6.35,6.35,6.35,6.35,6.35,6.35,6.35,6.35,6.35,6.35,6.35,6.35,6.35,6.35,6.35,6.35,6.35,6.35,6.35,6.35,6.35,6.35,6.35,6.35,6.34,6.34,6.34,6.34,6.34,6.34,6.34,6.34,6.34,6.34,6.34,6.34,6.34,6.34,6.34,6.34,6.34,6.34,6.34,6.34,6.34,6.34,6.34,6.34,6.34,6.34,6.34,6.34,6.34,6.34,6.34,6.34,6.34,6.34,6.34,6.34,6.34,6.34,6.33,6.33,6.33,6.33,6.33,6.33,6.33,6.33,6.33,6.33,6.33,6.33,6.33,6.33,6.33,6.33,6.33,6.33,6.33,6.33,6.33,6.33,6.33,6.33,6.33,6.33,6.33,6.33,6.33,6.33,6.33,6.33,6.33,6.33,6.33,6.33,6.33,6.33,6.33,6.33,6.33,6.33,6.33,6.33,6.33,6.33,6.33,6.33,6.33,6.33,6.33,6.33,6.33,6.32,6.32,6.32,6.32,6.32,6.32,6.32,6.32,6.32,6.32,6.32,6.32,6.32,6.32,6.32,6.32,6.32,6.32,6.32,6.32,6.32,6.32,6.32,6.32,6.32,6.32,6.32,6.32,6.32,6.32,6.32,6.32,6.32,6.32,6.32,6.32,6.32,6.32,6.32,6.32,6.32,6.32,6.32,6.32,6.32,6.32,6.32,6.32,6.32,6.32,6.31,6.31,6.31,6.31,6.31,6.31,6.31,6.31,6.31,6.31,6.31,6.31,6.31,6.31,6.31,6.31,6.31,6.31,6.31,6.31,6.31,6.31,6.31,6.31,6.31,6.31,6.31,6.31,6.31,6.31,6.31,6.31,6.31,6.31,6.31,6.31,6.31,6.31,6.31,6.31,6.31,6.31,6.31,6.31,6.31,6.31,6.31,6.31,6.31,6.31,6.31,6.31,6.31,6.31,6.31,6.31,6.31,6.31,6.31,6.3,6.3,6.3,6.3,6.3,6.3,6.3,6.3,6.3,6.3,6.3,6.3,6.3,6.3,6.3,6.3,6.3,6.3,6.3,6.3,6.3,6.3,6.3,6.3,6.3,6.3,6.3,6.3,6.3,6.3,6.3,6.3,6.3,6.3,6.3,6.3,6.3,6.3,6.3,6.3,6.3,6.3,6.3,6.3,6.3,6.3,6.3,6.3,6.3,6.3,6.3,6.31,6.3,6.3,6.3,6.29,6.29,6.29,6.29,6.29,6.29,6.29,6.29,6.29,6.29,6.29,6.29,6.29,6.29,6.29,6.29,6.29,6.29,6.29,6.29,6.29,6.29,6.29,6.29,6.29,6.29,6.29,6.29,6.29,6.29,6.29,6.29,6.29,6.29,6.29,6.29,6.29,6.29,6.29,6.29,6.29,6.29,6.29,6.29,6.29,6.29,6.29,6.29,6.29,6.29,6.29,6.29,6.29,6.29,6.29,6.29,6.29,6.29,6.29,6.28,6.28,6.28,6.28,6.28,6.28,6.28,6.28,6.28,6.28,6.28,6.28,6.28,6.28,6.28,6.28,6.28,6.28,6.28,6.28,6.28,6.28,6.28,6.28,6.28,6.28,6.28,6.28,6.28,6.28,6.28,6.28,6.28,6.28,6.28,6.28,6.28,6.28,6.28,6.28,6.28,6.28,6.28,6.28,6.28,6.28,6.28,6.27,6.27,6.27,6.27,6.27,6.27,6.27,6.27,6.27,6.27,6.27,6.27,6.27,6.27,6.26,6.27,6.27,6.27,6.27,6.27,6.27,6.27,6.27,6.27,6.27,6.27,6.27,6.27,6.27,6.27,6.27,6.27,6.27,6.27,6.27,6.27,6.27,6.27,6.27,6.27,6.27,6.27,6.27,6.27,6.27,6.27,6.27,6.27,6.27,6.27,6.27,6.27,6.27,6.27,6.26,6.26,6.26,6.26,6.26,6.26,6.26,6.26,6.26,6.26,6.26,6.26,6.26,6.26,6.26,6.26,6.26,6.26,6.26,6.26,6.26,6.26,6.26,6.26,6.26,6.26,6.26,6.26,6.26,6.26,6.26,6.26,6.26,6.26,6.26,6.26,6.26,6.26,6.26,6.26,6.26,6.26,6.26,6.26,6.26,6.26,6.26,6.26,6.26,6.25,6.25,6.25,6.25,6.25,6.25,6.25,6.25,6.25,6.25,6.25,6.25,6.25,6.25,6.25,6.25,6.25,6.25,6.25,6.25,6.25,6.25,6.25,6.25,6.25,6.25,6.25,6.25,6.25,6.25,6.25,6.25,6.25,6.25,6.25,6.25,6.25,6.25,6.25,6.25,6.25,6.25,6.25,6.25,6.25,6.24,6.24,6.24,6.24,6.24,6.24,6.24,6.24,6.24,6.24,6.24,6.24,6.24,6.24,6.24,6.24,6.24,6.24,6.24,6.24,6.24,6.24,6.24,6.24,6.24,6.24,6.24,6.24,6.24,6.24,6.24,6.24,6.24,6.24,6.24,6.24,6.24,6.24,6.24,6.24,6.24,6.24,6.24,6.24,6.23,6.23,6.23,6.23,6.23,6.23,6.23,6.23,6.23,6.23,6.23,6.23,6.23,6.23,6.23,6.23,6.23,6.23,6.23,6.23,6.23,6.23,6.23,6.23,6.23,6.23,6.23,6.23,6.23,6.23,6.23,6.23,6.23,6.23,6.23,6.23,6.23,6.23,6.23,6.23,6.23,6.23,6.23,6.23,6.23,6.23,6.23,6.23,6.23,6.23,6.23,6.23,6.23,6.23,6.23,6.22,6.22,6.22,6.22,6.22,6.22,6.22,6.22,6.22,6.22,6.22,6.22,6.22,6.22,6.22,6.22,6.22,6.22,6.22,6.22,6.22,6.22,6.22,6.22,6.22,6.22,6.22,6.22,6.22,6.22,6.22,6.22,6.22,6.22,6.22,6.22,6.22,6.22,6.22,6.22,6.22,6.22,6.22,6.22,6.22,6.22,6.22,6.22,6.22,6.22,6.22,6.22,6.22,6.22,6.21,6.21,6.21,6.21,6.21,6.21,6.21,6.21,6.21,6.21,6.21,6.21,6.21,6.21,6.21,6.21,6.21,6.21,6.21,6.21,6.21,6.21,6.21,6.21,6.21,6.21,6.21,6.21,6.21,6.21,6.21,6.21,6.21,6.21,6.21,6.21,6.21,6.21,6.21,6.21,6.21,6.21,6.21,6.2,6.2,6.2,6.2,6.2,6.2,6.2,6.2,6.2,6.2,6.2,6.2,6.2,6.2,6.2,6.2,6.2,6.2,6.2,6.2,6.2,6.2,6.2,6.2,6.2,6.2,6.2,6.2,6.2,6.2,6.2,6.2,6.2,6.2,6.2,6.2,6.2,6.2,6.2,6.2,6.2,6.2,6.2,6.2,6.2,6.2,6.2,6.2,6.2,6.2,6.2,6.2,6.2,6.2,6.19,6.19,6.19,6.19,6.19,6.19,6.19,6.19,6.19,6.19,6.19,6.19,6.19,6.19,6.19,6.19,6.19,6.19,6.19,6.19,6.19,6.19,6.19,6.19,6.19,6.19,6.19,6.19,6.19,6.19,6.19,6.19,6.19,6.19,6.19,6.19,6.19,6.19,6.19,6.19,6.19,6.18,6.18,6.18,6.18,6.18,6.18,6.18,6.18,6.18,6.18,6.18,6.18,6.18,6.18,6.18,6.18,6.18,6.18,6.18,6.18,6.18,6.18,6.18,6.18,6.18,6.18,6.18,6.18,6.18,6.18,6.18,6.18,6.18,6.18,6.18,6.18,6.18,6.18,6.18,6.18,6.18,6.18,6.18,6.17,6.17,6.17,6.17,6.17,6.17,6.17,6.17,6.17,6.17,6.17,6.17,6.17,6.17,6.17,6.17,6.17,6.17,6.17,6.17,6.17,6.17,6.17,6.17,6.17,6.17,6.17,6.17,6.17,6.17,6.17,6.17,6.17,6.17,6.17,6.17,6.17,6.17,6.17,6.17,6.17,6.17,6.17,6.17,6.17,6.17,6.16,6.16,6.16,6.16,6.16,6.16,6.16,6.16,6.16,6.16,6.16,6.16,6.16,6.16,6.16,6.16,6.16,6.16,6.16,6.16,6.16,6.16,6.16,6.16,6.16,6.16,6.16,6.16,6.16,6.16,6.16,6.16,6.16,6.16,6.16,6.16,6.16,6.16,6.16,6.16,6.16,6.15,6.15,6.15,6.15,6.15,6.15,6.15,6.15,6.15,6.15,6.15,6.15,6.15,6.15,6.15,6.15,6.15,6.15,6.15,6.15,6.15,6.15,6.15,6.15,6.15,6.15,6.15,6.15,6.15,6.15,6.15,6.15,6.15,6.15,6.15,6.15,6.15,6.15,6.15,6.15,6.15,6.15,6.15,6.15,6.15,6.15,6.15,6.15,6.14,6.14,6.14,6.14,6.14,6.14,6.14,6.14,6.14,6.14,6.14,6.14,6.14,6.14,6.14,6.14,6.14,6.14,6.14,6.14,6.14,6.14,6.14,6.14,6.14,6.14,6.14,6.14,6.14,6.14,6.14,6.14,6.14,6.13,6.14,6.14,6.14,6.14,6.14,6.14,6.14,6.14,6.14,6.14,6.14,6.14,6.14,6.14,6.14,6.14,6.13,6.13,6.13,6.13,6.13,6.13,6.13,6.13,6.13,6.13,6.13,6.13,6.13,6.13,6.13,6.13,6.13,6.13,6.13,6.13,6.13,6.13,6.13,6.13,6.13,6.13,6.13,6.13,6.13,6.13,6.13,6.13,6.13,6.13,6.13,6.13,6.13,6.13,6.13,6.13,6.13,6.13,6.13,6.13,6.13,6.13,6.13,6.13,6.13,6.13,6.13,6.13,6.13,6.13,6.13,6.13,6.13,6.13,6.12,6.12,6.12,6.12,6.12,6.12,6.12,6.12,6.12,6.12,6.12,6.12,6.12,6.12,6.12,6.12,6.12,6.12,6.12,6.12,6.12,6.12,6.12,6.12,6.12,6.12,6.12,6.13,6.12,6.12,6.12,6.12,6.12,6.12,6.12,6.12,6.12,6.12,6.12,6.12,6.12,6.12,6.12,6.12,6.12,6.11,6.11,6.11,6.11,6.11,6.11,6.11,6.11,6.11,6.11,6.11,6.11,6.11,6.11,6.11,6.11,6.11,6.11,6.11,6.11,6.11,6.11,6.11,6.11,6.11,6.11,6.11,6.11,6.11,6.11,6.11,6.11,6.11,6.11,6.11,6.11,6.11,6.11,6.11,6.11,6.11,6.11,6.11,6.11,6.11,6.11,6.11,6.11,6.11,6.11,6.11,6.11,6.11,6.11,6.11,6.11,6.11,6.11,6.11,6.11,6.11,6.11,6.11,6.1,6.1,6.1,6.1,6.1,6.1,6.1,6.1,6.1,6.1,6.1,6.1,6.1,6.1,6.1,6.1,6.1,6.1,6.1,6.1,6.1,6.1,6.1,6.1,6.1,6.1,6.1,6.1,6.1,6.1,6.1,6.1,6.1,6.1,6.1,6.1,6.1,6.1,6.1,6.1,6.1,6.1,6.1,6.1,6.1,6.1,6.1,6.1,6.1,6.1,6.1,6.1,6.1,6.1,6.1,6.09,6.09,6.09,6.09,6.09,6.09,6.09,6.09,6.09,6.09,6.09,6.09,6.09,6.09,6.09,6.09,6.09,6.09,6.09,6.09,6.09,6.09,6.09,6.09,6.09,6.09,6.09,6.09,6.09,6.09,6.09,6.09,6.09,6.09,6.09,6.09,6.09,6.09,6.09,6.09,6.09,6.09,6.09,6.09,6.09,6.09,6.09,6.09,6.09,6.09,6.09,6.09,6.09,6.09,6.08,6.08,6.08,6.08,6.08,6.08,6.08,6.08,6.08,6.08,6.08,6.08,6.08,6.08,6.08,6.08,6.08,6.08,6.08,6.08,6.08,6.08,6.08,6.08,6.08,6.08,6.08,6.08,6.08,6.08,6.08,6.08,6.08,6.08,6.08,6.08,6.08,6.08,6.08,6.08,6.08,6.08,6.08,6.08,6.08,6.07,6.07,6.07,6.07,6.07,6.07,6.07,6.07,6.07,6.07,6.07,6.06,6.07,6.07,6.04,6.07,6.07,6.07,6.07,6.07,6.07,6.07,6.07,6.07,6.07,6.07,6.07,6.07,6.07,6.07,6.07,6.07,6.07,6.07,6.07,6.07,6.07,6.07,6.07,6.07,6.07,6.07,6.07,6.07,6.07,6.07,6.07,6.07,6.07,6.07,6.06,6.06,6.06,6.06,6.06,6.06,6.06,6.06,6.06,6.06,6.06,6.06,6.06,6.06,6.06,6.06,6.06,6.06,6.06,6.06,6.06,6.06,6.06,6.06,6.06,6.06,6.06,6.06,6.06,6.06,6.06,6.06,6.06,6.06,6.06,6.06,6.06,6.06,6.06,6.06,6.06,6.06,6.06,6.05,6.05,6.05,6.05,6.05,6.05,6.05,6.05,6.05,6.05,6.05,6.05,6.05,6.05,6.05,6.05,6.05,6.05,6.05,6.05,6.05,6.05,6.05,6.05,6.05,6.05,6.05,6.05,6.05,6.05,6.05,6.05,6.04,6.05,6.05,6.05,6.05,6.04,6.04,6.04,6.04,6.04,6.04,6.04,6.04,6.04,6.04,6.04,6.04,6.04,6.04,6.04,6.04,6.04,6.04,6.04,6.04,6.04,6.04,6.04,6.04,6.04,6.04,6.04,6.04,6.04,6.04,6.04,6.04,6.04,6.04,6.04,6.04,6.04,6.04,6.04,6.04,6.04,6.04,6.04,6.04,6.04,6.04,6.04,6.04,6.04,6.04,6.03,6.04,6.04,6.04,6.04,6.04,6.03,6.03,6.03,6.03,6.03,6.03,6.03,6.03,6.03,6.03,6.03,6.03,6.03,6.03,6.03,6.03,6.03,6.03,6.03,6.03,6.03,6.03,6.03,6.03,6.03,6.03,6.03,6.03,6.03,6.03,6.03,6.03,6.03,6.03,6.03,6.03,6.03,6.03,6.03,6.03,6.03,6.03,6.03,6.03,6.03,6.03,6.03,6.03,6.03,6.03,6.03,6.03,6.03,6.03,6.03,6.03,6.02,6.02,6.02,6.02,6.02,6.02,6.02,6.02,6.02,6.02,6.02,6.02,6.02,6.02,6.02,6.02,6.02,6.02,6.02,6.02,6.02,6.02,6.02,6.02,6.01,6.02,6.02,6.02,6.02,6.02,6.02,6.02,6.02,6.02,6.02,6.02,6.02,6.02,6.02,6.02,6.01,6.01,6.01,6.01,6.01,6.01,6.01,6.01,6.01,6.01,6.01,6.01,6.01,6.01,6.01,6.01,6.01,6.01,6.01,6.01,6.01,6.01,6.01,6.01,6.01,6.01,6.01,6.01,6.01,6.01,6.01,6.01,6.01,6.01,6.01,6.01,6.01,6.01,6.01,6.01,6.01,6.01,6.01,6.01,6.01,6.0,6.0,6.0,6.0,6.0,6.0,6.0,6.0,6.0,6.0,6.0,6.0,6.0,6.0,6.0,6.0,6.0,6.0,6.0,6.0,6.0,6.0,6.0,6.0,6.0,6.0,6.0,6.0,6.0,6.0,6.0,6.0,6.0,6.0,6.0,6.0,6.0,6.0,6.0,6.0,6.0,5.99,5.99,5.99,5.99,5.99,5.99,5.99,5.99,5.99,5.99,5.99,5.99,5.99,5.99,5.99,5.99,5.99,5.99,5.99,5.99,5.99,5.99,5.99,5.99,5.99,5.99,5.99,5.99,5.99,5.99,5.99,5.99,5.99,5.99,5.99,5.99,5.99,5.99,5.99,5.99,5.99,5.99,5.99,5.99,5.98,5.98,5.98,5.98,5.98,5.98,5.98,5.98,5.98,5.98,5.98,5.98,5.98,5.98,5.98,5.98,5.98,5.98,5.98,5.98,5.98,5.98,5.98,5.98,5.98,5.98,5.98,5.98,5.98,5.98,5.98,5.98,5.98,5.98,5.98,5.98,5.98,5.98,5.98,5.98,5.98,5.97,5.97,5.97,5.97,5.97,5.97,5.97,5.97,5.97,5.97,5.97,5.97,5.97,5.97,5.97,5.97,5.97,5.97,5.97,5.97,5.97,5.97,5.97,5.97,5.97,5.97,5.97,5.97,5.97,5.97,5.97,5.97,5.97,5.97,5.97,5.97,5.97,5.97,5.97,5.97,5.97,5.97,5.97,5.97,5.97,5.97,5.97,5.97,5.97,5.97,5.97,5.97,5.97,5.97,5.97,5.96,5.96,5.96,5.96,5.96,5.96,5.96,5.96,5.96,5.96,5.96,5.96,5.96,5.96,5.96,5.96,5.96,5.96,5.96,5.96,5.96,5.96,5.96,5.96,5.96,5.96,5.96,5.96,5.96,5.96,5.96,5.96,5.96,5.96,5.96,5.96,5.96,5.96,5.96,5.96,5.96,5.96,5.96,5.96,5.96,5.96,5.95,5.95,5.95,5.95,5.95,5.95,5.95,5.95,5.95,5.95,5.95,5.95,5.95,5.95,5.95,5.95,5.95,5.95,5.95,5.95,5.95,5.95,5.95,5.95,5.95,5.95,5.95,5.95,5.95,5.95,5.95,5.95,5.95,5.95,5.95,5.95,5.95,5.95,5.95,5.95,5.95,5.95,5.95,5.94,5.94,5.94,5.94,5.94,5.94,5.94,5.94,5.94,5.94,5.94,5.94,5.94,5.94,5.94,5.94,5.94,5.94,5.94,5.94,5.94,5.94,5.94,5.94,5.94,5.94,5.94,5.94,5.94,5.94,5.94,5.94,5.94,5.94,5.94,5.94,5.94,5.94,5.94,5.94,5.94,5.94,5.94,5.94,5.94,5.94,5.93,5.93,5.93,5.93,5.93,5.93,5.93,5.93,5.93,5.93,5.93,5.93,5.93,5.93,5.93,5.93,5.93,5.93,5.93,5.93,5.93,5.93,5.93,5.93,5.93,5.93,5.93,5.93,5.93,5.93,5.93,5.93,5.93,5.93,5.93,5.93,5.93,5.93,5.93,5.93,5.93,5.92,5.92,5.92,5.92,5.92,5.92,5.92,5.92,5.92,5.92,5.92,5.92,5.92,5.92,5.92,5.92,5.92,5.92,5.92,5.92,5.92,5.92,5.92,5.92,5.92,5.92,5.92,5.92,5.92,5.92,5.92,5.92,5.92,5.92,5.92,5.92,5.92,5.92,5.92,5.92,5.92,5.92,5.91,5.91,5.91,5.91,5.91,5.91,5.91,5.91,5.91,5.91,5.91,5.91,5.91,5.91,5.91,5.91,5.91,5.91,5.91,5.91,5.91,5.91,5.91,5.91,5.91,5.91,5.91,5.91,5.91,5.91,5.91,5.91,5.91,5.91,5.91,5.91,5.91,5.91,5.91,5.91,5.9,5.9,5.9,5.9,5.9,5.9,5.9,5.9,5.9,5.9,5.9,5.9,5.9,5.9,5.9,5.9,5.9,5.9,5.9,5.9,5.9,5.9,5.9,5.9,5.9,5.9,5.9,5.9,5.9,5.9,5.9,5.9,5.9,5.9,5.9,5.9,5.9,5.9,5.9,5.9,5.9,5.9,5.9,5.9,5.9,5.9,5.9,5.9,5.9,5.9,5.88,5.89,5.89,5.89,5.89,5.89,5.89,5.89,5.89,5.89,5.89,5.89,5.89,5.89,5.89,5.89,5.89,5.89,5.89,5.89,5.89,5.89,5.89,5.89,5.89,5.89,5.89,5.89,5.89,5.89,5.89,5.89,5.89,5.89,5.88,5.88,5.88,5.88,5.88,5.88,5.88,5.88,5.88,5.88,5.88,5.88,5.88,5.88,5.88,5.88,5.88,5.88,5.88,5.88,5.88,5.88,5.88,5.88,5.88,5.88,5.88,5.88,5.88,5.88,5.88,5.88,5.88,5.88,5.88,5.88,5.88,5.88,5.88,5.88,5.88,5.88,5.88,5.87,5.87,5.87,5.87,5.87,5.87,5.87,5.87,5.87,5.87,5.87,5.87,5.87,5.87,5.87,5.87,5.87,5.87,5.87,5.87,5.87,5.87,5.87,5.87,5.87,5.87,5.87,5.87,5.87,5.87,5.87,5.87,5.87,5.86,5.86,5.86,5.86,5.86,5.86,5.86,5.86,5.86,5.86,5.86,5.86,5.86,5.86,5.86,5.86,5.86,5.86,5.86,5.86,5.86,5.86,5.86,5.86,5.86,5.86,5.86,5.86,5.86,5.86,5.86,5.86,5.86,5.86,5.86,5.86,5.86,5.85,5.85,5.85,5.85,5.85,5.85,5.85,5.85,5.85,5.85,5.85,5.85,5.85,5.85,5.85,5.85,5.85,5.85,5.85,5.85,5.85,5.85,5.85,5.85,5.85,5.85,5.85,5.85,5.85,5.85,5.85,5.85,5.85,5.85,5.85,5.85,5.85,5.85,5.85,5.85,5.85,5.85,5.85,5.84,5.84,5.84,5.84,5.84,5.84,5.84,5.84,5.84,5.84,5.84,5.84,5.84,5.84,5.84,5.84,5.84,5.84,5.84,5.84,5.84,5.84,5.84,5.84,5.84,5.84,5.84,5.84,5.84,5.84,5.84,5.84,5.84,5.84,5.84,5.84,5.84,5.84,5.84,5.84,5.84,5.84,5.84,5.83,5.83,5.83,5.83,5.83,5.83,5.83,5.83,5.83,5.83,5.83,5.83,5.83,5.83,5.83,5.83,5.83,5.83,5.83,5.83,5.83,5.83,5.83,5.83,5.83,5.83,5.83,5.83,5.83,5.83,5.83,5.83,5.83,5.83,5.83,5.83,5.83,5.83,5.83,5.82,5.82,5.82,5.82,5.82,5.82,5.82,5.82,5.82,5.82,5.82,5.82,5.82,5.82,5.82,5.82,5.82,5.82,5.82,5.82,5.82,5.83,5.82,5.82,5.82,5.82,5.82,5.82,5.81,5.81,5.81,5.81,5.81,5.81,5.81,5.81,5.81,5.81,5.81,5.81,5.81,5.81,5.81,5.81,5.81,5.81,5.81,5.81,5.81,5.81,5.81,5.81,5.81,5.81,5.81,5.81,5.81,5.81,5.81,5.81,5.81,5.8,5.8,5.8,5.8,5.8,5.8,5.8,5.8,5.8,5.8,5.8,5.8,5.8,5.8,5.8,5.8,5.8,5.8,5.8,5.8,5.8,5.8,5.8,5.8,5.8,5.8,5.8,5.8,5.8,5.8,5.8,5.8,5.8,5.8,5.79,5.79,5.79,5.79,5.79,5.79,5.79,5.79,5.79,5.79,5.79,5.79,5.79,5.79,5.79,5.79,5.79,5.79,5.79,5.79,5.79,5.79,5.79,5.79,5.79,5.79,5.79,5.79,5.79,5.79,5.79,5.79,5.79,5.79,5.79,5.79,5.79,5.79,5.79,5.79,5.79,5.79,5.79,5.79,5.79,5.79,5.78,5.78,5.78,5.78,5.78,5.78,5.78,5.78,5.78,5.78,5.78,5.78,5.78,5.78,5.78,5.78,5.78,5.78,5.78,5.78,5.78,5.78,5.78,5.78,5.78,5.78,5.78,5.78,5.78,5.78,5.78,5.78,5.78,5.78,5.78,5.78,5.78,5.78,5.78,5.78,5.78,5.77,5.77,5.77,5.77,5.77,5.77,5.77,5.77,5.77,5.77,5.77,5.77,5.77,5.77,5.77,5.77,5.77,5.77,5.77,5.77,5.77,5.77,5.77,5.77,5.77,5.77,5.77,5.77,5.77,5.77,5.77,5.77,5.77,5.77,5.77,5.76,5.76,5.76,5.76,5.76,5.76,5.76,5.76,5.76,5.76,5.76,5.76,5.76,5.76,5.76,5.76,5.76,5.76,5.76,5.76,5.76,5.76,5.76,5.76,5.76,5.76,5.76,5.76,5.76,5.76,5.76,5.76,5.76,5.76,5.76,5.76,5.76,5.76,5.75,5.75,5.75,5.75,5.75,5.75,5.75,5.75,5.75,5.75,5.75,5.75,5.75,5.75,5.75,5.75,5.75,5.75,5.75,5.75,5.75,5.75,5.75,5.75,5.75,5.75,5.75,5.75,5.75,5.75,5.75,5.75,5.75,5.75,5.75,5.74,5.74,5.74,5.74,5.74,5.74,5.74,5.74,5.74,5.74,5.74,5.74,5.74,5.74,5.74,5.74,5.74,5.74,5.74,5.74,5.74,5.74,5.74,5.74,5.74,5.74,5.74,5.74,5.74,5.74,5.74,5.74,5.74,5.74,5.74,5.74,5.74,5.74,5.74,5.73,5.73,5.73,5.73,5.73,5.73,5.73,5.73,5.73,5.73,5.73,5.73,5.73,5.73,5.73,5.73,5.73,5.73,5.73,5.73,5.73,5.73,5.73,5.73,5.73,5.73,5.73,5.73,5.73,5.73,5.73,5.73,5.73,5.73,5.73,5.73,5.73,5.73,5.72,5.72,5.72,5.72,5.72,5.72,5.72,5.72,5.72,5.72,5.72,5.72,5.72,5.72,5.72,5.72,5.72,5.72,5.72,5.72,5.72,5.72,5.72,5.72,5.72,5.72,5.72,5.72,5.72,5.72,5.72,5.72,5.72,5.72,5.72,5.72,5.72,5.71,5.71,5.71,5.71,5.71,5.71,5.71,5.71,5.71,5.71,5.71,5.71,5.71,5.71,5.71,5.71,5.71,5.71,5.71,5.71,5.71,5.71,5.71,5.71,5.71,5.71,5.71,5.71,5.71,5.71,5.71,5.71,5.71,5.71,5.71,5.71,5.71,5.71,5.71,5.71,5.71,5.71,5.71,5.71,5.71,5.71,5.7,5.7,5.7,5.7,5.7,5.7,5.7,5.7,5.7,5.7,5.7,5.7,5.7,5.7,5.7,5.7,5.7,5.7,5.7,5.7,5.7,5.7,5.7,5.7,5.7,5.7,5.7,5.7,5.7,5.7,5.7,5.7,5.7,5.7,5.7,5.7,5.7,5.7,5.7,5.7,5.7,5.7,5.69,5.69,5.69,5.69,5.69,5.69,5.69,5.69,5.69,5.69,5.69,5.69,5.69,5.69,5.69,5.69,5.69,5.69,5.69,5.69,5.69,5.69,5.69,5.69,5.69,5.69,5.69,5.69,5.69,5.69,5.69,5.69,5.69,5.69,5.69,5.69,5.68,5.68,5.68,5.68,5.68,5.68,5.68,5.68,5.68,5.68,5.68,5.68,5.68,5.68,5.68,5.68,5.68,5.68,5.68,5.68,5.68,5.68,5.68,5.68,5.68,5.68,5.68,5.68,5.68,5.68,5.68,5.68,5.68,5.68,5.68,5.68,5.68,5.68,5.68,5.68,5.68,5.68,5.68,5.68,5.68,5.68,5.67,5.67,5.67,5.67,5.67,5.67,5.67,5.67,5.67,5.67,5.67,5.67,5.67,5.67,5.67,5.67,5.67,5.67,5.67,5.67,5.67,5.67,5.67,5.67,5.67,5.67,5.67,5.67,5.67,5.67,5.67,5.67,5.67,5.67,5.67,5.67,5.66,5.66,5.66,5.66,5.66,5.66,5.66,5.66,5.66,5.66,5.66,5.66,5.66,5.66,5.66,5.66,5.66,5.66,5.66,5.66,5.66,5.66,5.66,5.66,5.66,5.66,5.66,5.66,5.66,5.66,5.66,5.66,5.65,5.65,5.65,5.65,5.65,5.65,5.65,5.65,5.65,5.65,5.65,5.65,5.65,5.65,5.65,5.65,5.65,5.65,5.65,5.65,5.65,5.65,5.65,5.65,5.65,5.65,5.65,5.65,5.65,5.64,5.64,5.64,5.64,5.64,5.64,5.64,5.64,5.64,5.64,5.64,5.64,5.64,5.64,5.64,5.64,5.64,5.64,5.64,5.64,5.64,5.64,5.64,5.64,5.64,5.64,5.64,5.64,5.64,5.64,5.64,5.64,5.64,5.64,5.64,5.64,5.64,5.63,5.63,5.63,5.63,5.63,5.63,5.63,5.63,5.63,5.63,5.63,5.63,5.63,5.63,5.63,5.63,5.63,5.63,5.63,5.63,5.63,5.63,5.63,5.63,5.63,5.63,5.63,5.63,5.63,5.63,5.63,5.62,5.62,5.62,5.62,5.62,5.62,5.62,5.62,5.62,5.62,5.62,5.62,5.62,5.62,5.62,5.62,5.62,5.62,5.62,5.62,5.62,5.62,5.62,5.62,5.62,5.62,5.62,5.62,5.62,5.62,5.62,5.62,5.62,5.62,5.62,5.62,5.62,5.62,5.61,5.61,5.61,5.61,5.61,5.61,5.61,5.61,5.61,5.61,5.61,5.61,5.61,5.61,5.61,5.61,5.61,5.61,5.61,5.61,5.61,5.61,5.61,5.61,5.61,5.61,5.61,5.61,5.61,5.61,5.61,5.61,5.61,5.61,5.61,5.61,5.61,5.61,5.61,5.61,5.61,5.61,5.6,5.6,5.6,5.6,5.6,5.6,5.6,5.6,5.6,5.6,5.6,5.6,5.6,5.6,5.6,5.6,5.6,5.6,5.6,5.6,5.6,5.6,5.6,5.6,5.6,5.6,5.6,5.6,5.6,5.6,5.6,5.59,5.59,5.59,5.59,5.59,5.59,5.59,5.59,5.59,5.59,5.59,5.59,5.59,5.59,5.59,5.59,5.59,5.59,5.59,5.59,5.59,5.59,5.59,5.59,5.59,5.59,5.59,5.59,5.58,5.58,5.58,5.58,5.57,5.58,5.58,5.58,5.58,5.58,5.58,5.58,5.58,5.58,5.58,5.58,5.58,5.58,5.58,5.58,5.58,5.58,5.58,5.58,5.58,5.58,5.58,5.58,5.57,5.57,5.57,5.57,5.57,5.57,5.57,5.57,5.57,5.57,5.57,5.57,5.57,5.57,5.57,5.57,5.57,5.57,5.57,5.57,5.57,5.57,5.57,5.57,5.57,5.57,5.57,5.57,5.57,5.57,5.57,5.56,5.56,5.56,5.56,5.56,5.56,5.56,5.56,5.56,5.56,5.56,5.56,5.56,5.56,5.56,5.56,5.56,5.56,5.56,5.56,5.56,5.56,5.56,5.56,5.56,5.56,5.56,5.56,5.56,5.56,5.56,5.56,5.56,5.56,5.56,5.56,5.56,5.56,5.56,5.56,5.56,5.56,5.56,5.55,5.55,5.55,5.55,5.55,5.55,5.55,5.55,5.55,5.55,5.55,5.55,5.55,5.55,5.55,5.55,5.55,5.55,5.55,5.55,5.55,5.55,5.55,5.55,5.55,5.55,5.55,5.55,5.55,5.55,5.55,5.55,5.54,5.54,5.54,5.54,5.54,5.54,5.54,5.54,5.54,5.54,5.54,5.54,5.54,5.54,5.54,5.54,5.54,5.54,5.54,5.54,5.54,5.54,5.54,5.54,5.54,5.54,5.54,5.54,5.54,5.54,5.54,5.54,5.54,5.54,5.54,5.53,5.53,5.53,5.53,5.53,5.53,5.53,5.53,5.53,5.53,5.53,5.53,5.53,5.53,5.53,5.53,5.53,5.53,5.53,5.53,5.53,5.53,5.53,5.53,5.53,5.53,5.53,5.53,5.53,5.53,5.53,5.53,5.53,5.53,5.52,5.52,5.52,5.52,5.52,5.52,5.52,5.52,5.52,5.52,5.52,5.52,5.52,5.52,5.52,5.52,5.52,5.52,5.52,5.51,5.51,5.51,5.51,5.51,5.51,5.51,5.51,5.51,5.51,5.51,5.51,5.51,5.51,5.51,5.51,5.51,5.51,5.51,5.51,5.51,5.51,5.51,5.51,5.51,5.51,5.51,5.51,5.51,5.5,5.5,5.5,5.5,5.5,5.5,5.5,5.5,5.5,5.5,5.5,5.5,5.5,5.5,5.5,5.5,5.5,5.5,5.5,5.5,5.5,5.5,5.5,5.5,5.5,5.5,5.5,5.5,5.5,5.5,5.5,5.5,5.5,5.5,5.5,5.5,5.5,5.5,5.49,5.49,5.49,5.49,5.49,5.49,5.49,5.49,5.49,5.49,5.49,5.49,5.49,5.49,5.49,5.49,5.49,5.49,5.49,5.49,5.49,5.49,5.49,5.49,5.49,5.49,5.49,5.49,5.49,5.49,5.49,5.49,5.49,5.48,5.48,5.48,5.48,5.48,5.48,5.48,5.48,5.48,5.48,5.48,5.48,5.48,5.48,5.48,5.48,5.48,5.48,5.48,5.48,5.48,5.48,5.48,5.48,5.48,5.48,5.48,5.48,5.48,5.48,5.47,5.47,5.47,5.47,5.47,5.47,5.47,5.47,5.47,5.47,5.47,5.47,5.47,5.47,5.47,5.47,5.47,5.47,5.47,5.47,5.47,5.47,5.47,5.47,5.47,5.47,5.46,5.46,5.46,5.46,5.46,5.46,5.46,5.46,5.46,5.46,5.46,5.46,5.46,5.46,5.46,5.46,5.46,5.46,5.46,5.46,5.46,5.46,5.46,5.46,5.46,5.46,5.46,5.46,5.46,5.46,5.46,5.46,5.45,5.45,5.45,5.45,5.45,5.45,5.45,5.45,5.45,5.45,5.45,5.45,5.45,5.45,5.45,5.45,5.45,5.45,5.45,5.45,5.45,5.45,5.45,5.45,5.45,5.44,5.44,5.44,5.44,5.44,5.44,5.44,5.44,5.44,5.44,5.44,5.44,5.44,5.44,5.44,5.44,5.44,5.44,5.44,5.44,5.44,5.44,5.44,5.44,5.44,5.44,5.44,5.44,5.44,5.44,5.44,5.44,5.44,5.44,5.43,5.43,5.43,5.43,5.43,5.43,5.43,5.43,5.43,5.43,5.43,5.43,5.43,5.43,5.43,5.43,5.43,5.43,5.43,5.43,5.43,5.42,5.42,5.42,5.42,5.42,5.42,5.42,5.42,5.42,5.42,5.42,5.42,5.42,5.42,5.42,5.42,5.42,5.42,5.42,5.42,5.42,5.42,5.42,5.42,5.42,5.42,5.41,5.41,5.41,5.41,5.41,5.41,5.41,5.41,5.41,5.41,5.41,5.41,5.41,5.41,5.41,5.41,5.41,5.41,5.43,5.41,5.41,5.4,5.4,5.4,5.4,5.4,5.4,5.4,5.4,5.4,5.4,5.4,5.4,5.4,5.4,5.4,5.4,5.4,5.4,5.4,5.4,5.4,5.4,5.4,5.4,5.4,5.4,5.39,5.39,5.39,5.39,5.39,5.39,5.39,5.39,5.39,5.39,5.39,5.39,5.39,5.39,5.39,5.39,5.39,5.39,5.39,5.39,5.39,5.39,5.39,5.39,5.39,5.39,5.39,5.39,5.39,5.39,5.39,5.38,5.38,5.38,5.38,5.38,5.38,5.38,5.38,5.38,5.38,5.38,5.38,5.38,5.38,5.38,5.38,5.38,5.38,5.38,5.38,5.38,5.38,5.37,5.37,5.37,5.37,5.37,5.37,5.37,5.37,5.37,5.37,5.37,5.37,5.37,5.37,5.37,5.37,5.37,5.37,5.37,5.37,5.37,5.37,5.37,5.37,5.37,5.37,5.37,5.37,5.37,5.36,5.36,5.36,5.36,5.36,5.36,5.36,5.36,5.36,5.36,5.36,5.36,5.36,5.36,5.36,5.36,5.36,5.36,5.36,5.36,5.36,5.36,5.36,5.36,5.36,5.36,5.36,5.35,5.35,5.35,5.35,5.35,5.35,5.35,5.35,5.35,5.35,5.35,5.35,5.35,5.35,5.35,5.35,5.35,5.35,5.35,5.35,5.35,5.35,5.35,5.35,5.35,5.35,5.35,5.34,5.34,5.34,5.34,5.34,5.34,5.34,5.34,5.34,5.34,5.34,5.34,5.34,5.34,5.34,5.34,5.34,5.34,5.34,5.34,5.34,5.34,5.34,5.34,5.34,5.34,5.34,5.34,5.34,5.34,5.34,5.34,5.33,5.33,5.33,5.33,5.33,5.33,5.33,5.33,5.33,5.33,5.33,5.33,5.33,5.33,5.33,5.33,5.33,5.33,5.33,5.33,5.33,5.33,5.33,5.33,5.33,5.33,5.33,5.33,5.33,5.33,5.32,5.32,5.32,5.32,5.32,5.32,5.32,5.32,5.32,5.32,5.32,5.32,5.32,5.32,5.32,5.32,5.32,5.32,5.31,5.31,5.31,5.31,5.31,5.31,5.31,5.31,5.31,5.31,5.31,5.31,5.31,5.31,5.31,5.31,5.31,5.31,5.31,5.31,5.31,5.31,5.31,5.31,5.31,5.31,5.31,5.31,5.31,5.31,5.3,5.3,5.3,5.3,5.3,5.3,5.3,5.3,5.3,5.3,5.3,5.3,5.3,5.3,5.3,5.3,5.3,5.3,5.3,5.3,5.3,5.3,5.3,5.29,5.29,5.29,5.29,5.29,5.29,5.29,5.29,5.29,5.29,5.29,5.29,5.29,5.29,5.29,5.29,5.29,5.29,5.28,5.28,5.28,5.28,5.28,5.28,5.28,5.28,5.28,5.28,5.28,5.28,5.28,5.28,5.27,5.27,5.27,5.27,5.27,5.27,5.27,5.27,5.27,5.27,5.27,5.27,5.27,5.27,5.27,5.27,5.27,5.27,5.27,5.27,5.27,5.27,5.27,5.27,5.27,5.27,5.27,5.27,5.27,5.27,5.27,5.26,5.26,5.26,5.26,5.26,5.26,5.26,5.26,5.26,5.26,5.26,5.26,5.26,5.26,5.26,5.25,5.25,5.25,5.25,5.25,5.25,5.25,5.25,5.25,5.25,5.25,5.25,5.25,5.25,5.25,5.25,5.25,5.25,5.25,5.25,5.25,5.24,5.24,5.24,5.24,5.24,5.24,5.24,5.24,5.24,5.24,5.24,5.24,5.24,5.24,5.24,5.24,5.24,5.23,5.23,5.23,5.23,5.23,5.23,5.23,5.23,5.23,5.23,5.23,5.23,5.23,5.23,5.23,5.23,5.23,5.23,5.23,5.23,5.23,5.23,5.23,5.23,5.23,5.23,5.22,5.22,5.22,5.22,5.22,5.22,5.22,5.22,5.22,5.22,5.22,5.22,5.22,5.22,5.22,5.22,5.22,5.22,5.22,5.22,5.21,5.21,5.21,5.21,5.21,5.21,5.21,5.21,5.21,5.21,5.21,5.21,5.21,5.21,5.21,5.21,5.21,5.21,5.21,5.21,5.21,5.21,5.21,5.2,5.2,5.2,5.2,5.2,5.2,5.2,5.2,5.2,5.2,5.2,5.2,5.2,5.2,5.2,5.2,5.2,5.2,5.2,5.2,5.19,5.19,5.19,5.19,5.19,5.19,5.19,5.19,5.19,5.19,5.19,5.19,5.19,5.19,5.19,5.19,5.19,5.19,5.19,5.19,5.19,5.18,5.18,5.18,5.18,5.18,5.18,5.18,5.18,5.18,5.18,5.18,5.18,5.18,5.18,5.18,5.18,5.18,5.18,5.18,5.18,5.18,5.18,5.18,5.18,5.18,5.18,5.18,5.17,5.17,5.17,5.17,5.17,5.17,5.17,5.17,5.17,5.17,5.17,5.17,5.17,5.17,5.17,5.17,5.17,5.17,5.17,5.17,5.17,5.16,5.16,5.16,5.16,5.16,5.16,5.16,5.16,5.16,5.16,5.16,5.16,5.16,5.16,5.16,5.16,5.16,5.16,5.16,5.15,5.15,5.15,5.15,5.15,5.15,5.15,5.15,5.15,5.15,5.14,5.14,5.14,5.14,5.14,5.14,5.14,5.14,5.14,5.14,5.14,5.14,5.14,5.14,5.14,5.14,5.13,5.13,5.13,5.13,5.13,5.13,5.13,5.13,5.13,5.13,5.13,5.13,5.13,5.13,5.13,5.13,5.13,5.13,5.13,5.13,5.12,5.12,5.12,5.12,5.12,5.12,5.12,5.12,5.12,5.12,5.12,5.12,5.12,5.12,5.12,5.12,5.12,5.11,5.11,5.11,5.11,5.11,5.11,5.11,5.11,5.11,5.11,5.11,5.11,5.11,5.11,5.11,5.11,5.11,5.1,5.1,5.1,5.1,5.1,5.1,5.1,5.1,5.1,5.1,5.1,5.1,5.1,5.1,5.1,5.1,5.1,5.1,5.1,5.1,5.1,5.1,5.09,5.09,5.09,5.09,5.09,5.09,5.09,5.09,5.09,5.09,5.09,5.09,5.09,5.09,5.09,5.09,5.09,5.09,5.08,5.08,5.08,5.08,5.08,5.08,5.08,5.08,5.08,5.08,5.08,5.08,5.08,5.08,5.08,5.08,5.08,5.08,5.08,5.08,5.08,5.08,5.08,5.08,5.07,5.07,5.07,5.07,5.07,5.07,5.07,5.07,5.07,5.07,5.07,5.07,5.07,5.07,5.07,5.07,5.07,5.07,5.07,5.07,5.07,5.07,5.07,5.06,5.06,5.06,5.06,5.06,5.06,5.06,5.06,5.06,5.06,5.05,5.05,5.05,5.05,5.05,5.05,5.05,5.05,5.05,5.05,5.05,5.05,5.04,5.04,5.04,5.04,5.04,5.04,5.04,5.04,5.04,5.04,5.04,5.04,5.04,5.04,5.04,5.04,5.03,5.03,5.03,5.03,5.03,5.03,5.03,5.03,5.03,5.03,5.03,5.03,5.03,5.03,5.02,5.02,5.02,5.02,5.02,5.02,5.02,5.02,5.02,5.02,5.02,5.01,5.01,5.01,5.01,5.01,5.01,5.01,5.01,5.01,5.01,5.01,5.01,5.01,5.01,5.0,5.0,5.0,5.0,5.0,5.0,5.0,5.0,5.0,5.0,5.0,4.99,4.99,4.99,4.99,4.99,4.99,4.99,4.99,4.99,4.99,4.98,4.98,4.98,4.98,4.98,4.98,4.98,4.98,4.98,4.98,4.98,4.98,4.98,4.98,4.97,4.97,4.97,4.97,4.97,4.97,4.96,4.96,4.96,4.96,4.96,4.96,4.96,4.96,4.96,4.96,4.96,4.96,4.96,4.96,4.96,4.96,4.96,4.95,4.95,4.95,4.95,4.95,4.95,4.95,4.95,4.95,4.95,4.95,4.95,4.95,4.95,4.95,4.94,4.94,4.94,4.94,4.94,4.94,4.94,4.94,4.93,4.93,4.93,4.92,4.92,4.92,4.92,4.92,4.92,4.92,4.92,4.92,4.92,4.92,4.92,4.91,4.91,4.91,4.91,4.91,4.91,4.91,4.91,4.91,4.91,4.91,4.91,4.9,4.9,4.9,4.9,4.9,4.9,4.9,4.9,4.9,4.9,4.9,4.9,4.89,4.89,4.89,4.89,4.89,4.89,4.89,4.89,4.89,4.89,4.89,4.89,4.89,4.88,4.88,4.88,4.88,4.88,4.88,4.88,4.88,4.88,4.88,4.87,4.87,4.87,4.87,4.87,4.87,4.87,4.87,4.87,4.87,4.87,4.87,4.87,4.87,4.87,4.87,4.87,4.86,4.86,4.86,4.86,4.86,4.86,4.86,4.86,4.85,4.85,4.85,4.85,4.85,4.85,4.85,4.85,4.85,4.85,4.85,4.84,4.84,4.84,4.84,4.84,4.84,4.84,4.84,4.84,4.84,4.84,4.84,4.83,4.83,4.83,4.83,4.83,4.83,4.83,4.83,4.83,4.83,4.83,4.83,4.82,4.8,4.82,4.82,4.82,4.82,4.82,4.82,4.82,4.82,4.82,4.81,4.81,4.81,4.81,4.81,4.81,4.81,4.8,4.8,4.8,4.8,4.8,4.8,4.8,4.8,4.8,4.8,4.8,4.8,4.8,4.8,4.79,4.79,4.79,4.79,4.79,4.79,4.79,4.79,4.79,4.79,4.79,4.78,4.78,4.78,4.78,4.78,4.78,4.78,4.78,4.78,4.78,4.77,4.77,4.77,4.77,4.77,4.77,4.77,4.77,4.77,4.76,4.76,4.76,4.76,4.76,4.76,4.76,4.76,4.76,4.76,4.76,4.76,4.75,4.75,4.75,4.75,4.75,4.75,4.75,4.75,4.75,4.75,4.74,4.74,4.74,4.74,4.74,4.74,4.74,4.74,4.74,4.73,4.73,4.73,4.73,4.73,4.73,4.73,4.73,4.73,4.73,4.72,4.72,4.72,4.72,4.72,4.72,4.72,4.72,4.71,4.71,4.71,4.71,4.71,4.7,4.7,4.7,4.7,4.7,4.7,4.7,4.7,4.7,4.7,4.7,4.7,4.7,4.7,4.69,4.69,4.69,4.69,4.69,4.69,4.69,4.69,4.69,4.68,4.68,4.68,4.68,4.68,4.68,4.68,4.68,4.68,4.68,4.68,4.67,4.67,4.67,4.67,4.67,4.67,4.67,4.67,4.66,4.66,4.66,4.66,4.66,4.66,4.66,4.66,4.66,4.65,4.65,4.65,4.65,4.65,4.65,4.64,4.64,4.64,4.64,4.64,4.64,4.64,4.64,4.64,4.63,4.63,4.63,4.63,4.63,4.63,4.63,4.63,4.63,4.63,4.62,4.62,4.62,4.61,4.61,4.61,4.61,4.61,4.61,4.61,4.6,4.6,4.6,4.6,4.6,4.6,4.6,4.6,4.6,4.6,4.59,4.59,4.59,4.59,4.59,4.59,4.59,4.59,4.58,4.58,4.58,4.58,4.58,4.58,4.57,4.57,4.57,4.57,4.57,4.56,4.56,4.56,4.56,4.55,4.55,4.55,4.55,4.54,4.54,4.53,4.53,4.53,4.53,4.52,4.52,4.52,4.52,4.52,4.52,4.52,4.51,4.51,4.51,4.51,4.51,4.51,4.51,4.51,4.51,4.5,4.5,4.5,4.5,4.5,4.5,4.5,4.5,4.5,4.49,4.49,4.49,4.48,4.48,4.48,4.48,4.48,4.47,4.47,4.47,4.47,4.46,4.46,4.46,4.46,4.45,4.45,4.44,4.44,4.44,4.44,4.44,4.43,4.43,4.43,4.43,4.42,4.42,4.41,4.41,4.41,4.41,4.41,4.41,4.41,4.4,4.39,4.39,4.39,4.39,4.39,4.39,4.39,4.39,4.38,4.38,4.38,4.38,4.37,4.37,4.37,4.36,4.35,4.34,4.34,4.33,4.33,4.33,4.33,4.32,4.32,4.32,4.32,4.32,4.31,4.31,4.31,4.31,4.3,4.3,4.29,4.29,4.28,4.28,4.28,4.26,4.26,4.25,4.25,4.25,4.23,4.22,4.21,4.21,4.21,4.2,4.2,4.2,4.19,4.19,4.19,4.19,4.19,4.18,4.17,4.16,4.16,4.16,4.15,4.15,4.15,4.14,4.14,4.13,4.13,4.12,4.11,4.1,4.1,4.09,4.07,4.06,4.06,4.06,4.05,4.04,4.04,4.04,4.03,4.02,4.01,4.0,3.98,3.94,3.94,3.91,3.91,3.87,3.87,3.87,3.87,3.86,3.84,3.83,3.83,3.82,3.82,3.82,3.81,3.81,3.77,3.76,3.76,3.76,3.75,3.75,3.75,3.73,3.68,3.67,3.65,3.62,3.62,3.61,3.61,3.6,3.6,3.58,3.57,3.57,3.57,3.56,3.53,3.53,3.51,3.51,3.47,3.46,3.42,3.36,3.36,3.35,3.35,3.35,3.33,3.33,3.29,3.29,3.28,3.26,3.22,3.21,3.19,3.15,3.14,3.12,3.09,3.09,3.09,3.06,2.99,2.99,2.96,2.94,2.93,2.91,2.76,2.73,2.64,2.58,2.53,2.37,2.3,2.22,1.98,1.84,null,null],\"xaxis\":\"x\",\"yaxis\":\"y\",\"type\":\"histogram\"}],                        {\"template\":{\"data\":{\"histogram2dcontour\":[{\"type\":\"histogram2dcontour\",\"colorbar\":{\"outlinewidth\":0,\"ticks\":\"\"},\"colorscale\":[[0.0,\"#0d0887\"],[0.1111111111111111,\"#46039f\"],[0.2222222222222222,\"#7201a8\"],[0.3333333333333333,\"#9c179e\"],[0.4444444444444444,\"#bd3786\"],[0.5555555555555556,\"#d8576b\"],[0.6666666666666666,\"#ed7953\"],[0.7777777777777778,\"#fb9f3a\"],[0.8888888888888888,\"#fdca26\"],[1.0,\"#f0f921\"]]}],\"choropleth\":[{\"type\":\"choropleth\",\"colorbar\":{\"outlinewidth\":0,\"ticks\":\"\"}}],\"histogram2d\":[{\"type\":\"histogram2d\",\"colorbar\":{\"outlinewidth\":0,\"ticks\":\"\"},\"colorscale\":[[0.0,\"#0d0887\"],[0.1111111111111111,\"#46039f\"],[0.2222222222222222,\"#7201a8\"],[0.3333333333333333,\"#9c179e\"],[0.4444444444444444,\"#bd3786\"],[0.5555555555555556,\"#d8576b\"],[0.6666666666666666,\"#ed7953\"],[0.7777777777777778,\"#fb9f3a\"],[0.8888888888888888,\"#fdca26\"],[1.0,\"#f0f921\"]]}],\"heatmap\":[{\"type\":\"heatmap\",\"colorbar\":{\"outlinewidth\":0,\"ticks\":\"\"},\"colorscale\":[[0.0,\"#0d0887\"],[0.1111111111111111,\"#46039f\"],[0.2222222222222222,\"#7201a8\"],[0.3333333333333333,\"#9c179e\"],[0.4444444444444444,\"#bd3786\"],[0.5555555555555556,\"#d8576b\"],[0.6666666666666666,\"#ed7953\"],[0.7777777777777778,\"#fb9f3a\"],[0.8888888888888888,\"#fdca26\"],[1.0,\"#f0f921\"]]}],\"heatmapgl\":[{\"type\":\"heatmapgl\",\"colorbar\":{\"outlinewidth\":0,\"ticks\":\"\"},\"colorscale\":[[0.0,\"#0d0887\"],[0.1111111111111111,\"#46039f\"],[0.2222222222222222,\"#7201a8\"],[0.3333333333333333,\"#9c179e\"],[0.4444444444444444,\"#bd3786\"],[0.5555555555555556,\"#d8576b\"],[0.6666666666666666,\"#ed7953\"],[0.7777777777777778,\"#fb9f3a\"],[0.8888888888888888,\"#fdca26\"],[1.0,\"#f0f921\"]]}],\"contourcarpet\":[{\"type\":\"contourcarpet\",\"colorbar\":{\"outlinewidth\":0,\"ticks\":\"\"}}],\"contour\":[{\"type\":\"contour\",\"colorbar\":{\"outlinewidth\":0,\"ticks\":\"\"},\"colorscale\":[[0.0,\"#0d0887\"],[0.1111111111111111,\"#46039f\"],[0.2222222222222222,\"#7201a8\"],[0.3333333333333333,\"#9c179e\"],[0.4444444444444444,\"#bd3786\"],[0.5555555555555556,\"#d8576b\"],[0.6666666666666666,\"#ed7953\"],[0.7777777777777778,\"#fb9f3a\"],[0.8888888888888888,\"#fdca26\"],[1.0,\"#f0f921\"]]}],\"surface\":[{\"type\":\"surface\",\"colorbar\":{\"outlinewidth\":0,\"ticks\":\"\"},\"colorscale\":[[0.0,\"#0d0887\"],[0.1111111111111111,\"#46039f\"],[0.2222222222222222,\"#7201a8\"],[0.3333333333333333,\"#9c179e\"],[0.4444444444444444,\"#bd3786\"],[0.5555555555555556,\"#d8576b\"],[0.6666666666666666,\"#ed7953\"],[0.7777777777777778,\"#fb9f3a\"],[0.8888888888888888,\"#fdca26\"],[1.0,\"#f0f921\"]]}],\"mesh3d\":[{\"type\":\"mesh3d\",\"colorbar\":{\"outlinewidth\":0,\"ticks\":\"\"}}],\"scatter\":[{\"fillpattern\":{\"fillmode\":\"overlay\",\"size\":10,\"solidity\":0.2},\"type\":\"scatter\"}],\"parcoords\":[{\"type\":\"parcoords\",\"line\":{\"colorbar\":{\"outlinewidth\":0,\"ticks\":\"\"}}}],\"scatterpolargl\":[{\"type\":\"scatterpolargl\",\"marker\":{\"colorbar\":{\"outlinewidth\":0,\"ticks\":\"\"}}}],\"bar\":[{\"error_x\":{\"color\":\"#2a3f5f\"},\"error_y\":{\"color\":\"#2a3f5f\"},\"marker\":{\"line\":{\"color\":\"#E5ECF6\",\"width\":0.5},\"pattern\":{\"fillmode\":\"overlay\",\"size\":10,\"solidity\":0.2}},\"type\":\"bar\"}],\"scattergeo\":[{\"type\":\"scattergeo\",\"marker\":{\"colorbar\":{\"outlinewidth\":0,\"ticks\":\"\"}}}],\"scatterpolar\":[{\"type\":\"scatterpolar\",\"marker\":{\"colorbar\":{\"outlinewidth\":0,\"ticks\":\"\"}}}],\"histogram\":[{\"marker\":{\"pattern\":{\"fillmode\":\"overlay\",\"size\":10,\"solidity\":0.2}},\"type\":\"histogram\"}],\"scattergl\":[{\"type\":\"scattergl\",\"marker\":{\"colorbar\":{\"outlinewidth\":0,\"ticks\":\"\"}}}],\"scatter3d\":[{\"type\":\"scatter3d\",\"line\":{\"colorbar\":{\"outlinewidth\":0,\"ticks\":\"\"}},\"marker\":{\"colorbar\":{\"outlinewidth\":0,\"ticks\":\"\"}}}],\"scattermapbox\":[{\"type\":\"scattermapbox\",\"marker\":{\"colorbar\":{\"outlinewidth\":0,\"ticks\":\"\"}}}],\"scatterternary\":[{\"type\":\"scatterternary\",\"marker\":{\"colorbar\":{\"outlinewidth\":0,\"ticks\":\"\"}}}],\"scattercarpet\":[{\"type\":\"scattercarpet\",\"marker\":{\"colorbar\":{\"outlinewidth\":0,\"ticks\":\"\"}}}],\"carpet\":[{\"aaxis\":{\"endlinecolor\":\"#2a3f5f\",\"gridcolor\":\"white\",\"linecolor\":\"white\",\"minorgridcolor\":\"white\",\"startlinecolor\":\"#2a3f5f\"},\"baxis\":{\"endlinecolor\":\"#2a3f5f\",\"gridcolor\":\"white\",\"linecolor\":\"white\",\"minorgridcolor\":\"white\",\"startlinecolor\":\"#2a3f5f\"},\"type\":\"carpet\"}],\"table\":[{\"cells\":{\"fill\":{\"color\":\"#EBF0F8\"},\"line\":{\"color\":\"white\"}},\"header\":{\"fill\":{\"color\":\"#C8D4E3\"},\"line\":{\"color\":\"white\"}},\"type\":\"table\"}],\"barpolar\":[{\"marker\":{\"line\":{\"color\":\"#E5ECF6\",\"width\":0.5},\"pattern\":{\"fillmode\":\"overlay\",\"size\":10,\"solidity\":0.2}},\"type\":\"barpolar\"}],\"pie\":[{\"automargin\":true,\"type\":\"pie\"}]},\"layout\":{\"autotypenumbers\":\"strict\",\"colorway\":[\"#636efa\",\"#EF553B\",\"#00cc96\",\"#ab63fa\",\"#FFA15A\",\"#19d3f3\",\"#FF6692\",\"#B6E880\",\"#FF97FF\",\"#FECB52\"],\"font\":{\"color\":\"#2a3f5f\"},\"hovermode\":\"closest\",\"hoverlabel\":{\"align\":\"left\"},\"paper_bgcolor\":\"white\",\"plot_bgcolor\":\"#E5ECF6\",\"polar\":{\"bgcolor\":\"#E5ECF6\",\"angularaxis\":{\"gridcolor\":\"white\",\"linecolor\":\"white\",\"ticks\":\"\"},\"radialaxis\":{\"gridcolor\":\"white\",\"linecolor\":\"white\",\"ticks\":\"\"}},\"ternary\":{\"bgcolor\":\"#E5ECF6\",\"aaxis\":{\"gridcolor\":\"white\",\"linecolor\":\"white\",\"ticks\":\"\"},\"baxis\":{\"gridcolor\":\"white\",\"linecolor\":\"white\",\"ticks\":\"\"},\"caxis\":{\"gridcolor\":\"white\",\"linecolor\":\"white\",\"ticks\":\"\"}},\"coloraxis\":{\"colorbar\":{\"outlinewidth\":0,\"ticks\":\"\"}},\"colorscale\":{\"sequential\":[[0.0,\"#0d0887\"],[0.1111111111111111,\"#46039f\"],[0.2222222222222222,\"#7201a8\"],[0.3333333333333333,\"#9c179e\"],[0.4444444444444444,\"#bd3786\"],[0.5555555555555556,\"#d8576b\"],[0.6666666666666666,\"#ed7953\"],[0.7777777777777778,\"#fb9f3a\"],[0.8888888888888888,\"#fdca26\"],[1.0,\"#f0f921\"]],\"sequentialminus\":[[0.0,\"#0d0887\"],[0.1111111111111111,\"#46039f\"],[0.2222222222222222,\"#7201a8\"],[0.3333333333333333,\"#9c179e\"],[0.4444444444444444,\"#bd3786\"],[0.5555555555555556,\"#d8576b\"],[0.6666666666666666,\"#ed7953\"],[0.7777777777777778,\"#fb9f3a\"],[0.8888888888888888,\"#fdca26\"],[1.0,\"#f0f921\"]],\"diverging\":[[0,\"#8e0152\"],[0.1,\"#c51b7d\"],[0.2,\"#de77ae\"],[0.3,\"#f1b6da\"],[0.4,\"#fde0ef\"],[0.5,\"#f7f7f7\"],[0.6,\"#e6f5d0\"],[0.7,\"#b8e186\"],[0.8,\"#7fbc41\"],[0.9,\"#4d9221\"],[1,\"#276419\"]]},\"xaxis\":{\"gridcolor\":\"white\",\"linecolor\":\"white\",\"ticks\":\"\",\"title\":{\"standoff\":15},\"zerolinecolor\":\"white\",\"automargin\":true,\"zerolinewidth\":2},\"yaxis\":{\"gridcolor\":\"white\",\"linecolor\":\"white\",\"ticks\":\"\",\"title\":{\"standoff\":15},\"zerolinecolor\":\"white\",\"automargin\":true,\"zerolinewidth\":2},\"scene\":{\"xaxis\":{\"backgroundcolor\":\"#E5ECF6\",\"gridcolor\":\"white\",\"linecolor\":\"white\",\"showbackground\":true,\"ticks\":\"\",\"zerolinecolor\":\"white\",\"gridwidth\":2},\"yaxis\":{\"backgroundcolor\":\"#E5ECF6\",\"gridcolor\":\"white\",\"linecolor\":\"white\",\"showbackground\":true,\"ticks\":\"\",\"zerolinecolor\":\"white\",\"gridwidth\":2},\"zaxis\":{\"backgroundcolor\":\"#E5ECF6\",\"gridcolor\":\"white\",\"linecolor\":\"white\",\"showbackground\":true,\"ticks\":\"\",\"zerolinecolor\":\"white\",\"gridwidth\":2}},\"shapedefaults\":{\"line\":{\"color\":\"#2a3f5f\"}},\"annotationdefaults\":{\"arrowcolor\":\"#2a3f5f\",\"arrowhead\":0,\"arrowwidth\":1},\"geo\":{\"bgcolor\":\"white\",\"landcolor\":\"#E5ECF6\",\"subunitcolor\":\"white\",\"showland\":true,\"showlakes\":true,\"lakecolor\":\"white\"},\"title\":{\"x\":0.05},\"mapbox\":{\"style\":\"light\"}}},\"xaxis\":{\"anchor\":\"y\",\"domain\":[0.0,1.0],\"title\":{\"text\":\"Score promedio\"}},\"yaxis\":{\"anchor\":\"x\",\"domain\":[0.0,1.0],\"title\":{\"text\":\"count\"}},\"legend\":{\"tracegroupgap\":0},\"title\":{\"text\":\"Distribucion de los scores de animes\"},\"barmode\":\"relative\",\"margin\":{\"l\":50,\"r\":50,\"b\":100,\"t\":100,\"pad\":5},\"autosize\":false,\"width\":800,\"height\":500},                        {\"responsive\": true}                    ).then(function(){\n",
       "                            \n",
       "var gd = document.getElementById('710b0938-6efa-4e39-ad81-52750d110096');\n",
       "var x = new MutationObserver(function (mutations, observer) {{\n",
       "        var display = window.getComputedStyle(gd).display;\n",
       "        if (!display || display === 'none') {{\n",
       "            console.log([gd, 'removed!']);\n",
       "            Plotly.purge(gd);\n",
       "            observer.disconnect();\n",
       "        }}\n",
       "}});\n",
       "\n",
       "// Listen for the removal of the full notebook cells\n",
       "var notebookContainer = gd.closest('#notebook-container');\n",
       "if (notebookContainer) {{\n",
       "    x.observe(notebookContainer, {childList: true});\n",
       "}}\n",
       "\n",
       "// Listen for the clearing of the current output cell\n",
       "var outputEl = gd.closest('.output');\n",
       "if (outputEl) {{\n",
       "    x.observe(outputEl, {childList: true});\n",
       "}}\n",
       "\n",
       "                        })                };                });            </script>        </div>"
      ]
     },
     "metadata": {},
     "output_type": "display_data"
    }
   ],
   "source": [
    "import plotly.express as px\n",
    "df = px.data.tips()\n",
    "fig = px.histogram(datos_display, x=\"score\",\n",
    "                   title='Distribucion de los scores de animes',\n",
    "                   labels={'score':'Score promedio'}, # can specify one label per df column\n",
    "                   opacity=0.8,\n",
    "                   log_y=False, # represent bars with log scale\n",
    "                   color_discrete_sequence=['indianred'] # color of histogram bars\n",
    "                   )\n",
    "\n",
    "fig.update_layout(\n",
    "        autosize=False,\n",
    "        width=800,\n",
    "        height=500,\n",
    "        margin=dict(\n",
    "            l=50,\n",
    "            r=50,\n",
    "            b=100,\n",
    "            t=100,\n",
    "            pad=5\n",
    "        )\n",
    "    )\n",
    "fig.show()"
   ]
  },
  {
   "cell_type": "markdown",
   "id": "7e9730a4",
   "metadata": {},
   "source": [
    "<br>\n",
    "<br>\n",
    "<br>\n"
   ]
  },
  {
   "cell_type": "code",
   "execution_count": 10,
   "id": "72fecb3d-32a6-42eb-ba4a-bd66c9177fef",
   "metadata": {
    "tags": []
   },
   "outputs": [],
   "source": [
    "top_10_popular_studios=\\\n",
    "    datos[['studio','members', 'score']]\\\n",
    "    .groupby('studio')\\\n",
    "    .mean()\\\n",
    "    .sort_values(by=\"members\", ascending=False)\\\n",
    "    .head(10)\\\n",
    "    .rename(index=lambda x: x.replace('_', ' ').title())"
   ]
  },
  {
   "cell_type": "code",
   "execution_count": 11,
   "id": "012b7fa0-4ad0-4aa2-a463-c288071afc78",
   "metadata": {},
   "outputs": [
    {
     "data": {
      "text/html": [
       "<div>                            <div id=\"7c2ea181-0f5e-49d1-9225-1694d9c861b3\" class=\"plotly-graph-div\" style=\"height:500px; width:800px;\"></div>            <script type=\"text/javascript\">                require([\"plotly\"], function(Plotly) {                    window.PLOTLYENV=window.PLOTLYENV || {};                                    if (document.getElementById(\"7c2ea181-0f5e-49d1-9225-1694d9c861b3\")) {                    Plotly.newPlot(                        \"7c2ea181-0f5e-49d1-9225-1694d9c861b3\",                        [{\"marker\":{\"color\":\"rgba(55, 83, 109, 0.7)\"},\"name\":\"Popularidad\",\"x\":[\"Studio Bind\",\"White Fox\",\"Wit Studio\",\"Bones\",\"Aic Build\",\"Mappa\",\"Cloverworks\",\"David Production\",\"A 1 Pictures\",\"Lerche\"],\"y\":[536163.75,410588.9512195122,366050.90476190473,321106.4366197183,297174.55555555556,296174.1692307692,290328.3243243243,270820.5813953488,254106.82407407407,252499.0892857143],\"type\":\"bar\"},{\"mode\":\"markers+text\",\"name\":\"Score\",\"text\":[\"8.18\",\"7.28\",\"7.28\",\"7.34\",\"7.01\",\"7.22\",\"7.14\",\"7.31\",\"7.13\",\"7.25\"],\"textposition\":\"top center\",\"x\":[\"Studio Bind\",\"White Fox\",\"Wit Studio\",\"Bones\",\"Aic Build\",\"Mappa\",\"Cloverworks\",\"David Production\",\"A 1 Pictures\",\"Lerche\"],\"y\":[8.182500000000001,7.278048780487804,7.284603174603174,7.336478873239437,7.007777777777778,7.215692307692308,7.136216216216217,7.312093023255814,7.128287037037037,7.246428571428572],\"yaxis\":\"y2\",\"type\":\"scatter\"}],                        {\"bargap\":0.15,\"bargroupgap\":0.1,\"barmode\":\"group\",\"legend\":{\"bgcolor\":\"rgba(255, 255, 255, 0)\",\"bordercolor\":\"rgba(255, 255, 255, 0)\",\"x\":1.1,\"y\":1.0},\"title\":{\"text\":\"Estudios m\\u00e1s populares\"},\"yaxis\":{\"tickfont\":{\"color\":\"rgba(55, 83, 109, 0.7)\"},\"title\":{\"font\":{\"color\":\"rgba(55, 83, 109, 0.7)\"},\"text\":\"Popularidad\"}},\"yaxis2\":{\"overlaying\":\"y\",\"range\":[0,10],\"showgrid\":false,\"side\":\"right\",\"tickfont\":{\"color\":\"rgba(245, 39, 39, 0.8)\"},\"title\":{\"font\":{\"color\":\"rgba(245, 39, 39, 0.8)\"},\"text\":\"Score\"}},\"template\":{\"data\":{\"histogram2dcontour\":[{\"type\":\"histogram2dcontour\",\"colorbar\":{\"outlinewidth\":0,\"ticks\":\"\"},\"colorscale\":[[0.0,\"#0d0887\"],[0.1111111111111111,\"#46039f\"],[0.2222222222222222,\"#7201a8\"],[0.3333333333333333,\"#9c179e\"],[0.4444444444444444,\"#bd3786\"],[0.5555555555555556,\"#d8576b\"],[0.6666666666666666,\"#ed7953\"],[0.7777777777777778,\"#fb9f3a\"],[0.8888888888888888,\"#fdca26\"],[1.0,\"#f0f921\"]]}],\"choropleth\":[{\"type\":\"choropleth\",\"colorbar\":{\"outlinewidth\":0,\"ticks\":\"\"}}],\"histogram2d\":[{\"type\":\"histogram2d\",\"colorbar\":{\"outlinewidth\":0,\"ticks\":\"\"},\"colorscale\":[[0.0,\"#0d0887\"],[0.1111111111111111,\"#46039f\"],[0.2222222222222222,\"#7201a8\"],[0.3333333333333333,\"#9c179e\"],[0.4444444444444444,\"#bd3786\"],[0.5555555555555556,\"#d8576b\"],[0.6666666666666666,\"#ed7953\"],[0.7777777777777778,\"#fb9f3a\"],[0.8888888888888888,\"#fdca26\"],[1.0,\"#f0f921\"]]}],\"heatmap\":[{\"type\":\"heatmap\",\"colorbar\":{\"outlinewidth\":0,\"ticks\":\"\"},\"colorscale\":[[0.0,\"#0d0887\"],[0.1111111111111111,\"#46039f\"],[0.2222222222222222,\"#7201a8\"],[0.3333333333333333,\"#9c179e\"],[0.4444444444444444,\"#bd3786\"],[0.5555555555555556,\"#d8576b\"],[0.6666666666666666,\"#ed7953\"],[0.7777777777777778,\"#fb9f3a\"],[0.8888888888888888,\"#fdca26\"],[1.0,\"#f0f921\"]]}],\"heatmapgl\":[{\"type\":\"heatmapgl\",\"colorbar\":{\"outlinewidth\":0,\"ticks\":\"\"},\"colorscale\":[[0.0,\"#0d0887\"],[0.1111111111111111,\"#46039f\"],[0.2222222222222222,\"#7201a8\"],[0.3333333333333333,\"#9c179e\"],[0.4444444444444444,\"#bd3786\"],[0.5555555555555556,\"#d8576b\"],[0.6666666666666666,\"#ed7953\"],[0.7777777777777778,\"#fb9f3a\"],[0.8888888888888888,\"#fdca26\"],[1.0,\"#f0f921\"]]}],\"contourcarpet\":[{\"type\":\"contourcarpet\",\"colorbar\":{\"outlinewidth\":0,\"ticks\":\"\"}}],\"contour\":[{\"type\":\"contour\",\"colorbar\":{\"outlinewidth\":0,\"ticks\":\"\"},\"colorscale\":[[0.0,\"#0d0887\"],[0.1111111111111111,\"#46039f\"],[0.2222222222222222,\"#7201a8\"],[0.3333333333333333,\"#9c179e\"],[0.4444444444444444,\"#bd3786\"],[0.5555555555555556,\"#d8576b\"],[0.6666666666666666,\"#ed7953\"],[0.7777777777777778,\"#fb9f3a\"],[0.8888888888888888,\"#fdca26\"],[1.0,\"#f0f921\"]]}],\"surface\":[{\"type\":\"surface\",\"colorbar\":{\"outlinewidth\":0,\"ticks\":\"\"},\"colorscale\":[[0.0,\"#0d0887\"],[0.1111111111111111,\"#46039f\"],[0.2222222222222222,\"#7201a8\"],[0.3333333333333333,\"#9c179e\"],[0.4444444444444444,\"#bd3786\"],[0.5555555555555556,\"#d8576b\"],[0.6666666666666666,\"#ed7953\"],[0.7777777777777778,\"#fb9f3a\"],[0.8888888888888888,\"#fdca26\"],[1.0,\"#f0f921\"]]}],\"mesh3d\":[{\"type\":\"mesh3d\",\"colorbar\":{\"outlinewidth\":0,\"ticks\":\"\"}}],\"scatter\":[{\"fillpattern\":{\"fillmode\":\"overlay\",\"size\":10,\"solidity\":0.2},\"type\":\"scatter\"}],\"parcoords\":[{\"type\":\"parcoords\",\"line\":{\"colorbar\":{\"outlinewidth\":0,\"ticks\":\"\"}}}],\"scatterpolargl\":[{\"type\":\"scatterpolargl\",\"marker\":{\"colorbar\":{\"outlinewidth\":0,\"ticks\":\"\"}}}],\"bar\":[{\"error_x\":{\"color\":\"#2a3f5f\"},\"error_y\":{\"color\":\"#2a3f5f\"},\"marker\":{\"line\":{\"color\":\"#E5ECF6\",\"width\":0.5},\"pattern\":{\"fillmode\":\"overlay\",\"size\":10,\"solidity\":0.2}},\"type\":\"bar\"}],\"scattergeo\":[{\"type\":\"scattergeo\",\"marker\":{\"colorbar\":{\"outlinewidth\":0,\"ticks\":\"\"}}}],\"scatterpolar\":[{\"type\":\"scatterpolar\",\"marker\":{\"colorbar\":{\"outlinewidth\":0,\"ticks\":\"\"}}}],\"histogram\":[{\"marker\":{\"pattern\":{\"fillmode\":\"overlay\",\"size\":10,\"solidity\":0.2}},\"type\":\"histogram\"}],\"scattergl\":[{\"type\":\"scattergl\",\"marker\":{\"colorbar\":{\"outlinewidth\":0,\"ticks\":\"\"}}}],\"scatter3d\":[{\"type\":\"scatter3d\",\"line\":{\"colorbar\":{\"outlinewidth\":0,\"ticks\":\"\"}},\"marker\":{\"colorbar\":{\"outlinewidth\":0,\"ticks\":\"\"}}}],\"scattermapbox\":[{\"type\":\"scattermapbox\",\"marker\":{\"colorbar\":{\"outlinewidth\":0,\"ticks\":\"\"}}}],\"scatterternary\":[{\"type\":\"scatterternary\",\"marker\":{\"colorbar\":{\"outlinewidth\":0,\"ticks\":\"\"}}}],\"scattercarpet\":[{\"type\":\"scattercarpet\",\"marker\":{\"colorbar\":{\"outlinewidth\":0,\"ticks\":\"\"}}}],\"carpet\":[{\"aaxis\":{\"endlinecolor\":\"#2a3f5f\",\"gridcolor\":\"white\",\"linecolor\":\"white\",\"minorgridcolor\":\"white\",\"startlinecolor\":\"#2a3f5f\"},\"baxis\":{\"endlinecolor\":\"#2a3f5f\",\"gridcolor\":\"white\",\"linecolor\":\"white\",\"minorgridcolor\":\"white\",\"startlinecolor\":\"#2a3f5f\"},\"type\":\"carpet\"}],\"table\":[{\"cells\":{\"fill\":{\"color\":\"#EBF0F8\"},\"line\":{\"color\":\"white\"}},\"header\":{\"fill\":{\"color\":\"#C8D4E3\"},\"line\":{\"color\":\"white\"}},\"type\":\"table\"}],\"barpolar\":[{\"marker\":{\"line\":{\"color\":\"#E5ECF6\",\"width\":0.5},\"pattern\":{\"fillmode\":\"overlay\",\"size\":10,\"solidity\":0.2}},\"type\":\"barpolar\"}],\"pie\":[{\"automargin\":true,\"type\":\"pie\"}]},\"layout\":{\"autotypenumbers\":\"strict\",\"colorway\":[\"#636efa\",\"#EF553B\",\"#00cc96\",\"#ab63fa\",\"#FFA15A\",\"#19d3f3\",\"#FF6692\",\"#B6E880\",\"#FF97FF\",\"#FECB52\"],\"font\":{\"color\":\"#2a3f5f\"},\"hovermode\":\"closest\",\"hoverlabel\":{\"align\":\"left\"},\"paper_bgcolor\":\"white\",\"plot_bgcolor\":\"#E5ECF6\",\"polar\":{\"bgcolor\":\"#E5ECF6\",\"angularaxis\":{\"gridcolor\":\"white\",\"linecolor\":\"white\",\"ticks\":\"\"},\"radialaxis\":{\"gridcolor\":\"white\",\"linecolor\":\"white\",\"ticks\":\"\"}},\"ternary\":{\"bgcolor\":\"#E5ECF6\",\"aaxis\":{\"gridcolor\":\"white\",\"linecolor\":\"white\",\"ticks\":\"\"},\"baxis\":{\"gridcolor\":\"white\",\"linecolor\":\"white\",\"ticks\":\"\"},\"caxis\":{\"gridcolor\":\"white\",\"linecolor\":\"white\",\"ticks\":\"\"}},\"coloraxis\":{\"colorbar\":{\"outlinewidth\":0,\"ticks\":\"\"}},\"colorscale\":{\"sequential\":[[0.0,\"#0d0887\"],[0.1111111111111111,\"#46039f\"],[0.2222222222222222,\"#7201a8\"],[0.3333333333333333,\"#9c179e\"],[0.4444444444444444,\"#bd3786\"],[0.5555555555555556,\"#d8576b\"],[0.6666666666666666,\"#ed7953\"],[0.7777777777777778,\"#fb9f3a\"],[0.8888888888888888,\"#fdca26\"],[1.0,\"#f0f921\"]],\"sequentialminus\":[[0.0,\"#0d0887\"],[0.1111111111111111,\"#46039f\"],[0.2222222222222222,\"#7201a8\"],[0.3333333333333333,\"#9c179e\"],[0.4444444444444444,\"#bd3786\"],[0.5555555555555556,\"#d8576b\"],[0.6666666666666666,\"#ed7953\"],[0.7777777777777778,\"#fb9f3a\"],[0.8888888888888888,\"#fdca26\"],[1.0,\"#f0f921\"]],\"diverging\":[[0,\"#8e0152\"],[0.1,\"#c51b7d\"],[0.2,\"#de77ae\"],[0.3,\"#f1b6da\"],[0.4,\"#fde0ef\"],[0.5,\"#f7f7f7\"],[0.6,\"#e6f5d0\"],[0.7,\"#b8e186\"],[0.8,\"#7fbc41\"],[0.9,\"#4d9221\"],[1,\"#276419\"]]},\"xaxis\":{\"gridcolor\":\"white\",\"linecolor\":\"white\",\"ticks\":\"\",\"title\":{\"standoff\":15},\"zerolinecolor\":\"white\",\"automargin\":true,\"zerolinewidth\":2},\"yaxis\":{\"gridcolor\":\"white\",\"linecolor\":\"white\",\"ticks\":\"\",\"title\":{\"standoff\":15},\"zerolinecolor\":\"white\",\"automargin\":true,\"zerolinewidth\":2},\"scene\":{\"xaxis\":{\"backgroundcolor\":\"#E5ECF6\",\"gridcolor\":\"white\",\"linecolor\":\"white\",\"showbackground\":true,\"ticks\":\"\",\"zerolinecolor\":\"white\",\"gridwidth\":2},\"yaxis\":{\"backgroundcolor\":\"#E5ECF6\",\"gridcolor\":\"white\",\"linecolor\":\"white\",\"showbackground\":true,\"ticks\":\"\",\"zerolinecolor\":\"white\",\"gridwidth\":2},\"zaxis\":{\"backgroundcolor\":\"#E5ECF6\",\"gridcolor\":\"white\",\"linecolor\":\"white\",\"showbackground\":true,\"ticks\":\"\",\"zerolinecolor\":\"white\",\"gridwidth\":2}},\"shapedefaults\":{\"line\":{\"color\":\"#2a3f5f\"}},\"annotationdefaults\":{\"arrowcolor\":\"#2a3f5f\",\"arrowhead\":0,\"arrowwidth\":1},\"geo\":{\"bgcolor\":\"white\",\"landcolor\":\"#E5ECF6\",\"subunitcolor\":\"white\",\"showland\":true,\"showlakes\":true,\"lakecolor\":\"white\"},\"title\":{\"x\":0.05},\"mapbox\":{\"style\":\"light\"}}},\"margin\":{\"l\":50,\"r\":50,\"b\":100,\"t\":100,\"pad\":5},\"autosize\":false,\"width\":800,\"height\":500},                        {\"responsive\": true}                    ).then(function(){\n",
       "                            \n",
       "var gd = document.getElementById('7c2ea181-0f5e-49d1-9225-1694d9c861b3');\n",
       "var x = new MutationObserver(function (mutations, observer) {{\n",
       "        var display = window.getComputedStyle(gd).display;\n",
       "        if (!display || display === 'none') {{\n",
       "            console.log([gd, 'removed!']);\n",
       "            Plotly.purge(gd);\n",
       "            observer.disconnect();\n",
       "        }}\n",
       "}});\n",
       "\n",
       "// Listen for the removal of the full notebook cells\n",
       "var notebookContainer = gd.closest('#notebook-container');\n",
       "if (notebookContainer) {{\n",
       "    x.observe(notebookContainer, {childList: true});\n",
       "}}\n",
       "\n",
       "// Listen for the clearing of the current output cell\n",
       "var outputEl = gd.closest('.output');\n",
       "if (outputEl) {{\n",
       "    x.observe(outputEl, {childList: true});\n",
       "}}\n",
       "\n",
       "                        })                };                });            </script>        </div>"
      ]
     },
     "metadata": {},
     "output_type": "display_data"
    }
   ],
   "source": [
    "# Definir los datos\n",
    "studios = top_10_popular_studios.index.tolist()\n",
    "members = top_10_popular_studios['members'].tolist()\n",
    "scores = top_10_popular_studios['score'].tolist()\n",
    "\n",
    "# Crear una traza para los miembros\n",
    "trace1 = go.Bar(x=studios, y=members, name='Popularidad', marker=dict(color='rgba(55, 83, 109, 0.7)'))\n",
    "\n",
    "# Crear una traza para los puntajes, que estarán en el eje secundario\n",
    "trace2 = go.Scatter(x=studios, y=scores, name='Score', mode='markers+text', yaxis='y2', textposition='top center', text=[str(round(i, 2)) for i in scores])\n",
    "\n",
    "# Crear un layout, note la 'yaxis2' para la segunda traza\n",
    "layout = go.Layout(\n",
    "    title='Estudios más populares',\n",
    "    yaxis=dict(\n",
    "        title='Popularidad',\n",
    "        titlefont=dict(color='rgba(55, 83, 109, 0.7)'),\n",
    "        tickfont=dict(color='rgba(55, 83, 109, 0.7)')\n",
    "    ),\n",
    "    yaxis2=dict(\n",
    "        title='Score',\n",
    "        overlaying='y',\n",
    "        side='right',\n",
    "        showgrid=False,\n",
    "        titlefont=dict(color='rgba(245, 39, 39, 0.8)'),\n",
    "        tickfont=dict(color='rgba(245, 39, 39, 0.8)'),\n",
    "        range=[0,10]\n",
    "    ),\n",
    "    legend=dict(\n",
    "        x=1.1,\n",
    "        y=1.0,\n",
    "        bgcolor='rgba(255, 255, 255, 0)',\n",
    "        bordercolor='rgba(255, 255, 255, 0)'\n",
    "    ),\n",
    "    barmode='group',\n",
    "    bargap=0.15,\n",
    "    bargroupgap=0.1\n",
    ")\n",
    "\n",
    "\n",
    "\n",
    "\n",
    "fig = go.Figure(data=[trace1, trace2], layout=layout)\n",
    "\n",
    "fig.update_layout(\n",
    "        autosize=False,\n",
    "        width=800,\n",
    "        height=500,\n",
    "        margin=dict(\n",
    "            l=50,\n",
    "            r=50,\n",
    "            b=100,\n",
    "            t=100,\n",
    "            pad=5\n",
    "        )\n",
    "    )\n",
    "    \n",
    "fig.show()"
   ]
  },
  {
   "cell_type": "markdown",
   "id": "094d73b5-7953-4d6d-aa3f-7411ffb728fe",
   "metadata": {},
   "source": [
    "<br>\n",
    "<br>\n",
    "<br>\n"
   ]
  },
  {
   "cell_type": "code",
   "execution_count": 12,
   "id": "dadbd1e2-04d7-44c3-b418-ec81085f2752",
   "metadata": {
    "tags": []
   },
   "outputs": [],
   "source": [
    "top_10_more_episodes_studios = (\n",
    "    datos[['studio','number_episodes','score']]\n",
    "    .groupby('studio')\n",
    "    .agg({\n",
    "        'number_episodes': 'sum',\n",
    "        'score': 'mean'\n",
    "    })\n",
    "    .sort_values(by=\"number_episodes\", ascending=False)\n",
    "    .head(11)\\\n",
    "    .rename(index=lambda x: x.replace('_', ' ').title())\\\n",
    "    .iloc[1:]\n",
    "\n",
    ")\n",
    "#top_studios_list = top_10_popular_studios.index.tolist()\n",
    "#animes_from_top_studios = datos[datos['studio'].isin(top_studios_list)]"
   ]
  },
  {
   "cell_type": "code",
   "execution_count": 13,
   "id": "4dabc411-e93c-4d3e-859b-a09d843b963b",
   "metadata": {},
   "outputs": [
    {
     "data": {
      "text/html": [
       "<div>                            <div id=\"ad41753e-7ad3-4849-b96d-71f3bbdab26d\" class=\"plotly-graph-div\" style=\"height:500px; width:800px;\"></div>            <script type=\"text/javascript\">                require([\"plotly\"], function(Plotly) {                    window.PLOTLYENV=window.PLOTLYENV || {};                                    if (document.getElementById(\"ad41753e-7ad3-4849-b96d-71f3bbdab26d\")) {                    Plotly.newPlot(                        \"ad41753e-7ad3-4849-b96d-71f3bbdab26d\",                        [{\"marker\":{\"color\":\"rgba(55, 83, 109, 0.7)\"},\"name\":\"Episodios\",\"x\":[\"Toei Animation\",\"Sunrise\",\"Shin Ei Animation\",\"Pierrot\",\"Eiken\",\"Nippon Animation\",\"Olm\",\"Madhouse\",\"Tatsunoko Production\",\"Studio Deen\"],\"y\":[12402.0,7632.0,5571.0,5486.0,4999.0,4859.0,4773.0,4505.0,4222.0,4081.0],\"type\":\"bar\"},{\"mode\":\"markers+text\",\"name\":\"Score\",\"text\":[\"6.64\",\"6.85\",\"6.75\",\"6.81\",\"6.33\",\"6.79\",\"6.62\",\"6.93\",\"6.52\",\"6.93\"],\"textposition\":\"top center\",\"x\":[\"Toei Animation\",\"Sunrise\",\"Shin Ei Animation\",\"Pierrot\",\"Eiken\",\"Nippon Animation\",\"Olm\",\"Madhouse\",\"Tatsunoko Production\",\"Studio Deen\"],\"y\":[6.640860832137734,6.847975951903807,6.748187134502924,6.806573705179283,6.333749999999999,6.79187134502924,6.619658119658119,6.926791907514451,6.519139072847682,6.932555555555555],\"yaxis\":\"y2\",\"type\":\"scatter\"}],                        {\"bargap\":0.15,\"bargroupgap\":0.1,\"barmode\":\"group\",\"legend\":{\"bgcolor\":\"rgba(255, 255, 255, 0)\",\"bordercolor\":\"rgba(255, 255, 255, 0)\",\"x\":1.1,\"y\":1.0},\"title\":{\"text\":\"Estudios m\\u00e1s productivos\"},\"yaxis\":{\"tickfont\":{\"color\":\"rgba(55, 83, 109, 0.7)\"},\"title\":{\"font\":{\"color\":\"rgba(55, 83, 109, 0.7)\"},\"text\":\"Episodios\"}},\"yaxis2\":{\"overlaying\":\"y\",\"range\":[0,10],\"showgrid\":false,\"side\":\"right\",\"tickfont\":{\"color\":\"rgba(245, 39, 39, 0.8)\"},\"title\":{\"font\":{\"color\":\"rgba(245, 39, 39, 0.8)\"},\"text\":\"Score\"}},\"template\":{\"data\":{\"histogram2dcontour\":[{\"type\":\"histogram2dcontour\",\"colorbar\":{\"outlinewidth\":0,\"ticks\":\"\"},\"colorscale\":[[0.0,\"#0d0887\"],[0.1111111111111111,\"#46039f\"],[0.2222222222222222,\"#7201a8\"],[0.3333333333333333,\"#9c179e\"],[0.4444444444444444,\"#bd3786\"],[0.5555555555555556,\"#d8576b\"],[0.6666666666666666,\"#ed7953\"],[0.7777777777777778,\"#fb9f3a\"],[0.8888888888888888,\"#fdca26\"],[1.0,\"#f0f921\"]]}],\"choropleth\":[{\"type\":\"choropleth\",\"colorbar\":{\"outlinewidth\":0,\"ticks\":\"\"}}],\"histogram2d\":[{\"type\":\"histogram2d\",\"colorbar\":{\"outlinewidth\":0,\"ticks\":\"\"},\"colorscale\":[[0.0,\"#0d0887\"],[0.1111111111111111,\"#46039f\"],[0.2222222222222222,\"#7201a8\"],[0.3333333333333333,\"#9c179e\"],[0.4444444444444444,\"#bd3786\"],[0.5555555555555556,\"#d8576b\"],[0.6666666666666666,\"#ed7953\"],[0.7777777777777778,\"#fb9f3a\"],[0.8888888888888888,\"#fdca26\"],[1.0,\"#f0f921\"]]}],\"heatmap\":[{\"type\":\"heatmap\",\"colorbar\":{\"outlinewidth\":0,\"ticks\":\"\"},\"colorscale\":[[0.0,\"#0d0887\"],[0.1111111111111111,\"#46039f\"],[0.2222222222222222,\"#7201a8\"],[0.3333333333333333,\"#9c179e\"],[0.4444444444444444,\"#bd3786\"],[0.5555555555555556,\"#d8576b\"],[0.6666666666666666,\"#ed7953\"],[0.7777777777777778,\"#fb9f3a\"],[0.8888888888888888,\"#fdca26\"],[1.0,\"#f0f921\"]]}],\"heatmapgl\":[{\"type\":\"heatmapgl\",\"colorbar\":{\"outlinewidth\":0,\"ticks\":\"\"},\"colorscale\":[[0.0,\"#0d0887\"],[0.1111111111111111,\"#46039f\"],[0.2222222222222222,\"#7201a8\"],[0.3333333333333333,\"#9c179e\"],[0.4444444444444444,\"#bd3786\"],[0.5555555555555556,\"#d8576b\"],[0.6666666666666666,\"#ed7953\"],[0.7777777777777778,\"#fb9f3a\"],[0.8888888888888888,\"#fdca26\"],[1.0,\"#f0f921\"]]}],\"contourcarpet\":[{\"type\":\"contourcarpet\",\"colorbar\":{\"outlinewidth\":0,\"ticks\":\"\"}}],\"contour\":[{\"type\":\"contour\",\"colorbar\":{\"outlinewidth\":0,\"ticks\":\"\"},\"colorscale\":[[0.0,\"#0d0887\"],[0.1111111111111111,\"#46039f\"],[0.2222222222222222,\"#7201a8\"],[0.3333333333333333,\"#9c179e\"],[0.4444444444444444,\"#bd3786\"],[0.5555555555555556,\"#d8576b\"],[0.6666666666666666,\"#ed7953\"],[0.7777777777777778,\"#fb9f3a\"],[0.8888888888888888,\"#fdca26\"],[1.0,\"#f0f921\"]]}],\"surface\":[{\"type\":\"surface\",\"colorbar\":{\"outlinewidth\":0,\"ticks\":\"\"},\"colorscale\":[[0.0,\"#0d0887\"],[0.1111111111111111,\"#46039f\"],[0.2222222222222222,\"#7201a8\"],[0.3333333333333333,\"#9c179e\"],[0.4444444444444444,\"#bd3786\"],[0.5555555555555556,\"#d8576b\"],[0.6666666666666666,\"#ed7953\"],[0.7777777777777778,\"#fb9f3a\"],[0.8888888888888888,\"#fdca26\"],[1.0,\"#f0f921\"]]}],\"mesh3d\":[{\"type\":\"mesh3d\",\"colorbar\":{\"outlinewidth\":0,\"ticks\":\"\"}}],\"scatter\":[{\"fillpattern\":{\"fillmode\":\"overlay\",\"size\":10,\"solidity\":0.2},\"type\":\"scatter\"}],\"parcoords\":[{\"type\":\"parcoords\",\"line\":{\"colorbar\":{\"outlinewidth\":0,\"ticks\":\"\"}}}],\"scatterpolargl\":[{\"type\":\"scatterpolargl\",\"marker\":{\"colorbar\":{\"outlinewidth\":0,\"ticks\":\"\"}}}],\"bar\":[{\"error_x\":{\"color\":\"#2a3f5f\"},\"error_y\":{\"color\":\"#2a3f5f\"},\"marker\":{\"line\":{\"color\":\"#E5ECF6\",\"width\":0.5},\"pattern\":{\"fillmode\":\"overlay\",\"size\":10,\"solidity\":0.2}},\"type\":\"bar\"}],\"scattergeo\":[{\"type\":\"scattergeo\",\"marker\":{\"colorbar\":{\"outlinewidth\":0,\"ticks\":\"\"}}}],\"scatterpolar\":[{\"type\":\"scatterpolar\",\"marker\":{\"colorbar\":{\"outlinewidth\":0,\"ticks\":\"\"}}}],\"histogram\":[{\"marker\":{\"pattern\":{\"fillmode\":\"overlay\",\"size\":10,\"solidity\":0.2}},\"type\":\"histogram\"}],\"scattergl\":[{\"type\":\"scattergl\",\"marker\":{\"colorbar\":{\"outlinewidth\":0,\"ticks\":\"\"}}}],\"scatter3d\":[{\"type\":\"scatter3d\",\"line\":{\"colorbar\":{\"outlinewidth\":0,\"ticks\":\"\"}},\"marker\":{\"colorbar\":{\"outlinewidth\":0,\"ticks\":\"\"}}}],\"scattermapbox\":[{\"type\":\"scattermapbox\",\"marker\":{\"colorbar\":{\"outlinewidth\":0,\"ticks\":\"\"}}}],\"scatterternary\":[{\"type\":\"scatterternary\",\"marker\":{\"colorbar\":{\"outlinewidth\":0,\"ticks\":\"\"}}}],\"scattercarpet\":[{\"type\":\"scattercarpet\",\"marker\":{\"colorbar\":{\"outlinewidth\":0,\"ticks\":\"\"}}}],\"carpet\":[{\"aaxis\":{\"endlinecolor\":\"#2a3f5f\",\"gridcolor\":\"white\",\"linecolor\":\"white\",\"minorgridcolor\":\"white\",\"startlinecolor\":\"#2a3f5f\"},\"baxis\":{\"endlinecolor\":\"#2a3f5f\",\"gridcolor\":\"white\",\"linecolor\":\"white\",\"minorgridcolor\":\"white\",\"startlinecolor\":\"#2a3f5f\"},\"type\":\"carpet\"}],\"table\":[{\"cells\":{\"fill\":{\"color\":\"#EBF0F8\"},\"line\":{\"color\":\"white\"}},\"header\":{\"fill\":{\"color\":\"#C8D4E3\"},\"line\":{\"color\":\"white\"}},\"type\":\"table\"}],\"barpolar\":[{\"marker\":{\"line\":{\"color\":\"#E5ECF6\",\"width\":0.5},\"pattern\":{\"fillmode\":\"overlay\",\"size\":10,\"solidity\":0.2}},\"type\":\"barpolar\"}],\"pie\":[{\"automargin\":true,\"type\":\"pie\"}]},\"layout\":{\"autotypenumbers\":\"strict\",\"colorway\":[\"#636efa\",\"#EF553B\",\"#00cc96\",\"#ab63fa\",\"#FFA15A\",\"#19d3f3\",\"#FF6692\",\"#B6E880\",\"#FF97FF\",\"#FECB52\"],\"font\":{\"color\":\"#2a3f5f\"},\"hovermode\":\"closest\",\"hoverlabel\":{\"align\":\"left\"},\"paper_bgcolor\":\"white\",\"plot_bgcolor\":\"#E5ECF6\",\"polar\":{\"bgcolor\":\"#E5ECF6\",\"angularaxis\":{\"gridcolor\":\"white\",\"linecolor\":\"white\",\"ticks\":\"\"},\"radialaxis\":{\"gridcolor\":\"white\",\"linecolor\":\"white\",\"ticks\":\"\"}},\"ternary\":{\"bgcolor\":\"#E5ECF6\",\"aaxis\":{\"gridcolor\":\"white\",\"linecolor\":\"white\",\"ticks\":\"\"},\"baxis\":{\"gridcolor\":\"white\",\"linecolor\":\"white\",\"ticks\":\"\"},\"caxis\":{\"gridcolor\":\"white\",\"linecolor\":\"white\",\"ticks\":\"\"}},\"coloraxis\":{\"colorbar\":{\"outlinewidth\":0,\"ticks\":\"\"}},\"colorscale\":{\"sequential\":[[0.0,\"#0d0887\"],[0.1111111111111111,\"#46039f\"],[0.2222222222222222,\"#7201a8\"],[0.3333333333333333,\"#9c179e\"],[0.4444444444444444,\"#bd3786\"],[0.5555555555555556,\"#d8576b\"],[0.6666666666666666,\"#ed7953\"],[0.7777777777777778,\"#fb9f3a\"],[0.8888888888888888,\"#fdca26\"],[1.0,\"#f0f921\"]],\"sequentialminus\":[[0.0,\"#0d0887\"],[0.1111111111111111,\"#46039f\"],[0.2222222222222222,\"#7201a8\"],[0.3333333333333333,\"#9c179e\"],[0.4444444444444444,\"#bd3786\"],[0.5555555555555556,\"#d8576b\"],[0.6666666666666666,\"#ed7953\"],[0.7777777777777778,\"#fb9f3a\"],[0.8888888888888888,\"#fdca26\"],[1.0,\"#f0f921\"]],\"diverging\":[[0,\"#8e0152\"],[0.1,\"#c51b7d\"],[0.2,\"#de77ae\"],[0.3,\"#f1b6da\"],[0.4,\"#fde0ef\"],[0.5,\"#f7f7f7\"],[0.6,\"#e6f5d0\"],[0.7,\"#b8e186\"],[0.8,\"#7fbc41\"],[0.9,\"#4d9221\"],[1,\"#276419\"]]},\"xaxis\":{\"gridcolor\":\"white\",\"linecolor\":\"white\",\"ticks\":\"\",\"title\":{\"standoff\":15},\"zerolinecolor\":\"white\",\"automargin\":true,\"zerolinewidth\":2},\"yaxis\":{\"gridcolor\":\"white\",\"linecolor\":\"white\",\"ticks\":\"\",\"title\":{\"standoff\":15},\"zerolinecolor\":\"white\",\"automargin\":true,\"zerolinewidth\":2},\"scene\":{\"xaxis\":{\"backgroundcolor\":\"#E5ECF6\",\"gridcolor\":\"white\",\"linecolor\":\"white\",\"showbackground\":true,\"ticks\":\"\",\"zerolinecolor\":\"white\",\"gridwidth\":2},\"yaxis\":{\"backgroundcolor\":\"#E5ECF6\",\"gridcolor\":\"white\",\"linecolor\":\"white\",\"showbackground\":true,\"ticks\":\"\",\"zerolinecolor\":\"white\",\"gridwidth\":2},\"zaxis\":{\"backgroundcolor\":\"#E5ECF6\",\"gridcolor\":\"white\",\"linecolor\":\"white\",\"showbackground\":true,\"ticks\":\"\",\"zerolinecolor\":\"white\",\"gridwidth\":2}},\"shapedefaults\":{\"line\":{\"color\":\"#2a3f5f\"}},\"annotationdefaults\":{\"arrowcolor\":\"#2a3f5f\",\"arrowhead\":0,\"arrowwidth\":1},\"geo\":{\"bgcolor\":\"white\",\"landcolor\":\"#E5ECF6\",\"subunitcolor\":\"white\",\"showland\":true,\"showlakes\":true,\"lakecolor\":\"white\"},\"title\":{\"x\":0.05},\"mapbox\":{\"style\":\"light\"}}},\"margin\":{\"l\":50,\"r\":50,\"b\":100,\"t\":100,\"pad\":5},\"autosize\":false,\"width\":800,\"height\":500},                        {\"responsive\": true}                    ).then(function(){\n",
       "                            \n",
       "var gd = document.getElementById('ad41753e-7ad3-4849-b96d-71f3bbdab26d');\n",
       "var x = new MutationObserver(function (mutations, observer) {{\n",
       "        var display = window.getComputedStyle(gd).display;\n",
       "        if (!display || display === 'none') {{\n",
       "            console.log([gd, 'removed!']);\n",
       "            Plotly.purge(gd);\n",
       "            observer.disconnect();\n",
       "        }}\n",
       "}});\n",
       "\n",
       "// Listen for the removal of the full notebook cells\n",
       "var notebookContainer = gd.closest('#notebook-container');\n",
       "if (notebookContainer) {{\n",
       "    x.observe(notebookContainer, {childList: true});\n",
       "}}\n",
       "\n",
       "// Listen for the clearing of the current output cell\n",
       "var outputEl = gd.closest('.output');\n",
       "if (outputEl) {{\n",
       "    x.observe(outputEl, {childList: true});\n",
       "}}\n",
       "\n",
       "                        })                };                });            </script>        </div>"
      ]
     },
     "metadata": {},
     "output_type": "display_data"
    }
   ],
   "source": [
    "# Definir los datos\n",
    "studios = top_10_more_episodes_studios.index.tolist()\n",
    "episodes = top_10_more_episodes_studios['number_episodes'].tolist()\n",
    "scores = top_10_more_episodes_studios['score'].tolist()\n",
    "\n",
    "# Crear una traza para los miembros\n",
    "trace1 = go.Bar(x=studios, y=episodes, name='Episodios', marker=dict(color='rgba(55, 83, 109, 0.7)'))\n",
    "\n",
    "# Crear una traza para los puntajes, que estarán en el eje secundario\n",
    "trace2 = go.Scatter(x=studios, y=scores, name='Score', mode='markers+text', yaxis='y2', textposition='top center', text=[str(round(i, 2)) for i in scores])\n",
    "\n",
    "# Crear un layout, note la 'yaxis2' para la segunda traza\n",
    "layout = go.Layout(\n",
    "    title='Estudios más productivos',\n",
    "    yaxis=dict(\n",
    "        title='Episodios',\n",
    "        titlefont=dict(color='rgba(55, 83, 109, 0.7)'),\n",
    "        tickfont=dict(color='rgba(55, 83, 109, 0.7)')\n",
    "    ),\n",
    "    yaxis2=dict(\n",
    "        title='Score',\n",
    "        overlaying='y',\n",
    "        side='right',\n",
    "        showgrid=False,\n",
    "        titlefont=dict(color='rgba(245, 39, 39, 0.8)'),\n",
    "        tickfont=dict(color='rgba(245, 39, 39, 0.8)'),\n",
    "        range=[0,10]\n",
    "    ),\n",
    "    legend=dict(\n",
    "        x=1.1,\n",
    "        y=1.0,\n",
    "        bgcolor='rgba(255, 255, 255, 0)',\n",
    "        bordercolor='rgba(255, 255, 255, 0)'\n",
    "    ),\n",
    "    barmode='group',\n",
    "    bargap=0.15,\n",
    "    bargroupgap=0.1\n",
    ")\n",
    "\n",
    "\n",
    "\n",
    "\n",
    "fig = go.Figure(data=[trace1, trace2], layout=layout)\n",
    "\n",
    "fig.update_layout(\n",
    "        autosize=False,\n",
    "        width=800,\n",
    "        height=500,\n",
    "        margin=dict(\n",
    "            l=50,\n",
    "            r=50,\n",
    "            b=100,\n",
    "            t=100,\n",
    "            pad=5\n",
    "        )\n",
    "    )\n",
    "    \n",
    "fig.show()"
   ]
  },
  {
   "cell_type": "markdown",
   "id": "5eb4bd2b-281e-430b-a7af-5c972d201f8a",
   "metadata": {},
   "source": [
    "<br>\n",
    "<br>\n",
    "<br>\n"
   ]
  },
  {
   "cell_type": "code",
   "execution_count": 14,
   "id": "8d1ae78d-a64c-45d4-9543-a00a6082e1cc",
   "metadata": {},
   "outputs": [],
   "source": [
    "top10_popular_demographics = datos[['demographics','members','score']]\\\n",
    "    .groupby(\"demographics\")\\\n",
    "    .mean()\\\n",
    "    .drop(\"not_available\", axis=0,errors='ignore')\\\n",
    "    .sort_values(by=\"members\", ascending = False)\\\n",
    "    .rename(index=lambda x: x.replace('_', ' ').title())"
   ]
  },
  {
   "cell_type": "code",
   "execution_count": 15,
   "id": "cddc4da3-7a81-404f-9dda-60a5d91276c8",
   "metadata": {},
   "outputs": [
    {
     "data": {
      "text/html": [
       "<div>                            <div id=\"f03523c5-c618-4462-8c67-a08b7e7704a8\" class=\"plotly-graph-div\" style=\"height:500px; width:800px;\"></div>            <script type=\"text/javascript\">                require([\"plotly\"], function(Plotly) {                    window.PLOTLYENV=window.PLOTLYENV || {};                                    if (document.getElementById(\"f03523c5-c618-4462-8c67-a08b7e7704a8\")) {                    Plotly.newPlot(                        \"f03523c5-c618-4462-8c67-a08b7e7704a8\",                        [{\"marker\":{\"color\":\"rgba(55, 83, 109, 0.7)\"},\"name\":\"Popularidad\",\"x\":[\"Shounen\",\"Seinen\",\"Josei\",\"Shoujo\",\"Kids\",\"Kids, Shounen\",\"Kids, Shoujo\"],\"y\":[157614.11137162955,113517.88475390156,77832.28125,64228.3506044905,9063.181200453002,6868.557692307692,2475.2],\"type\":\"bar\"},{\"mode\":\"markers+text\",\"name\":\"Score\",\"text\":[\"7.07\",\"6.96\",\"6.98\",\"6.78\",\"6.11\",\"6.89\",\"6.56\"],\"textposition\":\"top center\",\"x\":[\"Shounen\",\"Seinen\",\"Josei\",\"Shoujo\",\"Kids\",\"Kids, Shounen\",\"Kids, Shoujo\"],\"y\":[7.072461899179367,6.961464585834333,6.981145833333334,6.782832469775475,6.1120724801812,6.8944230769230765,6.5564],\"yaxis\":\"y2\",\"type\":\"scatter\"}],                        {\"bargap\":0.15,\"bargroupgap\":0.1,\"barmode\":\"group\",\"legend\":{\"bgcolor\":\"rgba(255, 255, 255, 0)\",\"bordercolor\":\"rgba(255, 255, 255, 0)\",\"x\":1.1,\"y\":1.0},\"title\":{\"text\":\"Poblacion objetivo m\\u00e1s popular\"},\"yaxis\":{\"tickfont\":{\"color\":\"rgba(55, 83, 109, 0.7)\"},\"title\":{\"font\":{\"color\":\"rgba(55, 83, 109, 0.7)\"},\"text\":\"Episodios\"}},\"yaxis2\":{\"overlaying\":\"y\",\"range\":[0,10],\"showgrid\":false,\"side\":\"right\",\"tickfont\":{\"color\":\"rgba(245, 39, 39, 0.8)\"},\"title\":{\"font\":{\"color\":\"rgba(245, 39, 39, 0.8)\"},\"text\":\"Score\"}},\"template\":{\"data\":{\"histogram2dcontour\":[{\"type\":\"histogram2dcontour\",\"colorbar\":{\"outlinewidth\":0,\"ticks\":\"\"},\"colorscale\":[[0.0,\"#0d0887\"],[0.1111111111111111,\"#46039f\"],[0.2222222222222222,\"#7201a8\"],[0.3333333333333333,\"#9c179e\"],[0.4444444444444444,\"#bd3786\"],[0.5555555555555556,\"#d8576b\"],[0.6666666666666666,\"#ed7953\"],[0.7777777777777778,\"#fb9f3a\"],[0.8888888888888888,\"#fdca26\"],[1.0,\"#f0f921\"]]}],\"choropleth\":[{\"type\":\"choropleth\",\"colorbar\":{\"outlinewidth\":0,\"ticks\":\"\"}}],\"histogram2d\":[{\"type\":\"histogram2d\",\"colorbar\":{\"outlinewidth\":0,\"ticks\":\"\"},\"colorscale\":[[0.0,\"#0d0887\"],[0.1111111111111111,\"#46039f\"],[0.2222222222222222,\"#7201a8\"],[0.3333333333333333,\"#9c179e\"],[0.4444444444444444,\"#bd3786\"],[0.5555555555555556,\"#d8576b\"],[0.6666666666666666,\"#ed7953\"],[0.7777777777777778,\"#fb9f3a\"],[0.8888888888888888,\"#fdca26\"],[1.0,\"#f0f921\"]]}],\"heatmap\":[{\"type\":\"heatmap\",\"colorbar\":{\"outlinewidth\":0,\"ticks\":\"\"},\"colorscale\":[[0.0,\"#0d0887\"],[0.1111111111111111,\"#46039f\"],[0.2222222222222222,\"#7201a8\"],[0.3333333333333333,\"#9c179e\"],[0.4444444444444444,\"#bd3786\"],[0.5555555555555556,\"#d8576b\"],[0.6666666666666666,\"#ed7953\"],[0.7777777777777778,\"#fb9f3a\"],[0.8888888888888888,\"#fdca26\"],[1.0,\"#f0f921\"]]}],\"heatmapgl\":[{\"type\":\"heatmapgl\",\"colorbar\":{\"outlinewidth\":0,\"ticks\":\"\"},\"colorscale\":[[0.0,\"#0d0887\"],[0.1111111111111111,\"#46039f\"],[0.2222222222222222,\"#7201a8\"],[0.3333333333333333,\"#9c179e\"],[0.4444444444444444,\"#bd3786\"],[0.5555555555555556,\"#d8576b\"],[0.6666666666666666,\"#ed7953\"],[0.7777777777777778,\"#fb9f3a\"],[0.8888888888888888,\"#fdca26\"],[1.0,\"#f0f921\"]]}],\"contourcarpet\":[{\"type\":\"contourcarpet\",\"colorbar\":{\"outlinewidth\":0,\"ticks\":\"\"}}],\"contour\":[{\"type\":\"contour\",\"colorbar\":{\"outlinewidth\":0,\"ticks\":\"\"},\"colorscale\":[[0.0,\"#0d0887\"],[0.1111111111111111,\"#46039f\"],[0.2222222222222222,\"#7201a8\"],[0.3333333333333333,\"#9c179e\"],[0.4444444444444444,\"#bd3786\"],[0.5555555555555556,\"#d8576b\"],[0.6666666666666666,\"#ed7953\"],[0.7777777777777778,\"#fb9f3a\"],[0.8888888888888888,\"#fdca26\"],[1.0,\"#f0f921\"]]}],\"surface\":[{\"type\":\"surface\",\"colorbar\":{\"outlinewidth\":0,\"ticks\":\"\"},\"colorscale\":[[0.0,\"#0d0887\"],[0.1111111111111111,\"#46039f\"],[0.2222222222222222,\"#7201a8\"],[0.3333333333333333,\"#9c179e\"],[0.4444444444444444,\"#bd3786\"],[0.5555555555555556,\"#d8576b\"],[0.6666666666666666,\"#ed7953\"],[0.7777777777777778,\"#fb9f3a\"],[0.8888888888888888,\"#fdca26\"],[1.0,\"#f0f921\"]]}],\"mesh3d\":[{\"type\":\"mesh3d\",\"colorbar\":{\"outlinewidth\":0,\"ticks\":\"\"}}],\"scatter\":[{\"fillpattern\":{\"fillmode\":\"overlay\",\"size\":10,\"solidity\":0.2},\"type\":\"scatter\"}],\"parcoords\":[{\"type\":\"parcoords\",\"line\":{\"colorbar\":{\"outlinewidth\":0,\"ticks\":\"\"}}}],\"scatterpolargl\":[{\"type\":\"scatterpolargl\",\"marker\":{\"colorbar\":{\"outlinewidth\":0,\"ticks\":\"\"}}}],\"bar\":[{\"error_x\":{\"color\":\"#2a3f5f\"},\"error_y\":{\"color\":\"#2a3f5f\"},\"marker\":{\"line\":{\"color\":\"#E5ECF6\",\"width\":0.5},\"pattern\":{\"fillmode\":\"overlay\",\"size\":10,\"solidity\":0.2}},\"type\":\"bar\"}],\"scattergeo\":[{\"type\":\"scattergeo\",\"marker\":{\"colorbar\":{\"outlinewidth\":0,\"ticks\":\"\"}}}],\"scatterpolar\":[{\"type\":\"scatterpolar\",\"marker\":{\"colorbar\":{\"outlinewidth\":0,\"ticks\":\"\"}}}],\"histogram\":[{\"marker\":{\"pattern\":{\"fillmode\":\"overlay\",\"size\":10,\"solidity\":0.2}},\"type\":\"histogram\"}],\"scattergl\":[{\"type\":\"scattergl\",\"marker\":{\"colorbar\":{\"outlinewidth\":0,\"ticks\":\"\"}}}],\"scatter3d\":[{\"type\":\"scatter3d\",\"line\":{\"colorbar\":{\"outlinewidth\":0,\"ticks\":\"\"}},\"marker\":{\"colorbar\":{\"outlinewidth\":0,\"ticks\":\"\"}}}],\"scattermapbox\":[{\"type\":\"scattermapbox\",\"marker\":{\"colorbar\":{\"outlinewidth\":0,\"ticks\":\"\"}}}],\"scatterternary\":[{\"type\":\"scatterternary\",\"marker\":{\"colorbar\":{\"outlinewidth\":0,\"ticks\":\"\"}}}],\"scattercarpet\":[{\"type\":\"scattercarpet\",\"marker\":{\"colorbar\":{\"outlinewidth\":0,\"ticks\":\"\"}}}],\"carpet\":[{\"aaxis\":{\"endlinecolor\":\"#2a3f5f\",\"gridcolor\":\"white\",\"linecolor\":\"white\",\"minorgridcolor\":\"white\",\"startlinecolor\":\"#2a3f5f\"},\"baxis\":{\"endlinecolor\":\"#2a3f5f\",\"gridcolor\":\"white\",\"linecolor\":\"white\",\"minorgridcolor\":\"white\",\"startlinecolor\":\"#2a3f5f\"},\"type\":\"carpet\"}],\"table\":[{\"cells\":{\"fill\":{\"color\":\"#EBF0F8\"},\"line\":{\"color\":\"white\"}},\"header\":{\"fill\":{\"color\":\"#C8D4E3\"},\"line\":{\"color\":\"white\"}},\"type\":\"table\"}],\"barpolar\":[{\"marker\":{\"line\":{\"color\":\"#E5ECF6\",\"width\":0.5},\"pattern\":{\"fillmode\":\"overlay\",\"size\":10,\"solidity\":0.2}},\"type\":\"barpolar\"}],\"pie\":[{\"automargin\":true,\"type\":\"pie\"}]},\"layout\":{\"autotypenumbers\":\"strict\",\"colorway\":[\"#636efa\",\"#EF553B\",\"#00cc96\",\"#ab63fa\",\"#FFA15A\",\"#19d3f3\",\"#FF6692\",\"#B6E880\",\"#FF97FF\",\"#FECB52\"],\"font\":{\"color\":\"#2a3f5f\"},\"hovermode\":\"closest\",\"hoverlabel\":{\"align\":\"left\"},\"paper_bgcolor\":\"white\",\"plot_bgcolor\":\"#E5ECF6\",\"polar\":{\"bgcolor\":\"#E5ECF6\",\"angularaxis\":{\"gridcolor\":\"white\",\"linecolor\":\"white\",\"ticks\":\"\"},\"radialaxis\":{\"gridcolor\":\"white\",\"linecolor\":\"white\",\"ticks\":\"\"}},\"ternary\":{\"bgcolor\":\"#E5ECF6\",\"aaxis\":{\"gridcolor\":\"white\",\"linecolor\":\"white\",\"ticks\":\"\"},\"baxis\":{\"gridcolor\":\"white\",\"linecolor\":\"white\",\"ticks\":\"\"},\"caxis\":{\"gridcolor\":\"white\",\"linecolor\":\"white\",\"ticks\":\"\"}},\"coloraxis\":{\"colorbar\":{\"outlinewidth\":0,\"ticks\":\"\"}},\"colorscale\":{\"sequential\":[[0.0,\"#0d0887\"],[0.1111111111111111,\"#46039f\"],[0.2222222222222222,\"#7201a8\"],[0.3333333333333333,\"#9c179e\"],[0.4444444444444444,\"#bd3786\"],[0.5555555555555556,\"#d8576b\"],[0.6666666666666666,\"#ed7953\"],[0.7777777777777778,\"#fb9f3a\"],[0.8888888888888888,\"#fdca26\"],[1.0,\"#f0f921\"]],\"sequentialminus\":[[0.0,\"#0d0887\"],[0.1111111111111111,\"#46039f\"],[0.2222222222222222,\"#7201a8\"],[0.3333333333333333,\"#9c179e\"],[0.4444444444444444,\"#bd3786\"],[0.5555555555555556,\"#d8576b\"],[0.6666666666666666,\"#ed7953\"],[0.7777777777777778,\"#fb9f3a\"],[0.8888888888888888,\"#fdca26\"],[1.0,\"#f0f921\"]],\"diverging\":[[0,\"#8e0152\"],[0.1,\"#c51b7d\"],[0.2,\"#de77ae\"],[0.3,\"#f1b6da\"],[0.4,\"#fde0ef\"],[0.5,\"#f7f7f7\"],[0.6,\"#e6f5d0\"],[0.7,\"#b8e186\"],[0.8,\"#7fbc41\"],[0.9,\"#4d9221\"],[1,\"#276419\"]]},\"xaxis\":{\"gridcolor\":\"white\",\"linecolor\":\"white\",\"ticks\":\"\",\"title\":{\"standoff\":15},\"zerolinecolor\":\"white\",\"automargin\":true,\"zerolinewidth\":2},\"yaxis\":{\"gridcolor\":\"white\",\"linecolor\":\"white\",\"ticks\":\"\",\"title\":{\"standoff\":15},\"zerolinecolor\":\"white\",\"automargin\":true,\"zerolinewidth\":2},\"scene\":{\"xaxis\":{\"backgroundcolor\":\"#E5ECF6\",\"gridcolor\":\"white\",\"linecolor\":\"white\",\"showbackground\":true,\"ticks\":\"\",\"zerolinecolor\":\"white\",\"gridwidth\":2},\"yaxis\":{\"backgroundcolor\":\"#E5ECF6\",\"gridcolor\":\"white\",\"linecolor\":\"white\",\"showbackground\":true,\"ticks\":\"\",\"zerolinecolor\":\"white\",\"gridwidth\":2},\"zaxis\":{\"backgroundcolor\":\"#E5ECF6\",\"gridcolor\":\"white\",\"linecolor\":\"white\",\"showbackground\":true,\"ticks\":\"\",\"zerolinecolor\":\"white\",\"gridwidth\":2}},\"shapedefaults\":{\"line\":{\"color\":\"#2a3f5f\"}},\"annotationdefaults\":{\"arrowcolor\":\"#2a3f5f\",\"arrowhead\":0,\"arrowwidth\":1},\"geo\":{\"bgcolor\":\"white\",\"landcolor\":\"#E5ECF6\",\"subunitcolor\":\"white\",\"showland\":true,\"showlakes\":true,\"lakecolor\":\"white\"},\"title\":{\"x\":0.05},\"mapbox\":{\"style\":\"light\"}}},\"margin\":{\"l\":50,\"r\":50,\"b\":100,\"t\":100,\"pad\":5},\"autosize\":false,\"width\":800,\"height\":500},                        {\"responsive\": true}                    ).then(function(){\n",
       "                            \n",
       "var gd = document.getElementById('f03523c5-c618-4462-8c67-a08b7e7704a8');\n",
       "var x = new MutationObserver(function (mutations, observer) {{\n",
       "        var display = window.getComputedStyle(gd).display;\n",
       "        if (!display || display === 'none') {{\n",
       "            console.log([gd, 'removed!']);\n",
       "            Plotly.purge(gd);\n",
       "            observer.disconnect();\n",
       "        }}\n",
       "}});\n",
       "\n",
       "// Listen for the removal of the full notebook cells\n",
       "var notebookContainer = gd.closest('#notebook-container');\n",
       "if (notebookContainer) {{\n",
       "    x.observe(notebookContainer, {childList: true});\n",
       "}}\n",
       "\n",
       "// Listen for the clearing of the current output cell\n",
       "var outputEl = gd.closest('.output');\n",
       "if (outputEl) {{\n",
       "    x.observe(outputEl, {childList: true});\n",
       "}}\n",
       "\n",
       "                        })                };                });            </script>        </div>"
      ]
     },
     "metadata": {},
     "output_type": "display_data"
    }
   ],
   "source": [
    "# Definir los datos\n",
    "studios = top10_popular_demographics.index.tolist()\n",
    "members = top10_popular_demographics['members'].tolist()\n",
    "scores = top10_popular_demographics['score'].tolist()\n",
    "\n",
    "# Crear una traza para los miembros\n",
    "trace1 = go.Bar(x=studios, y=members, name='Popularidad', marker=dict(color='rgba(55, 83, 109, 0.7)'))\n",
    "\n",
    "# Crear una traza para los puntajes, que estarán en el eje secundario\n",
    "trace2 = go.Scatter(x=studios, y=scores, name='Score', mode='markers+text', yaxis='y2', textposition='top center', text=[str(round(i, 2)) for i in scores])\n",
    "\n",
    "# Crear un layout, note la 'yaxis2' para la segunda traza\n",
    "layout = go.Layout(\n",
    "    title='Poblacion objetivo más popular',\n",
    "    yaxis=dict(\n",
    "        title='Episodios',\n",
    "        titlefont=dict(color='rgba(55, 83, 109, 0.7)'),\n",
    "        tickfont=dict(color='rgba(55, 83, 109, 0.7)')\n",
    "    ),\n",
    "    yaxis2=dict(\n",
    "        title='Score',\n",
    "        overlaying='y',\n",
    "        side='right',\n",
    "        showgrid=False,\n",
    "        titlefont=dict(color='rgba(245, 39, 39, 0.8)'),\n",
    "        tickfont=dict(color='rgba(245, 39, 39, 0.8)'),\n",
    "        range=[0,10]\n",
    "    ),\n",
    "    legend=dict(\n",
    "        x=1.1,\n",
    "        y=1.0,\n",
    "        bgcolor='rgba(255, 255, 255, 0)',\n",
    "        bordercolor='rgba(255, 255, 255, 0)'\n",
    "    ),\n",
    "    barmode='group',\n",
    "    bargap=0.15,\n",
    "    bargroupgap=0.1\n",
    ")\n",
    "\n",
    "\n",
    "\n",
    "\n",
    "fig = go.Figure(data=[trace1, trace2], layout=layout)\n",
    "\n",
    "fig.update_layout(\n",
    "        autosize=False,\n",
    "        width=800,\n",
    "        height=500,\n",
    "        margin=dict(\n",
    "            l=50,\n",
    "            r=50,\n",
    "            b=100,\n",
    "            t=100,\n",
    "            pad=5\n",
    "        )\n",
    "    )\n",
    "    \n",
    "fig.show()"
   ]
  }
 ],
 "metadata": {
  "kernelspec": {
   "display_name": "Python 3 (ipykernel)",
   "language": "python",
   "name": "python3"
  },
  "language_info": {
   "codemirror_mode": {
    "name": "ipython",
    "version": 3
   },
   "file_extension": ".py",
   "mimetype": "text/x-python",
   "name": "python",
   "nbconvert_exporter": "python",
   "pygments_lexer": "ipython3",
   "version": "3.10.11"
  }
 },
 "nbformat": 4,
 "nbformat_minor": 5
}
